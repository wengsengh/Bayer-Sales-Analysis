{
 "cells": [
  {
   "cell_type": "code",
   "execution_count": 7,
   "id": "c9901d28",
   "metadata": {},
   "outputs": [],
   "source": [
    "import glob \n",
    "import os   \n",
    "import pandas as pd\n",
    "import re \n",
    "import numpy as np\n",
    "import datetime as dt \n",
    "from sklearn.linear_model import LinearRegression\n",
    "import seaborn as sns\n",
    "from matplotlib import pyplot as plt"
   ]
  },
  {
   "cell_type": "code",
   "execution_count": 68,
   "id": "2ddc11d9",
   "metadata": {},
   "outputs": [],
   "source": [
    "os.chdir('C:/Users/ws/demoproject1')"
   ]
  },
  {
   "cell_type": "code",
   "execution_count": 69,
   "id": "daaf3c2a",
   "metadata": {},
   "outputs": [
    {
     "data": {
      "text/plain": [
       "['anti-moth_tablets_sales_2015_2018.xlsx',\n",
       " 'electric_mosquito_coil_set_sales_2015_2018.xlsx',\n",
       " 'mosquito_coils_sales_2015_2018.xlsx',\n",
       " 'mosquito_coil_heater_sales_2015_2018.xlsx',\n",
       " 'mosquito_repellent_incense_tray_sales_2015_2018.xlsx',\n",
       " 'mosquito_repellent_sales_2015_2018.xlsx',\n",
       " 'rodenticide_sales_2015_2018.xlsx']"
      ]
     },
     "execution_count": 69,
     "metadata": {},
     "output_type": "execute_result"
    }
   ],
   "source": [
    "filenames = glob.glob('*_sales_2015_2018.xlsx')\n",
    "filenames"
   ]
  },
  {
   "cell_type": "code",
   "execution_count": 70,
   "id": "7647a3be",
   "metadata": {},
   "outputs": [
    {
     "data": {
      "text/plain": [
       "'electric_mosquito_coil_set'"
      ]
     },
     "execution_count": 70,
     "metadata": {},
     "output_type": "execute_result"
    }
   ],
   "source": [
    "re.search(r'.*(?=_sales)',\"electric_mosquito_coil_set_sales_2015_2018.xlsx\",).group()"
   ]
  },
  {
   "cell_type": "code",
   "execution_count": 71,
   "id": "bd332aa2",
   "metadata": {},
   "outputs": [],
   "source": [
    "def load_xlsx(filename):\n",
    "    #Extract subcategory names\n",
    "    colname = re.search(r'.*(?=_sales)',filename).group()\n",
    "    #read file\n",
    "    df = pd.read_excel(filename)\n",
    "    #modify the date format\n",
    "    if df['year'].dtypes == 'int64':\n",
    "        df['year'] = pd.to_datetime(df['year'],unit='D',origin=pd.Timestamp('1899-12-30'))\n",
    "    \n",
    "    #Rename column to subcategory name\n",
    "    df.rename(columns={df.columns[1]:colname},inplace=True)\n",
    "    \n",
    "    #Set time column as index\n",
    "    df = df.set_index('year')\n",
    "    return df"
   ]
  },
  {
   "cell_type": "code",
   "execution_count": 72,
   "id": "f87f3814",
   "metadata": {},
   "outputs": [],
   "source": [
    "dfs = [load_xlsx(i) for i in filenames]"
   ]
  },
  {
   "cell_type": "code",
   "execution_count": 73,
   "id": "cb82c4e7",
   "metadata": {},
   "outputs": [
    {
     "data": {
      "text/html": [
       "<div>\n",
       "<style scoped>\n",
       "    .dataframe tbody tr th:only-of-type {\n",
       "        vertical-align: middle;\n",
       "    }\n",
       "\n",
       "    .dataframe tbody tr th {\n",
       "        vertical-align: top;\n",
       "    }\n",
       "\n",
       "    .dataframe thead th {\n",
       "        text-align: right;\n",
       "    }\n",
       "</style>\n",
       "<table border=\"1\" class=\"dataframe\">\n",
       "  <thead>\n",
       "    <tr style=\"text-align: right;\">\n",
       "      <th></th>\n",
       "      <th>year</th>\n",
       "      <th>anti-moth_tablets</th>\n",
       "      <th>electric_mosquito_coil_set</th>\n",
       "      <th>mosquito_coils</th>\n",
       "      <th>mosquito_coil_heater</th>\n",
       "      <th>mosquito_repellent_incense_tray</th>\n",
       "      <th>mosquito_repellent</th>\n",
       "      <th>rodenticide</th>\n",
       "    </tr>\n",
       "  </thead>\n",
       "  <tbody>\n",
       "    <tr>\n",
       "      <th>0</th>\n",
       "      <td>2018-10-01</td>\n",
       "      <td>8541153.59</td>\n",
       "      <td>106531.29</td>\n",
       "      <td>1032414.29</td>\n",
       "      <td>315639.48</td>\n",
       "      <td>4171283.35</td>\n",
       "      <td>7814546.15</td>\n",
       "      <td>1.136548e+08</td>\n",
       "    </tr>\n",
       "    <tr>\n",
       "      <th>1</th>\n",
       "      <td>2018-09-01</td>\n",
       "      <td>8825870.43</td>\n",
       "      <td>105666.63</td>\n",
       "      <td>1566651.88</td>\n",
       "      <td>457366.41</td>\n",
       "      <td>6784500.17</td>\n",
       "      <td>10654973.47</td>\n",
       "      <td>1.440261e+08</td>\n",
       "    </tr>\n",
       "    <tr>\n",
       "      <th>2</th>\n",
       "      <td>2018-08-01</td>\n",
       "      <td>6320153.44</td>\n",
       "      <td>201467.03</td>\n",
       "      <td>2617149.00</td>\n",
       "      <td>746513.13</td>\n",
       "      <td>10709683.41</td>\n",
       "      <td>17835577.80</td>\n",
       "      <td>1.540426e+08</td>\n",
       "    </tr>\n",
       "    <tr>\n",
       "      <th>3</th>\n",
       "      <td>2018-07-01</td>\n",
       "      <td>6302595.06</td>\n",
       "      <td>438635.29</td>\n",
       "      <td>6209040.06</td>\n",
       "      <td>1871757.00</td>\n",
       "      <td>16589184.89</td>\n",
       "      <td>38877917.83</td>\n",
       "      <td>1.480032e+08</td>\n",
       "    </tr>\n",
       "    <tr>\n",
       "      <th>4</th>\n",
       "      <td>2018-06-01</td>\n",
       "      <td>7047206.98</td>\n",
       "      <td>953749.78</td>\n",
       "      <td>12484919.63</td>\n",
       "      <td>3641025.92</td>\n",
       "      <td>23526385.73</td>\n",
       "      <td>76499091.86</td>\n",
       "      <td>1.359438e+08</td>\n",
       "    </tr>\n",
       "  </tbody>\n",
       "</table>\n",
       "</div>"
      ],
      "text/plain": [
       "        year  anti-moth_tablets  electric_mosquito_coil_set  mosquito_coils  \\\n",
       "0 2018-10-01         8541153.59                   106531.29      1032414.29   \n",
       "1 2018-09-01         8825870.43                   105666.63      1566651.88   \n",
       "2 2018-08-01         6320153.44                   201467.03      2617149.00   \n",
       "3 2018-07-01         6302595.06                   438635.29      6209040.06   \n",
       "4 2018-06-01         7047206.98                   953749.78     12484919.63   \n",
       "\n",
       "   mosquito_coil_heater  mosquito_repellent_incense_tray  mosquito_repellent  \\\n",
       "0             315639.48                       4171283.35          7814546.15   \n",
       "1             457366.41                       6784500.17         10654973.47   \n",
       "2             746513.13                      10709683.41         17835577.80   \n",
       "3            1871757.00                      16589184.89         38877917.83   \n",
       "4            3641025.92                      23526385.73         76499091.86   \n",
       "\n",
       "    rodenticide  \n",
       "0  1.136548e+08  \n",
       "1  1.440261e+08  \n",
       "2  1.540426e+08  \n",
       "3  1.480032e+08  \n",
       "4  1.359438e+08  "
      ]
     },
     "execution_count": 73,
     "metadata": {},
     "output_type": "execute_result"
    }
   ],
   "source": [
    "df = pd.concat(dfs,axis=1).reset_index()\n",
    "df.head()"
   ]
  },
  {
   "cell_type": "markdown",
   "id": "4853062a",
   "metadata": {},
   "source": [
    "## Complete the 2018 Nov and Dec data\n",
    "Extract the month for modeling index"
   ]
  },
  {
   "cell_type": "code",
   "execution_count": 74,
   "id": "9c7db8cb",
   "metadata": {},
   "outputs": [
    {
     "data": {
      "text/plain": [
       "0     10\n",
       "1      9\n",
       "2      8\n",
       "3      7\n",
       "4      6\n",
       "5      5\n",
       "6      4\n",
       "7      3\n",
       "8      2\n",
       "9      1\n",
       "10    12\n",
       "11    11\n",
       "12    10\n",
       "13     9\n",
       "14     8\n",
       "15     7\n",
       "16     6\n",
       "17     5\n",
       "18     4\n",
       "19     3\n",
       "20     2\n",
       "21     1\n",
       "22    12\n",
       "23    11\n",
       "24    10\n",
       "25     9\n",
       "26     8\n",
       "27     7\n",
       "28     6\n",
       "29     5\n",
       "30     4\n",
       "31     3\n",
       "32     2\n",
       "33     1\n",
       "34    12\n",
       "35    11\n",
       "Name: year, dtype: int64"
      ]
     },
     "execution_count": 74,
     "metadata": {},
     "output_type": "execute_result"
    }
   ],
   "source": [
    "month = df['year'].dt.month\n",
    "month"
   ]
  },
  {
   "cell_type": "markdown",
   "id": "020c4578",
   "metadata": {},
   "source": [
    "- forecast the sales for November and December 2018"
   ]
  },
  {
   "cell_type": "code",
   "execution_count": 75,
   "id": "883bc115",
   "metadata": {},
   "outputs": [
    {
     "name": "stderr",
     "output_type": "stream",
     "text": [
      "C:\\Users\\ws\\AppData\\Local\\Temp\\ipykernel_8284\\3814628426.py:7: FutureWarning: The pandas.datetime class is deprecated and will be removed from pandas in a future version. Import from datetime module instead.\n",
      "  ytest = [pd.datetime(2018,i,1)]\n",
      "C:\\Users\\ws\\AppData\\Local\\Temp\\ipykernel_8284\\3814628426.py:19: FutureWarning: The frame.append method is deprecated and will be removed from pandas in a future version. Use pandas.concat instead.\n",
      "  df = newrow.append(df)\n",
      "C:\\Users\\ws\\AppData\\Local\\Temp\\ipykernel_8284\\3814628426.py:3: UserWarning: Boolean Series key will be reindexed to match DataFrame index.\n",
      "  dm = df[month == i]   #2015.11  2016.11  2017.11\n",
      "C:\\Users\\ws\\AppData\\Local\\Temp\\ipykernel_8284\\3814628426.py:7: FutureWarning: The pandas.datetime class is deprecated and will be removed from pandas in a future version. Import from datetime module instead.\n",
      "  ytest = [pd.datetime(2018,i,1)]\n",
      "C:\\Users\\ws\\AppData\\Local\\Temp\\ipykernel_8284\\3814628426.py:19: FutureWarning: The frame.append method is deprecated and will be removed from pandas in a future version. Use pandas.concat instead.\n",
      "  df = newrow.append(df)\n"
     ]
    }
   ],
   "source": [
    "for i in [11,12]:\n",
    "    # Extract data for the month\n",
    "    dm = df[month == i]   #2015.11  2016.11  2017.11 \n",
    "    # train x is the year\n",
    "    xtrain = np.array(dm['year'].dt.year).reshape(-1,1)\n",
    "    # Test y is the new row, the corresponding date\n",
    "    ytest = [pd.datetime(2018,i,1)]\n",
    "    for j in range(1,len(dm.columns)):\n",
    "        # ytrain is the specified column\n",
    "        ytrain = np.array(dm.iloc[:,j]).reshape(-1,1)\n",
    "        # regression modeling\n",
    "        lm = LinearRegression().fit(xtrain,ytrain)\n",
    "        # Predict sales when test is 2018\n",
    "        yhat = lm.predict(np.array([2018]).reshape(-1,1))\n",
    "        ytest.append(round(yhat[0][0],2))\n",
    "    # Assign the corresponding column name to the prediction result\n",
    "    newrow = pd.DataFrame([dict(zip(df.columns,ytest))])\n",
    "    # Append the prediction result to the data\n",
    "    df = newrow.append(df)"
   ]
  },
  {
   "cell_type": "code",
   "execution_count": 76,
   "id": "92fa1206",
   "metadata": {
    "scrolled": true
   },
   "outputs": [
    {
     "data": {
      "text/html": [
       "<div>\n",
       "<style scoped>\n",
       "    .dataframe tbody tr th:only-of-type {\n",
       "        vertical-align: middle;\n",
       "    }\n",
       "\n",
       "    .dataframe tbody tr th {\n",
       "        vertical-align: top;\n",
       "    }\n",
       "\n",
       "    .dataframe thead th {\n",
       "        text-align: right;\n",
       "    }\n",
       "</style>\n",
       "<table border=\"1\" class=\"dataframe\">\n",
       "  <thead>\n",
       "    <tr style=\"text-align: right;\">\n",
       "      <th></th>\n",
       "      <th>year</th>\n",
       "      <th>anti-moth_tablets</th>\n",
       "      <th>electric_mosquito_coil_set</th>\n",
       "      <th>mosquito_coils</th>\n",
       "      <th>mosquito_coil_heater</th>\n",
       "      <th>mosquito_repellent_incense_tray</th>\n",
       "      <th>mosquito_repellent</th>\n",
       "      <th>rodenticide</th>\n",
       "    </tr>\n",
       "  </thead>\n",
       "  <tbody>\n",
       "    <tr>\n",
       "      <th>0</th>\n",
       "      <td>2018-12-01</td>\n",
       "      <td>3958717.58</td>\n",
       "      <td>50204.53</td>\n",
       "      <td>426812.59</td>\n",
       "      <td>86849.17</td>\n",
       "      <td>928554.26</td>\n",
       "      <td>3.081492e+06</td>\n",
       "      <td>5.256763e+07</td>\n",
       "    </tr>\n",
       "    <tr>\n",
       "      <th>0</th>\n",
       "      <td>2018-11-01</td>\n",
       "      <td>6678677.55</td>\n",
       "      <td>38692.61</td>\n",
       "      <td>776627.04</td>\n",
       "      <td>193874.39</td>\n",
       "      <td>1801318.82</td>\n",
       "      <td>5.543204e+06</td>\n",
       "      <td>7.175250e+07</td>\n",
       "    </tr>\n",
       "    <tr>\n",
       "      <th>0</th>\n",
       "      <td>2018-10-01</td>\n",
       "      <td>8541153.59</td>\n",
       "      <td>106531.29</td>\n",
       "      <td>1032414.29</td>\n",
       "      <td>315639.48</td>\n",
       "      <td>4171283.35</td>\n",
       "      <td>7.814546e+06</td>\n",
       "      <td>1.136548e+08</td>\n",
       "    </tr>\n",
       "    <tr>\n",
       "      <th>1</th>\n",
       "      <td>2018-09-01</td>\n",
       "      <td>8825870.43</td>\n",
       "      <td>105666.63</td>\n",
       "      <td>1566651.88</td>\n",
       "      <td>457366.41</td>\n",
       "      <td>6784500.17</td>\n",
       "      <td>1.065497e+07</td>\n",
       "      <td>1.440261e+08</td>\n",
       "    </tr>\n",
       "    <tr>\n",
       "      <th>2</th>\n",
       "      <td>2018-08-01</td>\n",
       "      <td>6320153.44</td>\n",
       "      <td>201467.03</td>\n",
       "      <td>2617149.00</td>\n",
       "      <td>746513.13</td>\n",
       "      <td>10709683.41</td>\n",
       "      <td>1.783558e+07</td>\n",
       "      <td>1.540426e+08</td>\n",
       "    </tr>\n",
       "    <tr>\n",
       "      <th>3</th>\n",
       "      <td>2018-07-01</td>\n",
       "      <td>6302595.06</td>\n",
       "      <td>438635.29</td>\n",
       "      <td>6209040.06</td>\n",
       "      <td>1871757.00</td>\n",
       "      <td>16589184.89</td>\n",
       "      <td>3.887792e+07</td>\n",
       "      <td>1.480032e+08</td>\n",
       "    </tr>\n",
       "    <tr>\n",
       "      <th>4</th>\n",
       "      <td>2018-06-01</td>\n",
       "      <td>7047206.98</td>\n",
       "      <td>953749.78</td>\n",
       "      <td>12484919.63</td>\n",
       "      <td>3641025.92</td>\n",
       "      <td>23526385.73</td>\n",
       "      <td>7.649909e+07</td>\n",
       "      <td>1.359438e+08</td>\n",
       "    </tr>\n",
       "    <tr>\n",
       "      <th>5</th>\n",
       "      <td>2018-05-01</td>\n",
       "      <td>7942340.44</td>\n",
       "      <td>1238967.37</td>\n",
       "      <td>15309721.94</td>\n",
       "      <td>5032466.78</td>\n",
       "      <td>28118581.25</td>\n",
       "      <td>1.050396e+08</td>\n",
       "      <td>1.241642e+08</td>\n",
       "    </tr>\n",
       "    <tr>\n",
       "      <th>6</th>\n",
       "      <td>2018-04-01</td>\n",
       "      <td>7031364.60</td>\n",
       "      <td>841051.93</td>\n",
       "      <td>7954875.07</td>\n",
       "      <td>3130513.43</td>\n",
       "      <td>16420341.87</td>\n",
       "      <td>6.254165e+07</td>\n",
       "      <td>7.509661e+07</td>\n",
       "    </tr>\n",
       "    <tr>\n",
       "      <th>7</th>\n",
       "      <td>2018-03-01</td>\n",
       "      <td>6051561.02</td>\n",
       "      <td>475177.48</td>\n",
       "      <td>2950648.32</td>\n",
       "      <td>1198332.81</td>\n",
       "      <td>7900094.91</td>\n",
       "      <td>2.632447e+07</td>\n",
       "      <td>5.918182e+07</td>\n",
       "    </tr>\n",
       "    <tr>\n",
       "      <th>8</th>\n",
       "      <td>2018-02-01</td>\n",
       "      <td>1393948.47</td>\n",
       "      <td>33232.95</td>\n",
       "      <td>218915.63</td>\n",
       "      <td>75714.46</td>\n",
       "      <td>545917.66</td>\n",
       "      <td>2.235774e+06</td>\n",
       "      <td>2.292138e+07</td>\n",
       "    </tr>\n",
       "    <tr>\n",
       "      <th>9</th>\n",
       "      <td>2018-01-01</td>\n",
       "      <td>2607776.07</td>\n",
       "      <td>54305.20</td>\n",
       "      <td>298146.11</td>\n",
       "      <td>86670.45</td>\n",
       "      <td>592663.20</td>\n",
       "      <td>1.759451e+06</td>\n",
       "      <td>3.653873e+07</td>\n",
       "    </tr>\n",
       "    <tr>\n",
       "      <th>10</th>\n",
       "      <td>2017-12-01</td>\n",
       "      <td>3259747.23</td>\n",
       "      <td>71600.17</td>\n",
       "      <td>314120.38</td>\n",
       "      <td>69145.59</td>\n",
       "      <td>796930.46</td>\n",
       "      <td>2.213103e+06</td>\n",
       "      <td>4.292283e+07</td>\n",
       "    </tr>\n",
       "    <tr>\n",
       "      <th>11</th>\n",
       "      <td>2017-11-01</td>\n",
       "      <td>5447184.43</td>\n",
       "      <td>94993.76</td>\n",
       "      <td>617094.94</td>\n",
       "      <td>168141.79</td>\n",
       "      <td>1581530.20</td>\n",
       "      <td>4.257594e+06</td>\n",
       "      <td>5.838217e+07</td>\n",
       "    </tr>\n",
       "    <tr>\n",
       "      <th>12</th>\n",
       "      <td>2017-10-01</td>\n",
       "      <td>6152868.25</td>\n",
       "      <td>145925.31</td>\n",
       "      <td>766588.77</td>\n",
       "      <td>166522.62</td>\n",
       "      <td>2824785.80</td>\n",
       "      <td>4.290843e+06</td>\n",
       "      <td>8.226882e+07</td>\n",
       "    </tr>\n",
       "    <tr>\n",
       "      <th>13</th>\n",
       "      <td>2017-09-01</td>\n",
       "      <td>5792065.80</td>\n",
       "      <td>242194.37</td>\n",
       "      <td>1574779.65</td>\n",
       "      <td>353042.45</td>\n",
       "      <td>5581352.42</td>\n",
       "      <td>7.833349e+06</td>\n",
       "      <td>1.010081e+08</td>\n",
       "    </tr>\n",
       "    <tr>\n",
       "      <th>14</th>\n",
       "      <td>2017-08-01</td>\n",
       "      <td>5081714.64</td>\n",
       "      <td>332922.02</td>\n",
       "      <td>2323304.14</td>\n",
       "      <td>544076.63</td>\n",
       "      <td>7229409.84</td>\n",
       "      <td>1.376039e+07</td>\n",
       "      <td>1.049504e+08</td>\n",
       "    </tr>\n",
       "    <tr>\n",
       "      <th>15</th>\n",
       "      <td>2017-07-01</td>\n",
       "      <td>6691694.17</td>\n",
       "      <td>913425.95</td>\n",
       "      <td>6627299.71</td>\n",
       "      <td>1357778.93</td>\n",
       "      <td>13718046.88</td>\n",
       "      <td>4.257757e+07</td>\n",
       "      <td>1.116729e+08</td>\n",
       "    </tr>\n",
       "    <tr>\n",
       "      <th>16</th>\n",
       "      <td>2017-06-01</td>\n",
       "      <td>7155138.87</td>\n",
       "      <td>2045163.59</td>\n",
       "      <td>12422420.21</td>\n",
       "      <td>2639777.66</td>\n",
       "      <td>19635925.59</td>\n",
       "      <td>8.283230e+07</td>\n",
       "      <td>1.051463e+08</td>\n",
       "    </tr>\n",
       "    <tr>\n",
       "      <th>17</th>\n",
       "      <td>2017-05-01</td>\n",
       "      <td>8145781.12</td>\n",
       "      <td>3606141.82</td>\n",
       "      <td>15961946.71</td>\n",
       "      <td>3185961.75</td>\n",
       "      <td>20275515.85</td>\n",
       "      <td>1.014605e+08</td>\n",
       "      <td>9.185035e+07</td>\n",
       "    </tr>\n",
       "    <tr>\n",
       "      <th>18</th>\n",
       "      <td>2017-04-01</td>\n",
       "      <td>6682161.49</td>\n",
       "      <td>1285599.49</td>\n",
       "      <td>6214963.68</td>\n",
       "      <td>1554864.42</td>\n",
       "      <td>9197868.29</td>\n",
       "      <td>4.880687e+07</td>\n",
       "      <td>5.363586e+07</td>\n",
       "    </tr>\n",
       "    <tr>\n",
       "      <th>19</th>\n",
       "      <td>2017-03-01</td>\n",
       "      <td>3904656.82</td>\n",
       "      <td>390486.57</td>\n",
       "      <td>1319399.22</td>\n",
       "      <td>317206.48</td>\n",
       "      <td>3397837.60</td>\n",
       "      <td>1.488979e+07</td>\n",
       "      <td>4.078967e+07</td>\n",
       "    </tr>\n",
       "    <tr>\n",
       "      <th>20</th>\n",
       "      <td>2017-02-01</td>\n",
       "      <td>2584035.90</td>\n",
       "      <td>209643.87</td>\n",
       "      <td>687697.46</td>\n",
       "      <td>148158.07</td>\n",
       "      <td>1519446.34</td>\n",
       "      <td>5.929509e+06</td>\n",
       "      <td>3.467502e+07</td>\n",
       "    </tr>\n",
       "    <tr>\n",
       "      <th>21</th>\n",
       "      <td>2017-01-01</td>\n",
       "      <td>1781773.46</td>\n",
       "      <td>39434.76</td>\n",
       "      <td>238973.09</td>\n",
       "      <td>48164.63</td>\n",
       "      <td>596744.04</td>\n",
       "      <td>1.213749e+06</td>\n",
       "      <td>2.047156e+07</td>\n",
       "    </tr>\n",
       "    <tr>\n",
       "      <th>22</th>\n",
       "      <td>2016-12-01</td>\n",
       "      <td>3504367.98</td>\n",
       "      <td>84350.57</td>\n",
       "      <td>293737.20</td>\n",
       "      <td>52118.96</td>\n",
       "      <td>1234900.05</td>\n",
       "      <td>1.558634e+06</td>\n",
       "      <td>3.546668e+07</td>\n",
       "    </tr>\n",
       "    <tr>\n",
       "      <th>23</th>\n",
       "      <td>2016-11-01</td>\n",
       "      <td>4975519.21</td>\n",
       "      <td>106291.23</td>\n",
       "      <td>512990.23</td>\n",
       "      <td>82835.82</td>\n",
       "      <td>1473418.20</td>\n",
       "      <td>2.758827e+06</td>\n",
       "      <td>4.780625e+07</td>\n",
       "    </tr>\n",
       "    <tr>\n",
       "      <th>24</th>\n",
       "      <td>2016-10-01</td>\n",
       "      <td>4600717.78</td>\n",
       "      <td>179015.23</td>\n",
       "      <td>690912.02</td>\n",
       "      <td>130484.07</td>\n",
       "      <td>2543813.78</td>\n",
       "      <td>3.641803e+06</td>\n",
       "      <td>6.339722e+07</td>\n",
       "    </tr>\n",
       "    <tr>\n",
       "      <th>25</th>\n",
       "      <td>2016-09-01</td>\n",
       "      <td>4642681.07</td>\n",
       "      <td>210456.69</td>\n",
       "      <td>930513.91</td>\n",
       "      <td>168724.83</td>\n",
       "      <td>3092898.02</td>\n",
       "      <td>4.632818e+06</td>\n",
       "      <td>6.864724e+07</td>\n",
       "    </tr>\n",
       "    <tr>\n",
       "      <th>26</th>\n",
       "      <td>2016-08-01</td>\n",
       "      <td>4151326.68</td>\n",
       "      <td>316467.14</td>\n",
       "      <td>1581021.50</td>\n",
       "      <td>272553.95</td>\n",
       "      <td>4389862.79</td>\n",
       "      <td>8.956868e+06</td>\n",
       "      <td>7.610885e+07</td>\n",
       "    </tr>\n",
       "    <tr>\n",
       "      <th>27</th>\n",
       "      <td>2016-07-01</td>\n",
       "      <td>5412185.06</td>\n",
       "      <td>932728.10</td>\n",
       "      <td>4088320.77</td>\n",
       "      <td>761159.35</td>\n",
       "      <td>7384968.66</td>\n",
       "      <td>2.260036e+07</td>\n",
       "      <td>7.832954e+07</td>\n",
       "    </tr>\n",
       "    <tr>\n",
       "      <th>28</th>\n",
       "      <td>2016-06-01</td>\n",
       "      <td>5694825.13</td>\n",
       "      <td>2184985.33</td>\n",
       "      <td>8004562.69</td>\n",
       "      <td>1728788.53</td>\n",
       "      <td>10859461.67</td>\n",
       "      <td>4.640197e+07</td>\n",
       "      <td>7.693264e+07</td>\n",
       "    </tr>\n",
       "    <tr>\n",
       "      <th>29</th>\n",
       "      <td>2016-05-01</td>\n",
       "      <td>5469360.60</td>\n",
       "      <td>2059879.80</td>\n",
       "      <td>7474421.97</td>\n",
       "      <td>1618361.54</td>\n",
       "      <td>9912801.93</td>\n",
       "      <td>4.777690e+07</td>\n",
       "      <td>5.812696e+07</td>\n",
       "    </tr>\n",
       "    <tr>\n",
       "      <th>30</th>\n",
       "      <td>2016-04-01</td>\n",
       "      <td>5253619.06</td>\n",
       "      <td>1034992.53</td>\n",
       "      <td>3435257.35</td>\n",
       "      <td>758206.81</td>\n",
       "      <td>4687913.18</td>\n",
       "      <td>2.432917e+07</td>\n",
       "      <td>3.762602e+07</td>\n",
       "    </tr>\n",
       "    <tr>\n",
       "      <th>31</th>\n",
       "      <td>2016-03-01</td>\n",
       "      <td>3481194.46</td>\n",
       "      <td>352013.31</td>\n",
       "      <td>746709.07</td>\n",
       "      <td>246106.75</td>\n",
       "      <td>1204574.20</td>\n",
       "      <td>6.656382e+06</td>\n",
       "      <td>2.952610e+07</td>\n",
       "    </tr>\n",
       "    <tr>\n",
       "      <th>32</th>\n",
       "      <td>2016-02-01</td>\n",
       "      <td>1274810.96</td>\n",
       "      <td>96979.48</td>\n",
       "      <td>109108.05</td>\n",
       "      <td>36193.85</td>\n",
       "      <td>449199.41</td>\n",
       "      <td>6.939075e+05</td>\n",
       "      <td>1.500135e+07</td>\n",
       "    </tr>\n",
       "    <tr>\n",
       "      <th>33</th>\n",
       "      <td>2016-01-01</td>\n",
       "      <td>1562393.95</td>\n",
       "      <td>108412.71</td>\n",
       "      <td>113284.71</td>\n",
       "      <td>49670.25</td>\n",
       "      <td>619042.01</td>\n",
       "      <td>4.828890e+05</td>\n",
       "      <td>2.107822e+07</td>\n",
       "    </tr>\n",
       "    <tr>\n",
       "      <th>34</th>\n",
       "      <td>2015-12-01</td>\n",
       "      <td>2333602.08</td>\n",
       "      <td>110068.83</td>\n",
       "      <td>134890.48</td>\n",
       "      <td>34076.91</td>\n",
       "      <td>818479.56</td>\n",
       "      <td>5.832845e+05</td>\n",
       "      <td>2.472756e+07</td>\n",
       "    </tr>\n",
       "    <tr>\n",
       "      <th>35</th>\n",
       "      <td>2015-11-01</td>\n",
       "      <td>3364112.14</td>\n",
       "      <td>185094.22</td>\n",
       "      <td>325744.43</td>\n",
       "      <td>86889.91</td>\n",
       "      <td>1197791.27</td>\n",
       "      <td>1.579796e+06</td>\n",
       "      <td>3.303873e+07</td>\n",
       "    </tr>\n",
       "  </tbody>\n",
       "</table>\n",
       "</div>"
      ],
      "text/plain": [
       "         year  anti-moth_tablets  electric_mosquito_coil_set  mosquito_coils  \\\n",
       "0  2018-12-01         3958717.58                    50204.53       426812.59   \n",
       "0  2018-11-01         6678677.55                    38692.61       776627.04   \n",
       "0  2018-10-01         8541153.59                   106531.29      1032414.29   \n",
       "1  2018-09-01         8825870.43                   105666.63      1566651.88   \n",
       "2  2018-08-01         6320153.44                   201467.03      2617149.00   \n",
       "3  2018-07-01         6302595.06                   438635.29      6209040.06   \n",
       "4  2018-06-01         7047206.98                   953749.78     12484919.63   \n",
       "5  2018-05-01         7942340.44                  1238967.37     15309721.94   \n",
       "6  2018-04-01         7031364.60                   841051.93      7954875.07   \n",
       "7  2018-03-01         6051561.02                   475177.48      2950648.32   \n",
       "8  2018-02-01         1393948.47                    33232.95       218915.63   \n",
       "9  2018-01-01         2607776.07                    54305.20       298146.11   \n",
       "10 2017-12-01         3259747.23                    71600.17       314120.38   \n",
       "11 2017-11-01         5447184.43                    94993.76       617094.94   \n",
       "12 2017-10-01         6152868.25                   145925.31       766588.77   \n",
       "13 2017-09-01         5792065.80                   242194.37      1574779.65   \n",
       "14 2017-08-01         5081714.64                   332922.02      2323304.14   \n",
       "15 2017-07-01         6691694.17                   913425.95      6627299.71   \n",
       "16 2017-06-01         7155138.87                  2045163.59     12422420.21   \n",
       "17 2017-05-01         8145781.12                  3606141.82     15961946.71   \n",
       "18 2017-04-01         6682161.49                  1285599.49      6214963.68   \n",
       "19 2017-03-01         3904656.82                   390486.57      1319399.22   \n",
       "20 2017-02-01         2584035.90                   209643.87       687697.46   \n",
       "21 2017-01-01         1781773.46                    39434.76       238973.09   \n",
       "22 2016-12-01         3504367.98                    84350.57       293737.20   \n",
       "23 2016-11-01         4975519.21                   106291.23       512990.23   \n",
       "24 2016-10-01         4600717.78                   179015.23       690912.02   \n",
       "25 2016-09-01         4642681.07                   210456.69       930513.91   \n",
       "26 2016-08-01         4151326.68                   316467.14      1581021.50   \n",
       "27 2016-07-01         5412185.06                   932728.10      4088320.77   \n",
       "28 2016-06-01         5694825.13                  2184985.33      8004562.69   \n",
       "29 2016-05-01         5469360.60                  2059879.80      7474421.97   \n",
       "30 2016-04-01         5253619.06                  1034992.53      3435257.35   \n",
       "31 2016-03-01         3481194.46                   352013.31       746709.07   \n",
       "32 2016-02-01         1274810.96                    96979.48       109108.05   \n",
       "33 2016-01-01         1562393.95                   108412.71       113284.71   \n",
       "34 2015-12-01         2333602.08                   110068.83       134890.48   \n",
       "35 2015-11-01         3364112.14                   185094.22       325744.43   \n",
       "\n",
       "    mosquito_coil_heater  mosquito_repellent_incense_tray  mosquito_repellent  \\\n",
       "0               86849.17                        928554.26        3.081492e+06   \n",
       "0              193874.39                       1801318.82        5.543204e+06   \n",
       "0              315639.48                       4171283.35        7.814546e+06   \n",
       "1              457366.41                       6784500.17        1.065497e+07   \n",
       "2              746513.13                      10709683.41        1.783558e+07   \n",
       "3             1871757.00                      16589184.89        3.887792e+07   \n",
       "4             3641025.92                      23526385.73        7.649909e+07   \n",
       "5             5032466.78                      28118581.25        1.050396e+08   \n",
       "6             3130513.43                      16420341.87        6.254165e+07   \n",
       "7             1198332.81                       7900094.91        2.632447e+07   \n",
       "8               75714.46                        545917.66        2.235774e+06   \n",
       "9               86670.45                        592663.20        1.759451e+06   \n",
       "10              69145.59                        796930.46        2.213103e+06   \n",
       "11             168141.79                       1581530.20        4.257594e+06   \n",
       "12             166522.62                       2824785.80        4.290843e+06   \n",
       "13             353042.45                       5581352.42        7.833349e+06   \n",
       "14             544076.63                       7229409.84        1.376039e+07   \n",
       "15            1357778.93                      13718046.88        4.257757e+07   \n",
       "16            2639777.66                      19635925.59        8.283230e+07   \n",
       "17            3185961.75                      20275515.85        1.014605e+08   \n",
       "18            1554864.42                       9197868.29        4.880687e+07   \n",
       "19             317206.48                       3397837.60        1.488979e+07   \n",
       "20             148158.07                       1519446.34        5.929509e+06   \n",
       "21              48164.63                        596744.04        1.213749e+06   \n",
       "22              52118.96                       1234900.05        1.558634e+06   \n",
       "23              82835.82                       1473418.20        2.758827e+06   \n",
       "24             130484.07                       2543813.78        3.641803e+06   \n",
       "25             168724.83                       3092898.02        4.632818e+06   \n",
       "26             272553.95                       4389862.79        8.956868e+06   \n",
       "27             761159.35                       7384968.66        2.260036e+07   \n",
       "28            1728788.53                      10859461.67        4.640197e+07   \n",
       "29            1618361.54                       9912801.93        4.777690e+07   \n",
       "30             758206.81                       4687913.18        2.432917e+07   \n",
       "31             246106.75                       1204574.20        6.656382e+06   \n",
       "32              36193.85                        449199.41        6.939075e+05   \n",
       "33              49670.25                        619042.01        4.828890e+05   \n",
       "34              34076.91                        818479.56        5.832845e+05   \n",
       "35              86889.91                       1197791.27        1.579796e+06   \n",
       "\n",
       "     rodenticide  \n",
       "0   5.256763e+07  \n",
       "0   7.175250e+07  \n",
       "0   1.136548e+08  \n",
       "1   1.440261e+08  \n",
       "2   1.540426e+08  \n",
       "3   1.480032e+08  \n",
       "4   1.359438e+08  \n",
       "5   1.241642e+08  \n",
       "6   7.509661e+07  \n",
       "7   5.918182e+07  \n",
       "8   2.292138e+07  \n",
       "9   3.653873e+07  \n",
       "10  4.292283e+07  \n",
       "11  5.838217e+07  \n",
       "12  8.226882e+07  \n",
       "13  1.010081e+08  \n",
       "14  1.049504e+08  \n",
       "15  1.116729e+08  \n",
       "16  1.051463e+08  \n",
       "17  9.185035e+07  \n",
       "18  5.363586e+07  \n",
       "19  4.078967e+07  \n",
       "20  3.467502e+07  \n",
       "21  2.047156e+07  \n",
       "22  3.546668e+07  \n",
       "23  4.780625e+07  \n",
       "24  6.339722e+07  \n",
       "25  6.864724e+07  \n",
       "26  7.610885e+07  \n",
       "27  7.832954e+07  \n",
       "28  7.693264e+07  \n",
       "29  5.812696e+07  \n",
       "30  3.762602e+07  \n",
       "31  2.952610e+07  \n",
       "32  1.500135e+07  \n",
       "33  2.107822e+07  \n",
       "34  2.472756e+07  \n",
       "35  3.303873e+07  "
      ]
     },
     "execution_count": 76,
     "metadata": {},
     "output_type": "execute_result"
    }
   ],
   "source": [
    "df"
   ]
  },
  {
   "cell_type": "code",
   "execution_count": 77,
   "id": "a06c9092",
   "metadata": {},
   "outputs": [],
   "source": [
    "# remove the original index\n",
    "df.reset_index(drop=True,inplace=True)"
   ]
  },
  {
   "cell_type": "code",
   "execution_count": 79,
   "id": "4b34eafa",
   "metadata": {},
   "outputs": [],
   "source": [
    "# Remove year 2015 data\n",
    "df = df[df['year'].dt.year != 2015]"
   ]
  },
  {
   "cell_type": "code",
   "execution_count": 80,
   "id": "21e96af2",
   "metadata": {},
   "outputs": [
    {
     "data": {
      "text/html": [
       "<div>\n",
       "<style scoped>\n",
       "    .dataframe tbody tr th:only-of-type {\n",
       "        vertical-align: middle;\n",
       "    }\n",
       "\n",
       "    .dataframe tbody tr th {\n",
       "        vertical-align: top;\n",
       "    }\n",
       "\n",
       "    .dataframe thead th {\n",
       "        text-align: right;\n",
       "    }\n",
       "</style>\n",
       "<table border=\"1\" class=\"dataframe\">\n",
       "  <thead>\n",
       "    <tr style=\"text-align: right;\">\n",
       "      <th></th>\n",
       "      <th>year</th>\n",
       "      <th>anti-moth_tablets</th>\n",
       "      <th>electric_mosquito_coil_set</th>\n",
       "      <th>mosquito_coils</th>\n",
       "      <th>mosquito_coil_heater</th>\n",
       "      <th>mosquito_repellent_incense_tray</th>\n",
       "      <th>mosquito_repellent</th>\n",
       "      <th>rodenticide</th>\n",
       "    </tr>\n",
       "  </thead>\n",
       "  <tbody>\n",
       "    <tr>\n",
       "      <th>0</th>\n",
       "      <td>2018-12-01</td>\n",
       "      <td>3958717.58</td>\n",
       "      <td>50204.53</td>\n",
       "      <td>426812.59</td>\n",
       "      <td>86849.17</td>\n",
       "      <td>928554.26</td>\n",
       "      <td>3.081492e+06</td>\n",
       "      <td>5.256763e+07</td>\n",
       "    </tr>\n",
       "    <tr>\n",
       "      <th>1</th>\n",
       "      <td>2018-11-01</td>\n",
       "      <td>6678677.55</td>\n",
       "      <td>38692.61</td>\n",
       "      <td>776627.04</td>\n",
       "      <td>193874.39</td>\n",
       "      <td>1801318.82</td>\n",
       "      <td>5.543204e+06</td>\n",
       "      <td>7.175250e+07</td>\n",
       "    </tr>\n",
       "    <tr>\n",
       "      <th>2</th>\n",
       "      <td>2018-10-01</td>\n",
       "      <td>8541153.59</td>\n",
       "      <td>106531.29</td>\n",
       "      <td>1032414.29</td>\n",
       "      <td>315639.48</td>\n",
       "      <td>4171283.35</td>\n",
       "      <td>7.814546e+06</td>\n",
       "      <td>1.136548e+08</td>\n",
       "    </tr>\n",
       "    <tr>\n",
       "      <th>3</th>\n",
       "      <td>2018-09-01</td>\n",
       "      <td>8825870.43</td>\n",
       "      <td>105666.63</td>\n",
       "      <td>1566651.88</td>\n",
       "      <td>457366.41</td>\n",
       "      <td>6784500.17</td>\n",
       "      <td>1.065497e+07</td>\n",
       "      <td>1.440261e+08</td>\n",
       "    </tr>\n",
       "    <tr>\n",
       "      <th>4</th>\n",
       "      <td>2018-08-01</td>\n",
       "      <td>6320153.44</td>\n",
       "      <td>201467.03</td>\n",
       "      <td>2617149.00</td>\n",
       "      <td>746513.13</td>\n",
       "      <td>10709683.41</td>\n",
       "      <td>1.783558e+07</td>\n",
       "      <td>1.540426e+08</td>\n",
       "    </tr>\n",
       "    <tr>\n",
       "      <th>5</th>\n",
       "      <td>2018-07-01</td>\n",
       "      <td>6302595.06</td>\n",
       "      <td>438635.29</td>\n",
       "      <td>6209040.06</td>\n",
       "      <td>1871757.00</td>\n",
       "      <td>16589184.89</td>\n",
       "      <td>3.887792e+07</td>\n",
       "      <td>1.480032e+08</td>\n",
       "    </tr>\n",
       "    <tr>\n",
       "      <th>6</th>\n",
       "      <td>2018-06-01</td>\n",
       "      <td>7047206.98</td>\n",
       "      <td>953749.78</td>\n",
       "      <td>12484919.63</td>\n",
       "      <td>3641025.92</td>\n",
       "      <td>23526385.73</td>\n",
       "      <td>7.649909e+07</td>\n",
       "      <td>1.359438e+08</td>\n",
       "    </tr>\n",
       "    <tr>\n",
       "      <th>7</th>\n",
       "      <td>2018-05-01</td>\n",
       "      <td>7942340.44</td>\n",
       "      <td>1238967.37</td>\n",
       "      <td>15309721.94</td>\n",
       "      <td>5032466.78</td>\n",
       "      <td>28118581.25</td>\n",
       "      <td>1.050396e+08</td>\n",
       "      <td>1.241642e+08</td>\n",
       "    </tr>\n",
       "    <tr>\n",
       "      <th>8</th>\n",
       "      <td>2018-04-01</td>\n",
       "      <td>7031364.60</td>\n",
       "      <td>841051.93</td>\n",
       "      <td>7954875.07</td>\n",
       "      <td>3130513.43</td>\n",
       "      <td>16420341.87</td>\n",
       "      <td>6.254165e+07</td>\n",
       "      <td>7.509661e+07</td>\n",
       "    </tr>\n",
       "    <tr>\n",
       "      <th>9</th>\n",
       "      <td>2018-03-01</td>\n",
       "      <td>6051561.02</td>\n",
       "      <td>475177.48</td>\n",
       "      <td>2950648.32</td>\n",
       "      <td>1198332.81</td>\n",
       "      <td>7900094.91</td>\n",
       "      <td>2.632447e+07</td>\n",
       "      <td>5.918182e+07</td>\n",
       "    </tr>\n",
       "    <tr>\n",
       "      <th>10</th>\n",
       "      <td>2018-02-01</td>\n",
       "      <td>1393948.47</td>\n",
       "      <td>33232.95</td>\n",
       "      <td>218915.63</td>\n",
       "      <td>75714.46</td>\n",
       "      <td>545917.66</td>\n",
       "      <td>2.235774e+06</td>\n",
       "      <td>2.292138e+07</td>\n",
       "    </tr>\n",
       "    <tr>\n",
       "      <th>11</th>\n",
       "      <td>2018-01-01</td>\n",
       "      <td>2607776.07</td>\n",
       "      <td>54305.20</td>\n",
       "      <td>298146.11</td>\n",
       "      <td>86670.45</td>\n",
       "      <td>592663.20</td>\n",
       "      <td>1.759451e+06</td>\n",
       "      <td>3.653873e+07</td>\n",
       "    </tr>\n",
       "    <tr>\n",
       "      <th>12</th>\n",
       "      <td>2017-12-01</td>\n",
       "      <td>3259747.23</td>\n",
       "      <td>71600.17</td>\n",
       "      <td>314120.38</td>\n",
       "      <td>69145.59</td>\n",
       "      <td>796930.46</td>\n",
       "      <td>2.213103e+06</td>\n",
       "      <td>4.292283e+07</td>\n",
       "    </tr>\n",
       "    <tr>\n",
       "      <th>13</th>\n",
       "      <td>2017-11-01</td>\n",
       "      <td>5447184.43</td>\n",
       "      <td>94993.76</td>\n",
       "      <td>617094.94</td>\n",
       "      <td>168141.79</td>\n",
       "      <td>1581530.20</td>\n",
       "      <td>4.257594e+06</td>\n",
       "      <td>5.838217e+07</td>\n",
       "    </tr>\n",
       "    <tr>\n",
       "      <th>14</th>\n",
       "      <td>2017-10-01</td>\n",
       "      <td>6152868.25</td>\n",
       "      <td>145925.31</td>\n",
       "      <td>766588.77</td>\n",
       "      <td>166522.62</td>\n",
       "      <td>2824785.80</td>\n",
       "      <td>4.290843e+06</td>\n",
       "      <td>8.226882e+07</td>\n",
       "    </tr>\n",
       "    <tr>\n",
       "      <th>15</th>\n",
       "      <td>2017-09-01</td>\n",
       "      <td>5792065.80</td>\n",
       "      <td>242194.37</td>\n",
       "      <td>1574779.65</td>\n",
       "      <td>353042.45</td>\n",
       "      <td>5581352.42</td>\n",
       "      <td>7.833349e+06</td>\n",
       "      <td>1.010081e+08</td>\n",
       "    </tr>\n",
       "    <tr>\n",
       "      <th>16</th>\n",
       "      <td>2017-08-01</td>\n",
       "      <td>5081714.64</td>\n",
       "      <td>332922.02</td>\n",
       "      <td>2323304.14</td>\n",
       "      <td>544076.63</td>\n",
       "      <td>7229409.84</td>\n",
       "      <td>1.376039e+07</td>\n",
       "      <td>1.049504e+08</td>\n",
       "    </tr>\n",
       "    <tr>\n",
       "      <th>17</th>\n",
       "      <td>2017-07-01</td>\n",
       "      <td>6691694.17</td>\n",
       "      <td>913425.95</td>\n",
       "      <td>6627299.71</td>\n",
       "      <td>1357778.93</td>\n",
       "      <td>13718046.88</td>\n",
       "      <td>4.257757e+07</td>\n",
       "      <td>1.116729e+08</td>\n",
       "    </tr>\n",
       "    <tr>\n",
       "      <th>18</th>\n",
       "      <td>2017-06-01</td>\n",
       "      <td>7155138.87</td>\n",
       "      <td>2045163.59</td>\n",
       "      <td>12422420.21</td>\n",
       "      <td>2639777.66</td>\n",
       "      <td>19635925.59</td>\n",
       "      <td>8.283230e+07</td>\n",
       "      <td>1.051463e+08</td>\n",
       "    </tr>\n",
       "    <tr>\n",
       "      <th>19</th>\n",
       "      <td>2017-05-01</td>\n",
       "      <td>8145781.12</td>\n",
       "      <td>3606141.82</td>\n",
       "      <td>15961946.71</td>\n",
       "      <td>3185961.75</td>\n",
       "      <td>20275515.85</td>\n",
       "      <td>1.014605e+08</td>\n",
       "      <td>9.185035e+07</td>\n",
       "    </tr>\n",
       "    <tr>\n",
       "      <th>20</th>\n",
       "      <td>2017-04-01</td>\n",
       "      <td>6682161.49</td>\n",
       "      <td>1285599.49</td>\n",
       "      <td>6214963.68</td>\n",
       "      <td>1554864.42</td>\n",
       "      <td>9197868.29</td>\n",
       "      <td>4.880687e+07</td>\n",
       "      <td>5.363586e+07</td>\n",
       "    </tr>\n",
       "    <tr>\n",
       "      <th>21</th>\n",
       "      <td>2017-03-01</td>\n",
       "      <td>3904656.82</td>\n",
       "      <td>390486.57</td>\n",
       "      <td>1319399.22</td>\n",
       "      <td>317206.48</td>\n",
       "      <td>3397837.60</td>\n",
       "      <td>1.488979e+07</td>\n",
       "      <td>4.078967e+07</td>\n",
       "    </tr>\n",
       "    <tr>\n",
       "      <th>22</th>\n",
       "      <td>2017-02-01</td>\n",
       "      <td>2584035.90</td>\n",
       "      <td>209643.87</td>\n",
       "      <td>687697.46</td>\n",
       "      <td>148158.07</td>\n",
       "      <td>1519446.34</td>\n",
       "      <td>5.929509e+06</td>\n",
       "      <td>3.467502e+07</td>\n",
       "    </tr>\n",
       "    <tr>\n",
       "      <th>23</th>\n",
       "      <td>2017-01-01</td>\n",
       "      <td>1781773.46</td>\n",
       "      <td>39434.76</td>\n",
       "      <td>238973.09</td>\n",
       "      <td>48164.63</td>\n",
       "      <td>596744.04</td>\n",
       "      <td>1.213749e+06</td>\n",
       "      <td>2.047156e+07</td>\n",
       "    </tr>\n",
       "    <tr>\n",
       "      <th>24</th>\n",
       "      <td>2016-12-01</td>\n",
       "      <td>3504367.98</td>\n",
       "      <td>84350.57</td>\n",
       "      <td>293737.20</td>\n",
       "      <td>52118.96</td>\n",
       "      <td>1234900.05</td>\n",
       "      <td>1.558634e+06</td>\n",
       "      <td>3.546668e+07</td>\n",
       "    </tr>\n",
       "    <tr>\n",
       "      <th>25</th>\n",
       "      <td>2016-11-01</td>\n",
       "      <td>4975519.21</td>\n",
       "      <td>106291.23</td>\n",
       "      <td>512990.23</td>\n",
       "      <td>82835.82</td>\n",
       "      <td>1473418.20</td>\n",
       "      <td>2.758827e+06</td>\n",
       "      <td>4.780625e+07</td>\n",
       "    </tr>\n",
       "    <tr>\n",
       "      <th>26</th>\n",
       "      <td>2016-10-01</td>\n",
       "      <td>4600717.78</td>\n",
       "      <td>179015.23</td>\n",
       "      <td>690912.02</td>\n",
       "      <td>130484.07</td>\n",
       "      <td>2543813.78</td>\n",
       "      <td>3.641803e+06</td>\n",
       "      <td>6.339722e+07</td>\n",
       "    </tr>\n",
       "    <tr>\n",
       "      <th>27</th>\n",
       "      <td>2016-09-01</td>\n",
       "      <td>4642681.07</td>\n",
       "      <td>210456.69</td>\n",
       "      <td>930513.91</td>\n",
       "      <td>168724.83</td>\n",
       "      <td>3092898.02</td>\n",
       "      <td>4.632818e+06</td>\n",
       "      <td>6.864724e+07</td>\n",
       "    </tr>\n",
       "    <tr>\n",
       "      <th>28</th>\n",
       "      <td>2016-08-01</td>\n",
       "      <td>4151326.68</td>\n",
       "      <td>316467.14</td>\n",
       "      <td>1581021.50</td>\n",
       "      <td>272553.95</td>\n",
       "      <td>4389862.79</td>\n",
       "      <td>8.956868e+06</td>\n",
       "      <td>7.610885e+07</td>\n",
       "    </tr>\n",
       "    <tr>\n",
       "      <th>29</th>\n",
       "      <td>2016-07-01</td>\n",
       "      <td>5412185.06</td>\n",
       "      <td>932728.10</td>\n",
       "      <td>4088320.77</td>\n",
       "      <td>761159.35</td>\n",
       "      <td>7384968.66</td>\n",
       "      <td>2.260036e+07</td>\n",
       "      <td>7.832954e+07</td>\n",
       "    </tr>\n",
       "    <tr>\n",
       "      <th>30</th>\n",
       "      <td>2016-06-01</td>\n",
       "      <td>5694825.13</td>\n",
       "      <td>2184985.33</td>\n",
       "      <td>8004562.69</td>\n",
       "      <td>1728788.53</td>\n",
       "      <td>10859461.67</td>\n",
       "      <td>4.640197e+07</td>\n",
       "      <td>7.693264e+07</td>\n",
       "    </tr>\n",
       "    <tr>\n",
       "      <th>31</th>\n",
       "      <td>2016-05-01</td>\n",
       "      <td>5469360.60</td>\n",
       "      <td>2059879.80</td>\n",
       "      <td>7474421.97</td>\n",
       "      <td>1618361.54</td>\n",
       "      <td>9912801.93</td>\n",
       "      <td>4.777690e+07</td>\n",
       "      <td>5.812696e+07</td>\n",
       "    </tr>\n",
       "    <tr>\n",
       "      <th>32</th>\n",
       "      <td>2016-04-01</td>\n",
       "      <td>5253619.06</td>\n",
       "      <td>1034992.53</td>\n",
       "      <td>3435257.35</td>\n",
       "      <td>758206.81</td>\n",
       "      <td>4687913.18</td>\n",
       "      <td>2.432917e+07</td>\n",
       "      <td>3.762602e+07</td>\n",
       "    </tr>\n",
       "    <tr>\n",
       "      <th>33</th>\n",
       "      <td>2016-03-01</td>\n",
       "      <td>3481194.46</td>\n",
       "      <td>352013.31</td>\n",
       "      <td>746709.07</td>\n",
       "      <td>246106.75</td>\n",
       "      <td>1204574.20</td>\n",
       "      <td>6.656382e+06</td>\n",
       "      <td>2.952610e+07</td>\n",
       "    </tr>\n",
       "    <tr>\n",
       "      <th>34</th>\n",
       "      <td>2016-02-01</td>\n",
       "      <td>1274810.96</td>\n",
       "      <td>96979.48</td>\n",
       "      <td>109108.05</td>\n",
       "      <td>36193.85</td>\n",
       "      <td>449199.41</td>\n",
       "      <td>6.939075e+05</td>\n",
       "      <td>1.500135e+07</td>\n",
       "    </tr>\n",
       "    <tr>\n",
       "      <th>35</th>\n",
       "      <td>2016-01-01</td>\n",
       "      <td>1562393.95</td>\n",
       "      <td>108412.71</td>\n",
       "      <td>113284.71</td>\n",
       "      <td>49670.25</td>\n",
       "      <td>619042.01</td>\n",
       "      <td>4.828890e+05</td>\n",
       "      <td>2.107822e+07</td>\n",
       "    </tr>\n",
       "  </tbody>\n",
       "</table>\n",
       "</div>"
      ],
      "text/plain": [
       "         year  anti-moth_tablets  electric_mosquito_coil_set  mosquito_coils  \\\n",
       "0  2018-12-01         3958717.58                    50204.53       426812.59   \n",
       "1  2018-11-01         6678677.55                    38692.61       776627.04   \n",
       "2  2018-10-01         8541153.59                   106531.29      1032414.29   \n",
       "3  2018-09-01         8825870.43                   105666.63      1566651.88   \n",
       "4  2018-08-01         6320153.44                   201467.03      2617149.00   \n",
       "5  2018-07-01         6302595.06                   438635.29      6209040.06   \n",
       "6  2018-06-01         7047206.98                   953749.78     12484919.63   \n",
       "7  2018-05-01         7942340.44                  1238967.37     15309721.94   \n",
       "8  2018-04-01         7031364.60                   841051.93      7954875.07   \n",
       "9  2018-03-01         6051561.02                   475177.48      2950648.32   \n",
       "10 2018-02-01         1393948.47                    33232.95       218915.63   \n",
       "11 2018-01-01         2607776.07                    54305.20       298146.11   \n",
       "12 2017-12-01         3259747.23                    71600.17       314120.38   \n",
       "13 2017-11-01         5447184.43                    94993.76       617094.94   \n",
       "14 2017-10-01         6152868.25                   145925.31       766588.77   \n",
       "15 2017-09-01         5792065.80                   242194.37      1574779.65   \n",
       "16 2017-08-01         5081714.64                   332922.02      2323304.14   \n",
       "17 2017-07-01         6691694.17                   913425.95      6627299.71   \n",
       "18 2017-06-01         7155138.87                  2045163.59     12422420.21   \n",
       "19 2017-05-01         8145781.12                  3606141.82     15961946.71   \n",
       "20 2017-04-01         6682161.49                  1285599.49      6214963.68   \n",
       "21 2017-03-01         3904656.82                   390486.57      1319399.22   \n",
       "22 2017-02-01         2584035.90                   209643.87       687697.46   \n",
       "23 2017-01-01         1781773.46                    39434.76       238973.09   \n",
       "24 2016-12-01         3504367.98                    84350.57       293737.20   \n",
       "25 2016-11-01         4975519.21                   106291.23       512990.23   \n",
       "26 2016-10-01         4600717.78                   179015.23       690912.02   \n",
       "27 2016-09-01         4642681.07                   210456.69       930513.91   \n",
       "28 2016-08-01         4151326.68                   316467.14      1581021.50   \n",
       "29 2016-07-01         5412185.06                   932728.10      4088320.77   \n",
       "30 2016-06-01         5694825.13                  2184985.33      8004562.69   \n",
       "31 2016-05-01         5469360.60                  2059879.80      7474421.97   \n",
       "32 2016-04-01         5253619.06                  1034992.53      3435257.35   \n",
       "33 2016-03-01         3481194.46                   352013.31       746709.07   \n",
       "34 2016-02-01         1274810.96                    96979.48       109108.05   \n",
       "35 2016-01-01         1562393.95                   108412.71       113284.71   \n",
       "\n",
       "    mosquito_coil_heater  mosquito_repellent_incense_tray  mosquito_repellent  \\\n",
       "0               86849.17                        928554.26        3.081492e+06   \n",
       "1              193874.39                       1801318.82        5.543204e+06   \n",
       "2              315639.48                       4171283.35        7.814546e+06   \n",
       "3              457366.41                       6784500.17        1.065497e+07   \n",
       "4              746513.13                      10709683.41        1.783558e+07   \n",
       "5             1871757.00                      16589184.89        3.887792e+07   \n",
       "6             3641025.92                      23526385.73        7.649909e+07   \n",
       "7             5032466.78                      28118581.25        1.050396e+08   \n",
       "8             3130513.43                      16420341.87        6.254165e+07   \n",
       "9             1198332.81                       7900094.91        2.632447e+07   \n",
       "10              75714.46                        545917.66        2.235774e+06   \n",
       "11              86670.45                        592663.20        1.759451e+06   \n",
       "12              69145.59                        796930.46        2.213103e+06   \n",
       "13             168141.79                       1581530.20        4.257594e+06   \n",
       "14             166522.62                       2824785.80        4.290843e+06   \n",
       "15             353042.45                       5581352.42        7.833349e+06   \n",
       "16             544076.63                       7229409.84        1.376039e+07   \n",
       "17            1357778.93                      13718046.88        4.257757e+07   \n",
       "18            2639777.66                      19635925.59        8.283230e+07   \n",
       "19            3185961.75                      20275515.85        1.014605e+08   \n",
       "20            1554864.42                       9197868.29        4.880687e+07   \n",
       "21             317206.48                       3397837.60        1.488979e+07   \n",
       "22             148158.07                       1519446.34        5.929509e+06   \n",
       "23              48164.63                        596744.04        1.213749e+06   \n",
       "24              52118.96                       1234900.05        1.558634e+06   \n",
       "25              82835.82                       1473418.20        2.758827e+06   \n",
       "26             130484.07                       2543813.78        3.641803e+06   \n",
       "27             168724.83                       3092898.02        4.632818e+06   \n",
       "28             272553.95                       4389862.79        8.956868e+06   \n",
       "29             761159.35                       7384968.66        2.260036e+07   \n",
       "30            1728788.53                      10859461.67        4.640197e+07   \n",
       "31            1618361.54                       9912801.93        4.777690e+07   \n",
       "32             758206.81                       4687913.18        2.432917e+07   \n",
       "33             246106.75                       1204574.20        6.656382e+06   \n",
       "34              36193.85                        449199.41        6.939075e+05   \n",
       "35              49670.25                        619042.01        4.828890e+05   \n",
       "\n",
       "     rodenticide  \n",
       "0   5.256763e+07  \n",
       "1   7.175250e+07  \n",
       "2   1.136548e+08  \n",
       "3   1.440261e+08  \n",
       "4   1.540426e+08  \n",
       "5   1.480032e+08  \n",
       "6   1.359438e+08  \n",
       "7   1.241642e+08  \n",
       "8   7.509661e+07  \n",
       "9   5.918182e+07  \n",
       "10  2.292138e+07  \n",
       "11  3.653873e+07  \n",
       "12  4.292283e+07  \n",
       "13  5.838217e+07  \n",
       "14  8.226882e+07  \n",
       "15  1.010081e+08  \n",
       "16  1.049504e+08  \n",
       "17  1.116729e+08  \n",
       "18  1.051463e+08  \n",
       "19  9.185035e+07  \n",
       "20  5.363586e+07  \n",
       "21  4.078967e+07  \n",
       "22  3.467502e+07  \n",
       "23  2.047156e+07  \n",
       "24  3.546668e+07  \n",
       "25  4.780625e+07  \n",
       "26  6.339722e+07  \n",
       "27  6.864724e+07  \n",
       "28  7.610885e+07  \n",
       "29  7.832954e+07  \n",
       "30  7.693264e+07  \n",
       "31  5.812696e+07  \n",
       "32  3.762602e+07  \n",
       "33  2.952610e+07  \n",
       "34  1.500135e+07  \n",
       "35  2.107822e+07  "
      ]
     },
     "execution_count": 80,
     "metadata": {},
     "output_type": "execute_result"
    }
   ],
   "source": [
    "df"
   ]
  },
  {
   "cell_type": "markdown",
   "id": "d63da70f",
   "metadata": {},
   "source": [
    "## Market analysis\n",
    "1. Analyze general trends across the market\n",
    "2. Analyze the trend of each sub-categories\n",
    "3. Analyze sub-categories concentration"
   ]
  },
  {
   "cell_type": "code",
   "execution_count": 81,
   "id": "d43a1e1c",
   "metadata": {},
   "outputs": [
    {
     "name": "stderr",
     "output_type": "stream",
     "text": [
      "C:\\Users\\ws\\AppData\\Local\\Temp\\ipykernel_8284\\2649067004.py:2: FutureWarning: Dropping of nuisance columns in DataFrame reductions (with 'numeric_only=None') is deprecated; in a future version this will raise TypeError.  Select only valid columns before calling the reduction.\n",
      "  df['colsums'] = df.sum(1)\n",
      "C:\\Users\\ws\\AppData\\Local\\Temp\\ipykernel_8284\\2649067004.py:2: SettingWithCopyWarning: \n",
      "A value is trying to be set on a copy of a slice from a DataFrame.\n",
      "Try using .loc[row_indexer,col_indexer] = value instead\n",
      "\n",
      "See the caveats in the documentation: https://pandas.pydata.org/pandas-docs/stable/user_guide/indexing.html#returning-a-view-versus-a-copy\n",
      "  df['colsums'] = df.sum(1)\n"
     ]
    }
   ],
   "source": [
    "# Create total transaction amount column\n",
    "df['colsums'] = df.sum(1)"
   ]
  },
  {
   "cell_type": "code",
   "execution_count": 82,
   "id": "64f7c1f1",
   "metadata": {},
   "outputs": [
    {
     "data": {
      "text/html": [
       "<div>\n",
       "<style scoped>\n",
       "    .dataframe tbody tr th:only-of-type {\n",
       "        vertical-align: middle;\n",
       "    }\n",
       "\n",
       "    .dataframe tbody tr th {\n",
       "        vertical-align: top;\n",
       "    }\n",
       "\n",
       "    .dataframe thead th {\n",
       "        text-align: right;\n",
       "    }\n",
       "</style>\n",
       "<table border=\"1\" class=\"dataframe\">\n",
       "  <thead>\n",
       "    <tr style=\"text-align: right;\">\n",
       "      <th></th>\n",
       "      <th>year</th>\n",
       "      <th>anti-moth_tablets</th>\n",
       "      <th>electric_mosquito_coil_set</th>\n",
       "      <th>mosquito_coils</th>\n",
       "      <th>mosquito_coil_heater</th>\n",
       "      <th>mosquito_repellent_incense_tray</th>\n",
       "      <th>mosquito_repellent</th>\n",
       "      <th>rodenticide</th>\n",
       "      <th>colsums</th>\n",
       "    </tr>\n",
       "  </thead>\n",
       "  <tbody>\n",
       "    <tr>\n",
       "      <th>0</th>\n",
       "      <td>2018-12-01</td>\n",
       "      <td>3958717.58</td>\n",
       "      <td>50204.53</td>\n",
       "      <td>426812.59</td>\n",
       "      <td>86849.17</td>\n",
       "      <td>928554.26</td>\n",
       "      <td>3.081492e+06</td>\n",
       "      <td>5.256763e+07</td>\n",
       "      <td>6.110026e+07</td>\n",
       "    </tr>\n",
       "    <tr>\n",
       "      <th>1</th>\n",
       "      <td>2018-11-01</td>\n",
       "      <td>6678677.55</td>\n",
       "      <td>38692.61</td>\n",
       "      <td>776627.04</td>\n",
       "      <td>193874.39</td>\n",
       "      <td>1801318.82</td>\n",
       "      <td>5.543204e+06</td>\n",
       "      <td>7.175250e+07</td>\n",
       "      <td>8.678489e+07</td>\n",
       "    </tr>\n",
       "    <tr>\n",
       "      <th>2</th>\n",
       "      <td>2018-10-01</td>\n",
       "      <td>8541153.59</td>\n",
       "      <td>106531.29</td>\n",
       "      <td>1032414.29</td>\n",
       "      <td>315639.48</td>\n",
       "      <td>4171283.35</td>\n",
       "      <td>7.814546e+06</td>\n",
       "      <td>1.136548e+08</td>\n",
       "      <td>1.356363e+08</td>\n",
       "    </tr>\n",
       "    <tr>\n",
       "      <th>3</th>\n",
       "      <td>2018-09-01</td>\n",
       "      <td>8825870.43</td>\n",
       "      <td>105666.63</td>\n",
       "      <td>1566651.88</td>\n",
       "      <td>457366.41</td>\n",
       "      <td>6784500.17</td>\n",
       "      <td>1.065497e+07</td>\n",
       "      <td>1.440261e+08</td>\n",
       "      <td>1.724211e+08</td>\n",
       "    </tr>\n",
       "    <tr>\n",
       "      <th>4</th>\n",
       "      <td>2018-08-01</td>\n",
       "      <td>6320153.44</td>\n",
       "      <td>201467.03</td>\n",
       "      <td>2617149.00</td>\n",
       "      <td>746513.13</td>\n",
       "      <td>10709683.41</td>\n",
       "      <td>1.783558e+07</td>\n",
       "      <td>1.540426e+08</td>\n",
       "      <td>1.924731e+08</td>\n",
       "    </tr>\n",
       "    <tr>\n",
       "      <th>5</th>\n",
       "      <td>2018-07-01</td>\n",
       "      <td>6302595.06</td>\n",
       "      <td>438635.29</td>\n",
       "      <td>6209040.06</td>\n",
       "      <td>1871757.00</td>\n",
       "      <td>16589184.89</td>\n",
       "      <td>3.887792e+07</td>\n",
       "      <td>1.480032e+08</td>\n",
       "      <td>2.182924e+08</td>\n",
       "    </tr>\n",
       "    <tr>\n",
       "      <th>6</th>\n",
       "      <td>2018-06-01</td>\n",
       "      <td>7047206.98</td>\n",
       "      <td>953749.78</td>\n",
       "      <td>12484919.63</td>\n",
       "      <td>3641025.92</td>\n",
       "      <td>23526385.73</td>\n",
       "      <td>7.649909e+07</td>\n",
       "      <td>1.359438e+08</td>\n",
       "      <td>2.600962e+08</td>\n",
       "    </tr>\n",
       "    <tr>\n",
       "      <th>7</th>\n",
       "      <td>2018-05-01</td>\n",
       "      <td>7942340.44</td>\n",
       "      <td>1238967.37</td>\n",
       "      <td>15309721.94</td>\n",
       "      <td>5032466.78</td>\n",
       "      <td>28118581.25</td>\n",
       "      <td>1.050396e+08</td>\n",
       "      <td>1.241642e+08</td>\n",
       "      <td>2.868459e+08</td>\n",
       "    </tr>\n",
       "    <tr>\n",
       "      <th>8</th>\n",
       "      <td>2018-04-01</td>\n",
       "      <td>7031364.60</td>\n",
       "      <td>841051.93</td>\n",
       "      <td>7954875.07</td>\n",
       "      <td>3130513.43</td>\n",
       "      <td>16420341.87</td>\n",
       "      <td>6.254165e+07</td>\n",
       "      <td>7.509661e+07</td>\n",
       "      <td>1.730164e+08</td>\n",
       "    </tr>\n",
       "    <tr>\n",
       "      <th>9</th>\n",
       "      <td>2018-03-01</td>\n",
       "      <td>6051561.02</td>\n",
       "      <td>475177.48</td>\n",
       "      <td>2950648.32</td>\n",
       "      <td>1198332.81</td>\n",
       "      <td>7900094.91</td>\n",
       "      <td>2.632447e+07</td>\n",
       "      <td>5.918182e+07</td>\n",
       "      <td>1.040821e+08</td>\n",
       "    </tr>\n",
       "    <tr>\n",
       "      <th>10</th>\n",
       "      <td>2018-02-01</td>\n",
       "      <td>1393948.47</td>\n",
       "      <td>33232.95</td>\n",
       "      <td>218915.63</td>\n",
       "      <td>75714.46</td>\n",
       "      <td>545917.66</td>\n",
       "      <td>2.235774e+06</td>\n",
       "      <td>2.292138e+07</td>\n",
       "      <td>2.742488e+07</td>\n",
       "    </tr>\n",
       "    <tr>\n",
       "      <th>11</th>\n",
       "      <td>2018-01-01</td>\n",
       "      <td>2607776.07</td>\n",
       "      <td>54305.20</td>\n",
       "      <td>298146.11</td>\n",
       "      <td>86670.45</td>\n",
       "      <td>592663.20</td>\n",
       "      <td>1.759451e+06</td>\n",
       "      <td>3.653873e+07</td>\n",
       "      <td>4.193774e+07</td>\n",
       "    </tr>\n",
       "    <tr>\n",
       "      <th>12</th>\n",
       "      <td>2017-12-01</td>\n",
       "      <td>3259747.23</td>\n",
       "      <td>71600.17</td>\n",
       "      <td>314120.38</td>\n",
       "      <td>69145.59</td>\n",
       "      <td>796930.46</td>\n",
       "      <td>2.213103e+06</td>\n",
       "      <td>4.292283e+07</td>\n",
       "      <td>4.964748e+07</td>\n",
       "    </tr>\n",
       "    <tr>\n",
       "      <th>13</th>\n",
       "      <td>2017-11-01</td>\n",
       "      <td>5447184.43</td>\n",
       "      <td>94993.76</td>\n",
       "      <td>617094.94</td>\n",
       "      <td>168141.79</td>\n",
       "      <td>1581530.20</td>\n",
       "      <td>4.257594e+06</td>\n",
       "      <td>5.838217e+07</td>\n",
       "      <td>7.054871e+07</td>\n",
       "    </tr>\n",
       "    <tr>\n",
       "      <th>14</th>\n",
       "      <td>2017-10-01</td>\n",
       "      <td>6152868.25</td>\n",
       "      <td>145925.31</td>\n",
       "      <td>766588.77</td>\n",
       "      <td>166522.62</td>\n",
       "      <td>2824785.80</td>\n",
       "      <td>4.290843e+06</td>\n",
       "      <td>8.226882e+07</td>\n",
       "      <td>9.661636e+07</td>\n",
       "    </tr>\n",
       "    <tr>\n",
       "      <th>15</th>\n",
       "      <td>2017-09-01</td>\n",
       "      <td>5792065.80</td>\n",
       "      <td>242194.37</td>\n",
       "      <td>1574779.65</td>\n",
       "      <td>353042.45</td>\n",
       "      <td>5581352.42</td>\n",
       "      <td>7.833349e+06</td>\n",
       "      <td>1.010081e+08</td>\n",
       "      <td>1.223849e+08</td>\n",
       "    </tr>\n",
       "    <tr>\n",
       "      <th>16</th>\n",
       "      <td>2017-08-01</td>\n",
       "      <td>5081714.64</td>\n",
       "      <td>332922.02</td>\n",
       "      <td>2323304.14</td>\n",
       "      <td>544076.63</td>\n",
       "      <td>7229409.84</td>\n",
       "      <td>1.376039e+07</td>\n",
       "      <td>1.049504e+08</td>\n",
       "      <td>1.342222e+08</td>\n",
       "    </tr>\n",
       "    <tr>\n",
       "      <th>17</th>\n",
       "      <td>2017-07-01</td>\n",
       "      <td>6691694.17</td>\n",
       "      <td>913425.95</td>\n",
       "      <td>6627299.71</td>\n",
       "      <td>1357778.93</td>\n",
       "      <td>13718046.88</td>\n",
       "      <td>4.257757e+07</td>\n",
       "      <td>1.116729e+08</td>\n",
       "      <td>1.835587e+08</td>\n",
       "    </tr>\n",
       "    <tr>\n",
       "      <th>18</th>\n",
       "      <td>2017-06-01</td>\n",
       "      <td>7155138.87</td>\n",
       "      <td>2045163.59</td>\n",
       "      <td>12422420.21</td>\n",
       "      <td>2639777.66</td>\n",
       "      <td>19635925.59</td>\n",
       "      <td>8.283230e+07</td>\n",
       "      <td>1.051463e+08</td>\n",
       "      <td>2.318770e+08</td>\n",
       "    </tr>\n",
       "    <tr>\n",
       "      <th>19</th>\n",
       "      <td>2017-05-01</td>\n",
       "      <td>8145781.12</td>\n",
       "      <td>3606141.82</td>\n",
       "      <td>15961946.71</td>\n",
       "      <td>3185961.75</td>\n",
       "      <td>20275515.85</td>\n",
       "      <td>1.014605e+08</td>\n",
       "      <td>9.185035e+07</td>\n",
       "      <td>2.444862e+08</td>\n",
       "    </tr>\n",
       "    <tr>\n",
       "      <th>20</th>\n",
       "      <td>2017-04-01</td>\n",
       "      <td>6682161.49</td>\n",
       "      <td>1285599.49</td>\n",
       "      <td>6214963.68</td>\n",
       "      <td>1554864.42</td>\n",
       "      <td>9197868.29</td>\n",
       "      <td>4.880687e+07</td>\n",
       "      <td>5.363586e+07</td>\n",
       "      <td>1.273782e+08</td>\n",
       "    </tr>\n",
       "    <tr>\n",
       "      <th>21</th>\n",
       "      <td>2017-03-01</td>\n",
       "      <td>3904656.82</td>\n",
       "      <td>390486.57</td>\n",
       "      <td>1319399.22</td>\n",
       "      <td>317206.48</td>\n",
       "      <td>3397837.60</td>\n",
       "      <td>1.488979e+07</td>\n",
       "      <td>4.078967e+07</td>\n",
       "      <td>6.500904e+07</td>\n",
       "    </tr>\n",
       "    <tr>\n",
       "      <th>22</th>\n",
       "      <td>2017-02-01</td>\n",
       "      <td>2584035.90</td>\n",
       "      <td>209643.87</td>\n",
       "      <td>687697.46</td>\n",
       "      <td>148158.07</td>\n",
       "      <td>1519446.34</td>\n",
       "      <td>5.929509e+06</td>\n",
       "      <td>3.467502e+07</td>\n",
       "      <td>4.575351e+07</td>\n",
       "    </tr>\n",
       "    <tr>\n",
       "      <th>23</th>\n",
       "      <td>2017-01-01</td>\n",
       "      <td>1781773.46</td>\n",
       "      <td>39434.76</td>\n",
       "      <td>238973.09</td>\n",
       "      <td>48164.63</td>\n",
       "      <td>596744.04</td>\n",
       "      <td>1.213749e+06</td>\n",
       "      <td>2.047156e+07</td>\n",
       "      <td>2.439040e+07</td>\n",
       "    </tr>\n",
       "    <tr>\n",
       "      <th>24</th>\n",
       "      <td>2016-12-01</td>\n",
       "      <td>3504367.98</td>\n",
       "      <td>84350.57</td>\n",
       "      <td>293737.20</td>\n",
       "      <td>52118.96</td>\n",
       "      <td>1234900.05</td>\n",
       "      <td>1.558634e+06</td>\n",
       "      <td>3.546668e+07</td>\n",
       "      <td>4.219479e+07</td>\n",
       "    </tr>\n",
       "    <tr>\n",
       "      <th>25</th>\n",
       "      <td>2016-11-01</td>\n",
       "      <td>4975519.21</td>\n",
       "      <td>106291.23</td>\n",
       "      <td>512990.23</td>\n",
       "      <td>82835.82</td>\n",
       "      <td>1473418.20</td>\n",
       "      <td>2.758827e+06</td>\n",
       "      <td>4.780625e+07</td>\n",
       "      <td>5.771613e+07</td>\n",
       "    </tr>\n",
       "    <tr>\n",
       "      <th>26</th>\n",
       "      <td>2016-10-01</td>\n",
       "      <td>4600717.78</td>\n",
       "      <td>179015.23</td>\n",
       "      <td>690912.02</td>\n",
       "      <td>130484.07</td>\n",
       "      <td>2543813.78</td>\n",
       "      <td>3.641803e+06</td>\n",
       "      <td>6.339722e+07</td>\n",
       "      <td>7.518397e+07</td>\n",
       "    </tr>\n",
       "    <tr>\n",
       "      <th>27</th>\n",
       "      <td>2016-09-01</td>\n",
       "      <td>4642681.07</td>\n",
       "      <td>210456.69</td>\n",
       "      <td>930513.91</td>\n",
       "      <td>168724.83</td>\n",
       "      <td>3092898.02</td>\n",
       "      <td>4.632818e+06</td>\n",
       "      <td>6.864724e+07</td>\n",
       "      <td>8.232534e+07</td>\n",
       "    </tr>\n",
       "    <tr>\n",
       "      <th>28</th>\n",
       "      <td>2016-08-01</td>\n",
       "      <td>4151326.68</td>\n",
       "      <td>316467.14</td>\n",
       "      <td>1581021.50</td>\n",
       "      <td>272553.95</td>\n",
       "      <td>4389862.79</td>\n",
       "      <td>8.956868e+06</td>\n",
       "      <td>7.610885e+07</td>\n",
       "      <td>9.577695e+07</td>\n",
       "    </tr>\n",
       "    <tr>\n",
       "      <th>29</th>\n",
       "      <td>2016-07-01</td>\n",
       "      <td>5412185.06</td>\n",
       "      <td>932728.10</td>\n",
       "      <td>4088320.77</td>\n",
       "      <td>761159.35</td>\n",
       "      <td>7384968.66</td>\n",
       "      <td>2.260036e+07</td>\n",
       "      <td>7.832954e+07</td>\n",
       "      <td>1.195093e+08</td>\n",
       "    </tr>\n",
       "    <tr>\n",
       "      <th>30</th>\n",
       "      <td>2016-06-01</td>\n",
       "      <td>5694825.13</td>\n",
       "      <td>2184985.33</td>\n",
       "      <td>8004562.69</td>\n",
       "      <td>1728788.53</td>\n",
       "      <td>10859461.67</td>\n",
       "      <td>4.640197e+07</td>\n",
       "      <td>7.693264e+07</td>\n",
       "      <td>1.518072e+08</td>\n",
       "    </tr>\n",
       "    <tr>\n",
       "      <th>31</th>\n",
       "      <td>2016-05-01</td>\n",
       "      <td>5469360.60</td>\n",
       "      <td>2059879.80</td>\n",
       "      <td>7474421.97</td>\n",
       "      <td>1618361.54</td>\n",
       "      <td>9912801.93</td>\n",
       "      <td>4.777690e+07</td>\n",
       "      <td>5.812696e+07</td>\n",
       "      <td>1.324387e+08</td>\n",
       "    </tr>\n",
       "    <tr>\n",
       "      <th>32</th>\n",
       "      <td>2016-04-01</td>\n",
       "      <td>5253619.06</td>\n",
       "      <td>1034992.53</td>\n",
       "      <td>3435257.35</td>\n",
       "      <td>758206.81</td>\n",
       "      <td>4687913.18</td>\n",
       "      <td>2.432917e+07</td>\n",
       "      <td>3.762602e+07</td>\n",
       "      <td>7.712518e+07</td>\n",
       "    </tr>\n",
       "    <tr>\n",
       "      <th>33</th>\n",
       "      <td>2016-03-01</td>\n",
       "      <td>3481194.46</td>\n",
       "      <td>352013.31</td>\n",
       "      <td>746709.07</td>\n",
       "      <td>246106.75</td>\n",
       "      <td>1204574.20</td>\n",
       "      <td>6.656382e+06</td>\n",
       "      <td>2.952610e+07</td>\n",
       "      <td>4.221308e+07</td>\n",
       "    </tr>\n",
       "    <tr>\n",
       "      <th>34</th>\n",
       "      <td>2016-02-01</td>\n",
       "      <td>1274810.96</td>\n",
       "      <td>96979.48</td>\n",
       "      <td>109108.05</td>\n",
       "      <td>36193.85</td>\n",
       "      <td>449199.41</td>\n",
       "      <td>6.939075e+05</td>\n",
       "      <td>1.500135e+07</td>\n",
       "      <td>1.766155e+07</td>\n",
       "    </tr>\n",
       "    <tr>\n",
       "      <th>35</th>\n",
       "      <td>2016-01-01</td>\n",
       "      <td>1562393.95</td>\n",
       "      <td>108412.71</td>\n",
       "      <td>113284.71</td>\n",
       "      <td>49670.25</td>\n",
       "      <td>619042.01</td>\n",
       "      <td>4.828890e+05</td>\n",
       "      <td>2.107822e+07</td>\n",
       "      <td>2.401391e+07</td>\n",
       "    </tr>\n",
       "  </tbody>\n",
       "</table>\n",
       "</div>"
      ],
      "text/plain": [
       "         year  anti-moth_tablets  electric_mosquito_coil_set  mosquito_coils  \\\n",
       "0  2018-12-01         3958717.58                    50204.53       426812.59   \n",
       "1  2018-11-01         6678677.55                    38692.61       776627.04   \n",
       "2  2018-10-01         8541153.59                   106531.29      1032414.29   \n",
       "3  2018-09-01         8825870.43                   105666.63      1566651.88   \n",
       "4  2018-08-01         6320153.44                   201467.03      2617149.00   \n",
       "5  2018-07-01         6302595.06                   438635.29      6209040.06   \n",
       "6  2018-06-01         7047206.98                   953749.78     12484919.63   \n",
       "7  2018-05-01         7942340.44                  1238967.37     15309721.94   \n",
       "8  2018-04-01         7031364.60                   841051.93      7954875.07   \n",
       "9  2018-03-01         6051561.02                   475177.48      2950648.32   \n",
       "10 2018-02-01         1393948.47                    33232.95       218915.63   \n",
       "11 2018-01-01         2607776.07                    54305.20       298146.11   \n",
       "12 2017-12-01         3259747.23                    71600.17       314120.38   \n",
       "13 2017-11-01         5447184.43                    94993.76       617094.94   \n",
       "14 2017-10-01         6152868.25                   145925.31       766588.77   \n",
       "15 2017-09-01         5792065.80                   242194.37      1574779.65   \n",
       "16 2017-08-01         5081714.64                   332922.02      2323304.14   \n",
       "17 2017-07-01         6691694.17                   913425.95      6627299.71   \n",
       "18 2017-06-01         7155138.87                  2045163.59     12422420.21   \n",
       "19 2017-05-01         8145781.12                  3606141.82     15961946.71   \n",
       "20 2017-04-01         6682161.49                  1285599.49      6214963.68   \n",
       "21 2017-03-01         3904656.82                   390486.57      1319399.22   \n",
       "22 2017-02-01         2584035.90                   209643.87       687697.46   \n",
       "23 2017-01-01         1781773.46                    39434.76       238973.09   \n",
       "24 2016-12-01         3504367.98                    84350.57       293737.20   \n",
       "25 2016-11-01         4975519.21                   106291.23       512990.23   \n",
       "26 2016-10-01         4600717.78                   179015.23       690912.02   \n",
       "27 2016-09-01         4642681.07                   210456.69       930513.91   \n",
       "28 2016-08-01         4151326.68                   316467.14      1581021.50   \n",
       "29 2016-07-01         5412185.06                   932728.10      4088320.77   \n",
       "30 2016-06-01         5694825.13                  2184985.33      8004562.69   \n",
       "31 2016-05-01         5469360.60                  2059879.80      7474421.97   \n",
       "32 2016-04-01         5253619.06                  1034992.53      3435257.35   \n",
       "33 2016-03-01         3481194.46                   352013.31       746709.07   \n",
       "34 2016-02-01         1274810.96                    96979.48       109108.05   \n",
       "35 2016-01-01         1562393.95                   108412.71       113284.71   \n",
       "\n",
       "    mosquito_coil_heater  mosquito_repellent_incense_tray  mosquito_repellent  \\\n",
       "0               86849.17                        928554.26        3.081492e+06   \n",
       "1              193874.39                       1801318.82        5.543204e+06   \n",
       "2              315639.48                       4171283.35        7.814546e+06   \n",
       "3              457366.41                       6784500.17        1.065497e+07   \n",
       "4              746513.13                      10709683.41        1.783558e+07   \n",
       "5             1871757.00                      16589184.89        3.887792e+07   \n",
       "6             3641025.92                      23526385.73        7.649909e+07   \n",
       "7             5032466.78                      28118581.25        1.050396e+08   \n",
       "8             3130513.43                      16420341.87        6.254165e+07   \n",
       "9             1198332.81                       7900094.91        2.632447e+07   \n",
       "10              75714.46                        545917.66        2.235774e+06   \n",
       "11              86670.45                        592663.20        1.759451e+06   \n",
       "12              69145.59                        796930.46        2.213103e+06   \n",
       "13             168141.79                       1581530.20        4.257594e+06   \n",
       "14             166522.62                       2824785.80        4.290843e+06   \n",
       "15             353042.45                       5581352.42        7.833349e+06   \n",
       "16             544076.63                       7229409.84        1.376039e+07   \n",
       "17            1357778.93                      13718046.88        4.257757e+07   \n",
       "18            2639777.66                      19635925.59        8.283230e+07   \n",
       "19            3185961.75                      20275515.85        1.014605e+08   \n",
       "20            1554864.42                       9197868.29        4.880687e+07   \n",
       "21             317206.48                       3397837.60        1.488979e+07   \n",
       "22             148158.07                       1519446.34        5.929509e+06   \n",
       "23              48164.63                        596744.04        1.213749e+06   \n",
       "24              52118.96                       1234900.05        1.558634e+06   \n",
       "25              82835.82                       1473418.20        2.758827e+06   \n",
       "26             130484.07                       2543813.78        3.641803e+06   \n",
       "27             168724.83                       3092898.02        4.632818e+06   \n",
       "28             272553.95                       4389862.79        8.956868e+06   \n",
       "29             761159.35                       7384968.66        2.260036e+07   \n",
       "30            1728788.53                      10859461.67        4.640197e+07   \n",
       "31            1618361.54                       9912801.93        4.777690e+07   \n",
       "32             758206.81                       4687913.18        2.432917e+07   \n",
       "33             246106.75                       1204574.20        6.656382e+06   \n",
       "34              36193.85                        449199.41        6.939075e+05   \n",
       "35              49670.25                        619042.01        4.828890e+05   \n",
       "\n",
       "     rodenticide       colsums  \n",
       "0   5.256763e+07  6.110026e+07  \n",
       "1   7.175250e+07  8.678489e+07  \n",
       "2   1.136548e+08  1.356363e+08  \n",
       "3   1.440261e+08  1.724211e+08  \n",
       "4   1.540426e+08  1.924731e+08  \n",
       "5   1.480032e+08  2.182924e+08  \n",
       "6   1.359438e+08  2.600962e+08  \n",
       "7   1.241642e+08  2.868459e+08  \n",
       "8   7.509661e+07  1.730164e+08  \n",
       "9   5.918182e+07  1.040821e+08  \n",
       "10  2.292138e+07  2.742488e+07  \n",
       "11  3.653873e+07  4.193774e+07  \n",
       "12  4.292283e+07  4.964748e+07  \n",
       "13  5.838217e+07  7.054871e+07  \n",
       "14  8.226882e+07  9.661636e+07  \n",
       "15  1.010081e+08  1.223849e+08  \n",
       "16  1.049504e+08  1.342222e+08  \n",
       "17  1.116729e+08  1.835587e+08  \n",
       "18  1.051463e+08  2.318770e+08  \n",
       "19  9.185035e+07  2.444862e+08  \n",
       "20  5.363586e+07  1.273782e+08  \n",
       "21  4.078967e+07  6.500904e+07  \n",
       "22  3.467502e+07  4.575351e+07  \n",
       "23  2.047156e+07  2.439040e+07  \n",
       "24  3.546668e+07  4.219479e+07  \n",
       "25  4.780625e+07  5.771613e+07  \n",
       "26  6.339722e+07  7.518397e+07  \n",
       "27  6.864724e+07  8.232534e+07  \n",
       "28  7.610885e+07  9.577695e+07  \n",
       "29  7.832954e+07  1.195093e+08  \n",
       "30  7.693264e+07  1.518072e+08  \n",
       "31  5.812696e+07  1.324387e+08  \n",
       "32  3.762602e+07  7.712518e+07  \n",
       "33  2.952610e+07  4.221308e+07  \n",
       "34  1.500135e+07  1.766155e+07  \n",
       "35  2.107822e+07  2.401391e+07  "
      ]
     },
     "execution_count": 82,
     "metadata": {},
     "output_type": "execute_result"
    }
   ],
   "source": [
    "df"
   ]
  },
  {
   "cell_type": "code",
   "execution_count": 83,
   "id": "23b10bd3",
   "metadata": {},
   "outputs": [],
   "source": [
    "df.insert(1,'year_only',df['year'].dt.year) #create year only column"
   ]
  },
  {
   "cell_type": "code",
   "execution_count": 85,
   "id": "12846406",
   "metadata": {
    "scrolled": true
   },
   "outputs": [
    {
     "data": {
      "text/html": [
       "<div>\n",
       "<style scoped>\n",
       "    .dataframe tbody tr th:only-of-type {\n",
       "        vertical-align: middle;\n",
       "    }\n",
       "\n",
       "    .dataframe tbody tr th {\n",
       "        vertical-align: top;\n",
       "    }\n",
       "\n",
       "    .dataframe thead th {\n",
       "        text-align: right;\n",
       "    }\n",
       "</style>\n",
       "<table border=\"1\" class=\"dataframe\">\n",
       "  <thead>\n",
       "    <tr style=\"text-align: right;\">\n",
       "      <th></th>\n",
       "      <th>year_only</th>\n",
       "      <th>anti-moth_tablets</th>\n",
       "      <th>electric_mosquito_coil_set</th>\n",
       "      <th>mosquito_coils</th>\n",
       "      <th>mosquito_coil_heater</th>\n",
       "      <th>mosquito_repellent_incense_tray</th>\n",
       "      <th>mosquito_repellent</th>\n",
       "      <th>rodenticide</th>\n",
       "      <th>colsums</th>\n",
       "    </tr>\n",
       "  </thead>\n",
       "  <tbody>\n",
       "    <tr>\n",
       "      <th>0</th>\n",
       "      <td>2016</td>\n",
       "      <td>50023001.94</td>\n",
       "      <td>7666572.12</td>\n",
       "      <td>27980839.47</td>\n",
       "      <td>5905204.71</td>\n",
       "      <td>4.785285e+07</td>\n",
       "      <td>1.704905e+08</td>\n",
       "      <td>6.080471e+08</td>\n",
       "      <td>9.179661e+08</td>\n",
       "    </tr>\n",
       "    <tr>\n",
       "      <th>1</th>\n",
       "      <td>2017</td>\n",
       "      <td>62678822.18</td>\n",
       "      <td>9377531.68</td>\n",
       "      <td>49068587.96</td>\n",
       "      <td>10552841.02</td>\n",
       "      <td>8.635539e+07</td>\n",
       "      <td>3.300656e+08</td>\n",
       "      <td>8.477740e+08</td>\n",
       "      <td>1.395873e+09</td>\n",
       "    </tr>\n",
       "    <tr>\n",
       "      <th>2</th>\n",
       "      <td>2018</td>\n",
       "      <td>72701365.23</td>\n",
       "      <td>4537682.09</td>\n",
       "      <td>51845921.56</td>\n",
       "      <td>16836723.43</td>\n",
       "      <td>1.180885e+08</td>\n",
       "      <td>3.582077e+08</td>\n",
       "      <td>1.137893e+09</td>\n",
       "      <td>1.760111e+09</td>\n",
       "    </tr>\n",
       "  </tbody>\n",
       "</table>\n",
       "</div>"
      ],
      "text/plain": [
       "   year_only  anti-moth_tablets  electric_mosquito_coil_set  mosquito_coils  \\\n",
       "0       2016        50023001.94                  7666572.12     27980839.47   \n",
       "1       2017        62678822.18                  9377531.68     49068587.96   \n",
       "2       2018        72701365.23                  4537682.09     51845921.56   \n",
       "\n",
       "   mosquito_coil_heater  mosquito_repellent_incense_tray  mosquito_repellent  \\\n",
       "0            5905204.71                     4.785285e+07        1.704905e+08   \n",
       "1           10552841.02                     8.635539e+07        3.300656e+08   \n",
       "2           16836723.43                     1.180885e+08        3.582077e+08   \n",
       "\n",
       "    rodenticide       colsums  \n",
       "0  6.080471e+08  9.179661e+08  \n",
       "1  8.477740e+08  1.395873e+09  \n",
       "2  1.137893e+09  1.760111e+09  "
      ]
     },
     "execution_count": 85,
     "metadata": {},
     "output_type": "execute_result"
    }
   ],
   "source": [
    "gpyear = df.groupby('year_only').sum().reset_index()\n",
    "gpyear"
   ]
  },
  {
   "cell_type": "markdown",
   "id": "e9ab7cf0",
   "metadata": {},
   "source": [
    "1. Bayer Pesticide Market Trend"
   ]
  },
  {
   "cell_type": "code",
   "execution_count": 91,
   "id": "b5aa2e5f",
   "metadata": {},
   "outputs": [
    {
     "name": "stderr",
     "output_type": "stream",
     "text": [
      "C:\\Users\\ws\\AppData\\Local\\Programs\\Python\\Python310\\lib\\site-packages\\seaborn\\_decorators.py:36: FutureWarning: Pass the following variables as keyword args: x, y. From version 0.12, the only valid positional argument will be `data`, and passing other arguments without an explicit keyword will result in an error or misinterpretation.\n",
      "  warnings.warn(\n"
     ]
    },
    {
     "data": {
      "image/png": "[encoded data removed]",
      "text/plain": [
       "<Figure size 400x400 with 1 Axes>"
      ]
     },
     "metadata": {},
     "output_type": "display_data"
    }
   ],
   "source": [
    "sns.relplot('year_only','colsums',kind='line',marker='o',data=gpyear,height=4)\n",
    "plt.title('Pesticide Market Trend in 2016-2018')\n",
    "plt.xticks(gpyear.year_only)\n",
    "plt.xlabel('year_only')\n",
    "plt.ylabel('Total Sales')\n",
    "plt.show()"
   ]
  },
  {
   "cell_type": "markdown",
   "id": "66995303",
   "metadata": {},
   "source": [
    "2. Analyze various sub-categories sales trends"
   ]
  },
  {
   "cell_type": "code",
   "execution_count": 105,
   "id": "0ad31b59",
   "metadata": {
    "scrolled": true
   },
   "outputs": [
    {
     "data": {
      "image/png": "[encoded data removed]",
      "text/plain": [
       "<Figure size 1000x600 with 1 Axes>"
      ]
     },
     "metadata": {},
     "output_type": "display_data"
    }
   ],
   "source": [
    "\n",
    "f,ax = plt.subplots(figsize=(10,6))\n",
    "sns.lineplot(data=gpyear.set_index('year_only').iloc[:,:-1],dashes=False,marker='^')\n",
    "plt.title('Pesticide Sub-categories Trend in 2016-2018')\n",
    "plt.xticks(gpyear.year_only)\n",
    "# add text at the specified location\n",
    "for a,b in zip(gpyear.year_only,gpyear['rodenticide']):\n",
    "    plt.text(a,b,'%.3e'% b, ha='center',va='bottom',size=12)\n",
    "\n",
    "plt.xlabel('Year')\n",
    "plt.ylabel('Total Sales')\n",
    "plt.show()"
   ]
  },
  {
   "cell_type": "markdown",
   "id": "e943efa9",
   "metadata": {},
   "source": [
    "- The growth trend of rodenticide in the year 2016-2018"
   ]
  },
  {
   "cell_type": "code",
   "execution_count": 106,
   "id": "246be20c",
   "metadata": {},
   "outputs": [
    {
     "name": "stderr",
     "output_type": "stream",
     "text": [
      "C:\\Users\\ws\\AppData\\Local\\Programs\\Python\\Python310\\lib\\site-packages\\seaborn\\axisgrid.py:670: UserWarning: Using the barplot function without specifying `order` is likely to produce an incorrect plot.\n",
      "  warnings.warn(warning)\n",
      "C:\\Users\\ws\\AppData\\Local\\Programs\\Python\\Python310\\lib\\site-packages\\seaborn\\axisgrid.py:670: UserWarning: Using the pointplot function without specifying `order` is likely to produce an incorrect plot.\n",
      "  warnings.warn(warning)\n"
     ]
    },
    {
     "data": {
      "image/png": "[encoded data removed]",
      "text/plain": [
       "<Figure size 500x500 with 1 Axes>"
      ]
     },
     "metadata": {},
     "output_type": "display_data"
    }
   ],
   "source": [
    "g = sns.FacetGrid(gpyear,height=5)\n",
    "g.map(sns.barplot,'year_only','rodenticide',color='wheat')\n",
    "g.map(sns.pointplot,'year_only','rodenticide')\n",
    "\n",
    "for a,b in zip(range(len(gpyear)),gpyear['rodenticide']):\n",
    "    plt.text(a,b,'%.3e'% b, ha='center',va='bottom',size=12)\n",
    "\n",
    "plt.xlabel('Year')\n",
    "plt.ylabel('Growth Trend for Rodenticide in 2016-2018')\n",
    "plt.xticks(rotation=45)\n",
    "plt.show()"
   ]
  },
  {
   "cell_type": "code",
   "execution_count": 107,
   "id": "26118bd3",
   "metadata": {},
   "outputs": [
    {
     "data": {
      "text/html": [
       "<div>\n",
       "<style scoped>\n",
       "    .dataframe tbody tr th:only-of-type {\n",
       "        vertical-align: middle;\n",
       "    }\n",
       "\n",
       "    .dataframe tbody tr th {\n",
       "        vertical-align: top;\n",
       "    }\n",
       "\n",
       "    .dataframe thead th {\n",
       "        text-align: right;\n",
       "    }\n",
       "</style>\n",
       "<table border=\"1\" class=\"dataframe\">\n",
       "  <thead>\n",
       "    <tr style=\"text-align: right;\">\n",
       "      <th></th>\n",
       "      <th>anti-moth_tablets</th>\n",
       "      <th>electric_mosquito_coil_set</th>\n",
       "      <th>mosquito_coils</th>\n",
       "      <th>mosquito_coil_heater</th>\n",
       "      <th>mosquito_repellent_incense_tray</th>\n",
       "      <th>mosquito_repellent</th>\n",
       "      <th>rodenticide</th>\n",
       "    </tr>\n",
       "    <tr>\n",
       "      <th>year_only</th>\n",
       "      <th></th>\n",
       "      <th></th>\n",
       "      <th></th>\n",
       "      <th></th>\n",
       "      <th></th>\n",
       "      <th></th>\n",
       "      <th></th>\n",
       "    </tr>\n",
       "  </thead>\n",
       "  <tbody>\n",
       "    <tr>\n",
       "      <th>2016</th>\n",
       "      <td>0.054493</td>\n",
       "      <td>0.008352</td>\n",
       "      <td>0.030481</td>\n",
       "      <td>0.006433</td>\n",
       "      <td>0.052129</td>\n",
       "      <td>0.185726</td>\n",
       "      <td>0.662385</td>\n",
       "    </tr>\n",
       "    <tr>\n",
       "      <th>2017</th>\n",
       "      <td>0.044903</td>\n",
       "      <td>0.006718</td>\n",
       "      <td>0.035153</td>\n",
       "      <td>0.007560</td>\n",
       "      <td>0.061865</td>\n",
       "      <td>0.236458</td>\n",
       "      <td>0.607343</td>\n",
       "    </tr>\n",
       "    <tr>\n",
       "      <th>2018</th>\n",
       "      <td>0.041305</td>\n",
       "      <td>0.002578</td>\n",
       "      <td>0.029456</td>\n",
       "      <td>0.009566</td>\n",
       "      <td>0.067092</td>\n",
       "      <td>0.203514</td>\n",
       "      <td>0.646489</td>\n",
       "    </tr>\n",
       "  </tbody>\n",
       "</table>\n",
       "</div>"
      ],
      "text/plain": [
       "           anti-moth_tablets  electric_mosquito_coil_set  mosquito_coils  \\\n",
       "year_only                                                                  \n",
       "2016                0.054493                    0.008352        0.030481   \n",
       "2017                0.044903                    0.006718        0.035153   \n",
       "2018                0.041305                    0.002578        0.029456   \n",
       "\n",
       "           mosquito_coil_heater  mosquito_repellent_incense_tray  \\\n",
       "year_only                                                          \n",
       "2016                   0.006433                         0.052129   \n",
       "2017                   0.007560                         0.061865   \n",
       "2018                   0.009566                         0.067092   \n",
       "\n",
       "           mosquito_repellent  rodenticide  \n",
       "year_only                                   \n",
       "2016                 0.185726     0.662385  \n",
       "2017                 0.236458     0.607343  \n",
       "2018                 0.203514     0.646489  "
      ]
     },
     "execution_count": 107,
     "metadata": {},
     "output_type": "execute_result"
    }
   ],
   "source": [
    "# Calculate the proportion of each categories each year\n",
    "gpyear_per = gpyear.iloc[:,1:-1].div(gpyear.colsums,axis=0)\n",
    "gpyear_per.index = gpyear.year_only\n",
    "gpyear_per"
   ]
  },
  {
   "cell_type": "code",
   "execution_count": 108,
   "id": "7dad044d",
   "metadata": {},
   "outputs": [
    {
     "data": {
      "image/png": "[encoded data removed]",
      "text/plain": [
       "<Figure size 1000x800 with 1 Axes>"
      ]
     },
     "metadata": {},
     "output_type": "display_data"
    }
   ],
   "source": [
    "gpyear_per.plot(kind='bar',stacked=True,figsize=(10,8),colormap='tab10')\n",
    "\n",
    "for a,b in zip(range(len(gpyear_per)),gpyear_per['rodenticide']):\n",
    "    plt.text(a,b/2,f'{b*100:.2f}%', ha='center',va='bottom',size=12,color='white')\n",
    "\n",
    "\n",
    "plt.xlabel('Year')\n",
    "plt.ylabel('Sale Proportion')\n",
    "plt.title('Proportion of Pesticide Sales by Sub-categories in 2016-2018')\n",
    "plt.show()"
   ]
  },
  {
   "cell_type": "markdown",
   "id": "2b4fab35",
   "metadata": {},
   "source": [
    "- View annual growth across sub-categories"
   ]
  },
  {
   "cell_type": "code",
   "execution_count": 109,
   "id": "9139bc4c",
   "metadata": {
    "scrolled": true
   },
   "outputs": [
    {
     "data": {
      "text/html": [
       "<div>\n",
       "<style scoped>\n",
       "    .dataframe tbody tr th:only-of-type {\n",
       "        vertical-align: middle;\n",
       "    }\n",
       "\n",
       "    .dataframe tbody tr th {\n",
       "        vertical-align: top;\n",
       "    }\n",
       "\n",
       "    .dataframe thead th {\n",
       "        text-align: right;\n",
       "    }\n",
       "</style>\n",
       "<table border=\"1\" class=\"dataframe\">\n",
       "  <thead>\n",
       "    <tr style=\"text-align: right;\">\n",
       "      <th></th>\n",
       "      <th>anti-moth_tablets</th>\n",
       "      <th>electric_mosquito_coil_set</th>\n",
       "      <th>mosquito_coils</th>\n",
       "      <th>mosquito_coil_heater</th>\n",
       "      <th>mosquito_repellent_incense_tray</th>\n",
       "      <th>mosquito_repellent</th>\n",
       "      <th>rodenticide</th>\n",
       "    </tr>\n",
       "  </thead>\n",
       "  <tbody>\n",
       "    <tr>\n",
       "      <th>0</th>\n",
       "      <td>NaN</td>\n",
       "      <td>NaN</td>\n",
       "      <td>NaN</td>\n",
       "      <td>NaN</td>\n",
       "      <td>NaN</td>\n",
       "      <td>NaN</td>\n",
       "      <td>NaN</td>\n",
       "    </tr>\n",
       "    <tr>\n",
       "      <th>1</th>\n",
       "      <td>12655820.24</td>\n",
       "      <td>1710959.56</td>\n",
       "      <td>21087748.49</td>\n",
       "      <td>4647636.31</td>\n",
       "      <td>38502539.41</td>\n",
       "      <td>1.595750e+08</td>\n",
       "      <td>2.397269e+08</td>\n",
       "    </tr>\n",
       "    <tr>\n",
       "      <th>2</th>\n",
       "      <td>10022543.05</td>\n",
       "      <td>-4839849.59</td>\n",
       "      <td>2777333.60</td>\n",
       "      <td>6283882.41</td>\n",
       "      <td>31733116.21</td>\n",
       "      <td>2.814215e+07</td>\n",
       "      <td>2.901194e+08</td>\n",
       "    </tr>\n",
       "  </tbody>\n",
       "</table>\n",
       "</div>"
      ],
      "text/plain": [
       "   anti-moth_tablets  electric_mosquito_coil_set  mosquito_coils  \\\n",
       "0                NaN                         NaN             NaN   \n",
       "1        12655820.24                  1710959.56     21087748.49   \n",
       "2        10022543.05                 -4839849.59      2777333.60   \n",
       "\n",
       "   mosquito_coil_heater  mosquito_repellent_incense_tray  mosquito_repellent  \\\n",
       "0                   NaN                              NaN                 NaN   \n",
       "1            4647636.31                      38502539.41        1.595750e+08   \n",
       "2            6283882.41                      31733116.21        2.814215e+07   \n",
       "\n",
       "    rodenticide  \n",
       "0           NaN  \n",
       "1  2.397269e+08  \n",
       "2  2.901194e+08  "
      ]
     },
     "execution_count": 109,
     "metadata": {},
     "output_type": "execute_result"
    }
   ],
   "source": [
    "# Get the middle 7 columns\n",
    "gpyear1 = gpyear.iloc[:,1:-1] \n",
    "# 2017-2016  2018-2017 \n",
    "gpyear1.diff()  "
   ]
  },
  {
   "cell_type": "code",
   "execution_count": 114,
   "id": "ccc23f2d",
   "metadata": {},
   "outputs": [
    {
     "data": {
      "text/html": [
       "<div>\n",
       "<style scoped>\n",
       "    .dataframe tbody tr th:only-of-type {\n",
       "        vertical-align: middle;\n",
       "    }\n",
       "\n",
       "    .dataframe tbody tr th {\n",
       "        vertical-align: top;\n",
       "    }\n",
       "\n",
       "    .dataframe thead th {\n",
       "        text-align: right;\n",
       "    }\n",
       "</style>\n",
       "<table border=\"1\" class=\"dataframe\">\n",
       "  <thead>\n",
       "    <tr style=\"text-align: right;\">\n",
       "      <th></th>\n",
       "      <th>anti-moth_tablets</th>\n",
       "      <th>electric_mosquito_coil_set</th>\n",
       "      <th>mosquito_coils</th>\n",
       "      <th>mosquito_coil_heater</th>\n",
       "      <th>mosquito_repellent_incense_tray</th>\n",
       "      <th>mosquito_repellent</th>\n",
       "      <th>rodenticide</th>\n",
       "    </tr>\n",
       "  </thead>\n",
       "  <tbody>\n",
       "    <tr>\n",
       "      <th>0</th>\n",
       "      <td>50023001.94</td>\n",
       "      <td>7666572.12</td>\n",
       "      <td>27980839.47</td>\n",
       "      <td>5905204.71</td>\n",
       "      <td>4.785285e+07</td>\n",
       "      <td>1.704905e+08</td>\n",
       "      <td>6.080471e+08</td>\n",
       "    </tr>\n",
       "    <tr>\n",
       "      <th>1</th>\n",
       "      <td>62678822.18</td>\n",
       "      <td>9377531.68</td>\n",
       "      <td>49068587.96</td>\n",
       "      <td>10552841.02</td>\n",
       "      <td>8.635539e+07</td>\n",
       "      <td>3.300656e+08</td>\n",
       "      <td>8.477740e+08</td>\n",
       "    </tr>\n",
       "    <tr>\n",
       "      <th>2</th>\n",
       "      <td>72701365.23</td>\n",
       "      <td>4537682.09</td>\n",
       "      <td>51845921.56</td>\n",
       "      <td>16836723.43</td>\n",
       "      <td>1.180885e+08</td>\n",
       "      <td>3.582077e+08</td>\n",
       "      <td>1.137893e+09</td>\n",
       "    </tr>\n",
       "  </tbody>\n",
       "</table>\n",
       "</div>"
      ],
      "text/plain": [
       "   anti-moth_tablets  electric_mosquito_coil_set  mosquito_coils  \\\n",
       "0        50023001.94                  7666572.12     27980839.47   \n",
       "1        62678822.18                  9377531.68     49068587.96   \n",
       "2        72701365.23                  4537682.09     51845921.56   \n",
       "\n",
       "   mosquito_coil_heater  mosquito_repellent_incense_tray  mosquito_repellent  \\\n",
       "0            5905204.71                     4.785285e+07        1.704905e+08   \n",
       "1           10552841.02                     8.635539e+07        3.300656e+08   \n",
       "2           16836723.43                     1.180885e+08        3.582077e+08   \n",
       "\n",
       "    rodenticide  \n",
       "0  6.080471e+08  \n",
       "1  8.477740e+08  \n",
       "2  1.137893e+09  "
      ]
     },
     "execution_count": 114,
     "metadata": {},
     "output_type": "execute_result"
    }
   ],
   "source": [
    "gpyear1"
   ]
  },
  {
   "cell_type": "code",
   "execution_count": 115,
   "id": "819025f7",
   "metadata": {},
   "outputs": [
    {
     "data": {
      "text/html": [
       "<div>\n",
       "<style scoped>\n",
       "    .dataframe tbody tr th:only-of-type {\n",
       "        vertical-align: middle;\n",
       "    }\n",
       "\n",
       "    .dataframe tbody tr th {\n",
       "        vertical-align: top;\n",
       "    }\n",
       "\n",
       "    .dataframe thead th {\n",
       "        text-align: right;\n",
       "    }\n",
       "</style>\n",
       "<table border=\"1\" class=\"dataframe\">\n",
       "  <thead>\n",
       "    <tr style=\"text-align: right;\">\n",
       "      <th></th>\n",
       "      <th>anti-moth_tablets</th>\n",
       "      <th>electric_mosquito_coil_set</th>\n",
       "      <th>mosquito_coils</th>\n",
       "      <th>mosquito_coil_heater</th>\n",
       "      <th>mosquito_repellent_incense_tray</th>\n",
       "      <th>mosquito_repellent</th>\n",
       "      <th>rodenticide</th>\n",
       "    </tr>\n",
       "  </thead>\n",
       "  <tbody>\n",
       "    <tr>\n",
       "      <th>2016-2017</th>\n",
       "      <td>0.253000</td>\n",
       "      <td>0.223171</td>\n",
       "      <td>0.753650</td>\n",
       "      <td>0.787041</td>\n",
       "      <td>0.804603</td>\n",
       "      <td>0.935976</td>\n",
       "      <td>0.394257</td>\n",
       "    </tr>\n",
       "    <tr>\n",
       "      <th>2017-2018</th>\n",
       "      <td>0.159903</td>\n",
       "      <td>-0.516111</td>\n",
       "      <td>0.056601</td>\n",
       "      <td>0.595468</td>\n",
       "      <td>0.367471</td>\n",
       "      <td>0.085262</td>\n",
       "      <td>0.342213</td>\n",
       "    </tr>\n",
       "  </tbody>\n",
       "</table>\n",
       "</div>"
      ],
      "text/plain": [
       "           anti-moth_tablets  electric_mosquito_coil_set  mosquito_coils  \\\n",
       "2016-2017           0.253000                    0.223171        0.753650   \n",
       "2017-2018           0.159903                   -0.516111        0.056601   \n",
       "\n",
       "           mosquito_coil_heater  mosquito_repellent_incense_tray  \\\n",
       "2016-2017              0.787041                         0.804603   \n",
       "2017-2018              0.595468                         0.367471   \n",
       "\n",
       "           mosquito_repellent  rodenticide  \n",
       "2016-2017            0.935976     0.394257  \n",
       "2017-2018            0.085262     0.342213  "
      ]
     },
     "execution_count": 115,
     "metadata": {},
     "output_type": "execute_result"
    }
   ],
   "source": [
    "# Calculate the annual increase\n",
    "gpyear1 = gpyear.iloc[:,1:-1] \n",
    "gpyear_diff = gpyear1.diff().iloc[1:,:].reset_index(drop=True)/gpyear1.iloc[:2,:]\n",
    "gpyear_diff.index = ['2016-2017','2017-2018']\n",
    "gpyear_diff"
   ]
  },
  {
   "cell_type": "code",
   "execution_count": 117,
   "id": "8dfedbe9",
   "metadata": {},
   "outputs": [
    {
     "data": {
      "image/png": "[encoded data removed]",
      "text/plain": [
       "<Figure size 1000x800 with 1 Axes>"
      ]
     },
     "metadata": {},
     "output_type": "display_data"
    }
   ],
   "source": [
    "f,ax = plt.subplots(figsize=(10,8))\n",
    "sns.lineplot(data=gpyear_diff,dashes=False)\n",
    "plt.title('Sales Growth of various sub-categories in 2016-2018')\n",
    "\n",
    "plt.xlabel('Year')\n",
    "plt.ylabel('Growth Rate')\n",
    "plt.show()"
   ]
  },
  {
   "cell_type": "markdown",
   "id": "dc796bcb",
   "metadata": {},
   "source": [
    "## Analysis of market opportunities for rodenticides\n",
    "Product Category Distribution"
   ]
  },
  {
   "cell_type": "code",
   "execution_count": 95,
   "id": "6fab6dff",
   "metadata": {},
   "outputs": [],
   "source": [
    "df = pd.read_csv('Pesticide Market Segment.csv',index_col=0)"
   ]
  },
  {
   "cell_type": "code",
   "execution_count": 96,
   "id": "5031f60e",
   "metadata": {},
   "outputs": [
    {
     "data": {
      "text/html": [
       "<div>\n",
       "<style scoped>\n",
       "    .dataframe tbody tr th:only-of-type {\n",
       "        vertical-align: middle;\n",
       "    }\n",
       "\n",
       "    .dataframe tbody tr th {\n",
       "        vertical-align: top;\n",
       "    }\n",
       "\n",
       "    .dataframe thead th {\n",
       "        text-align: right;\n",
       "    }\n",
       "</style>\n",
       "<table border=\"1\" class=\"dataframe\">\n",
       "  <thead>\n",
       "    <tr style=\"text-align: right;\">\n",
       "      <th></th>\n",
       "      <th>category</th>\n",
       "      <th>product_id</th>\n",
       "      <th>order_number</th>\n",
       "      <th>price</th>\n",
       "      <th>sales</th>\n",
       "      <th>number_rating</th>\n",
       "      <th>number_favorites</th>\n",
       "    </tr>\n",
       "  </thead>\n",
       "  <tbody>\n",
       "    <tr>\n",
       "      <th>0</th>\n",
       "      <td>Insecticide</td>\n",
       "      <td>578459866289</td>\n",
       "      <td>99</td>\n",
       "      <td>29.9</td>\n",
       "      <td>2960.1</td>\n",
       "      <td>26.0</td>\n",
       "      <td>202</td>\n",
       "    </tr>\n",
       "    <tr>\n",
       "      <th>1</th>\n",
       "      <td>Insecticide</td>\n",
       "      <td>548196868239</td>\n",
       "      <td>99</td>\n",
       "      <td>0.6</td>\n",
       "      <td>59.4</td>\n",
       "      <td>1330.0</td>\n",
       "      <td>242</td>\n",
       "    </tr>\n",
       "    <tr>\n",
       "      <th>2</th>\n",
       "      <td>Insecticide</td>\n",
       "      <td>580839295562</td>\n",
       "      <td>99</td>\n",
       "      <td>98.0</td>\n",
       "      <td>9702.0</td>\n",
       "      <td>44.0</td>\n",
       "      <td>27</td>\n",
       "    </tr>\n",
       "    <tr>\n",
       "      <th>3</th>\n",
       "      <td>Insecticide</td>\n",
       "      <td>580264662322</td>\n",
       "      <td>99</td>\n",
       "      <td>6.9</td>\n",
       "      <td>683.1</td>\n",
       "      <td>24.0</td>\n",
       "      <td>26</td>\n",
       "    </tr>\n",
       "    <tr>\n",
       "      <th>4</th>\n",
       "      <td>Insecticide</td>\n",
       "      <td>44484517973</td>\n",
       "      <td>99</td>\n",
       "      <td>18.8</td>\n",
       "      <td>1861.2</td>\n",
       "      <td>121.0</td>\n",
       "      <td>133</td>\n",
       "    </tr>\n",
       "  </tbody>\n",
       "</table>\n",
       "</div>"
      ],
      "text/plain": [
       "      category    product_id  order_number  price   sales  number_rating  \\\n",
       "0  Insecticide  578459866289            99   29.9  2960.1           26.0   \n",
       "1  Insecticide  548196868239            99    0.6    59.4         1330.0   \n",
       "2  Insecticide  580839295562            99   98.0  9702.0           44.0   \n",
       "3  Insecticide  580264662322            99    6.9   683.1           24.0   \n",
       "4  Insecticide   44484517973            99   18.8  1861.2          121.0   \n",
       "\n",
       "   number_favorites  \n",
       "0               202  \n",
       "1               242  \n",
       "2                27  \n",
       "3                26  \n",
       "4               133  "
      ]
     },
     "execution_count": 96,
     "metadata": {},
     "output_type": "execute_result"
    }
   ],
   "source": [
    "df.head()"
   ]
  },
  {
   "cell_type": "code",
   "execution_count": 97,
   "id": "e9721b05",
   "metadata": {
    "scrolled": true
   },
   "outputs": [
    {
     "data": {
      "text/plain": [
       "category             object\n",
       "product_id            int64\n",
       "order_number          int64\n",
       "price               float64\n",
       "sales               float64\n",
       "number_rating       float64\n",
       "number_favorites      int64\n",
       "dtype: object"
      ]
     },
     "execution_count": 97,
     "metadata": {},
     "output_type": "execute_result"
    }
   ],
   "source": [
    "df.dtypes"
   ]
  },
  {
   "cell_type": "code",
   "execution_count": 99,
   "id": "91f5989e",
   "metadata": {},
   "outputs": [],
   "source": [
    "df = df.astype({'product_id':'object'}) #convert product_id to object\n",
    "df.reset_index(drop=True,inplace=True)"
   ]
  },
  {
   "cell_type": "code",
   "execution_count": 100,
   "id": "a0e27ef7",
   "metadata": {},
   "outputs": [
    {
     "data": {
      "text/plain": [
       "category\n",
       "Cockroach      18037223.68\n",
       "Insecticide     8207628.10\n",
       "Lice            4512886.01\n",
       "Mite           10886752.88\n",
       "Rodent         25686011.99\n",
       "Name: sales, dtype: float64"
      ]
     },
     "execution_count": 100,
     "metadata": {},
     "output_type": "execute_result"
    }
   ],
   "source": [
    "bycategory = df['sales'].groupby(df['category']).sum()\n",
    "bycategory"
   ]
  },
  {
   "cell_type": "code",
   "execution_count": 101,
   "id": "89e7e975",
   "metadata": {},
   "outputs": [
    {
     "data": {
      "text/plain": [
       "<AxesSubplot:ylabel='category'>"
      ]
     },
     "execution_count": 101,
     "metadata": {},
     "output_type": "execute_result"
    },
    {
     "data": {
      "image/png": "[encoded data removed]",
      "text/plain": [
       "<Figure size 432x288 with 1 Axes>"
      ]
     },
     "metadata": {
      "needs_background": "light"
     },
     "output_type": "display_data"
    }
   ],
   "source": [
    "bycategory.plot.barh()"
   ]
  },
  {
   "cell_type": "code",
   "execution_count": 102,
   "id": "18375dcb",
   "metadata": {},
   "outputs": [
    {
     "data": {
      "text/plain": [
       "<AxesSubplot:ylabel='sales'>"
      ]
     },
     "execution_count": 102,
     "metadata": {},
     "output_type": "execute_result"
    },
    {
     "data": {
      "image/png": "[encoded data removed]",
      "text/plain": [
       "<Figure size 432x288 with 1 Axes>"
      ]
     },
     "metadata": {},
     "output_type": "display_data"
    }
   ],
   "source": [
    "bycategory.plot.pie(autopct='%.2f')"
   ]
  },
  {
   "cell_type": "code",
   "execution_count": 103,
   "id": "05eaacc5",
   "metadata": {},
   "outputs": [
    {
     "data": {
      "application/vnd.plotly.v1+json": {
       "config": {
        "plotlyServerURL": "https://plot.ly"
       },
       "data": [
        {
         "labels": [
          "Cockroach",
          "Insecticide",
          "Lice",
          "Mite",
          "Rodent"
         ],
         "type": "pie",
         "values": [
          18037223.68,
          8207628.100000001,
          4512886.01,
          10886752.88,
          25686011.99
         ]
        }
       ],
       "layout": {
        "template": {
         "data": {
          "bar": [
           {
            "error_x": {
             "color": "#2a3f5f"
            },
            "error_y": {
             "color": "#2a3f5f"
            },
            "marker": {
             "line": {
              "color": "#E5ECF6",
              "width": 0.5
             },
             "pattern": {
              "fillmode": "overlay",
              "size": 10,
              "solidity": 0.2
             }
            },
            "type": "bar"
           }
          ],
          "barpolar": [
           {
            "marker": {
             "line": {
              "color": "#E5ECF6",
              "width": 0.5
             },
             "pattern": {
              "fillmode": "overlay",
              "size": 10,
              "solidity": 0.2
             }
            },
            "type": "barpolar"
           }
          ],
          "carpet": [
           {
            "aaxis": {
             "endlinecolor": "#2a3f5f",
             "gridcolor": "white",
             "linecolor": "white",
             "minorgridcolor": "white",
             "startlinecolor": "#2a3f5f"
            },
            "baxis": {
             "endlinecolor": "#2a3f5f",
             "gridcolor": "white",
             "linecolor": "white",
             "minorgridcolor": "white",
             "startlinecolor": "#2a3f5f"
            },
            "type": "carpet"
           }
          ],
          "choropleth": [
           {
            "colorbar": {
             "outlinewidth": 0,
             "ticks": ""
            },
            "type": "choropleth"
           }
          ],
          "contour": [
           {
            "colorbar": {
             "outlinewidth": 0,
             "ticks": ""
            },
            "colorscale": [
             [
              0,
              "#0d0887"
             ],
             [
              0.1111111111111111,
              "#46039f"
             ],
             [
              0.2222222222222222,
              "#7201a8"
             ],
             [
              0.3333333333333333,
              "#9c179e"
             ],
             [
              0.4444444444444444,
              "#bd3786"
             ],
             [
              0.5555555555555556,
              "#d8576b"
             ],
             [
              0.6666666666666666,
              "#ed7953"
             ],
             [
              0.7777777777777778,
              "#fb9f3a"
             ],
             [
              0.8888888888888888,
              "#fdca26"
             ],
             [
              1,
              "#f0f921"
             ]
            ],
            "type": "contour"
           }
          ],
          "contourcarpet": [
           {
            "colorbar": {
             "outlinewidth": 0,
             "ticks": ""
            },
            "type": "contourcarpet"
           }
          ],
          "heatmap": [
           {
            "colorbar": {
             "outlinewidth": 0,
             "ticks": ""
            },
            "colorscale": [
             [
              0,
              "#0d0887"
             ],
             [
              0.1111111111111111,
              "#46039f"
             ],
             [
              0.2222222222222222,
              "#7201a8"
             ],
             [
              0.3333333333333333,
              "#9c179e"
             ],
             [
              0.4444444444444444,
              "#bd3786"
             ],
             [
              0.5555555555555556,
              "#d8576b"
             ],
             [
              0.6666666666666666,
              "#ed7953"
             ],
             [
              0.7777777777777778,
              "#fb9f3a"
             ],
             [
              0.8888888888888888,
              "#fdca26"
             ],
             [
              1,
              "#f0f921"
             ]
            ],
            "type": "heatmap"
           }
          ],
          "heatmapgl": [
           {
            "colorbar": {
             "outlinewidth": 0,
             "ticks": ""
            },
            "colorscale": [
             [
              0,
              "#0d0887"
             ],
             [
              0.1111111111111111,
              "#46039f"
             ],
             [
              0.2222222222222222,
              "#7201a8"
             ],
             [
              0.3333333333333333,
              "#9c179e"
             ],
             [
              0.4444444444444444,
              "#bd3786"
             ],
             [
              0.5555555555555556,
              "#d8576b"
             ],
             [
              0.6666666666666666,
              "#ed7953"
             ],
             [
              0.7777777777777778,
              "#fb9f3a"
             ],
             [
              0.8888888888888888,
              "#fdca26"
             ],
             [
              1,
              "#f0f921"
             ]
            ],
            "type": "heatmapgl"
           }
          ],
          "histogram": [
           {
            "marker": {
             "pattern": {
              "fillmode": "overlay",
              "size": 10,
              "solidity": 0.2
             }
            },
            "type": "histogram"
           }
          ],
          "histogram2d": [
           {
            "colorbar": {
             "outlinewidth": 0,
             "ticks": ""
            },
            "colorscale": [
             [
              0,
              "#0d0887"
             ],
             [
              0.1111111111111111,
              "#46039f"
             ],
             [
              0.2222222222222222,
              "#7201a8"
             ],
             [
              0.3333333333333333,
              "#9c179e"
             ],
             [
              0.4444444444444444,
              "#bd3786"
             ],
             [
              0.5555555555555556,
              "#d8576b"
             ],
             [
              0.6666666666666666,
              "#ed7953"
             ],
             [
              0.7777777777777778,
              "#fb9f3a"
             ],
             [
              0.8888888888888888,
              "#fdca26"
             ],
             [
              1,
              "#f0f921"
             ]
            ],
            "type": "histogram2d"
           }
          ],
          "histogram2dcontour": [
           {
            "colorbar": {
             "outlinewidth": 0,
             "ticks": ""
            },
            "colorscale": [
             [
              0,
              "#0d0887"
             ],
             [
              0.1111111111111111,
              "#46039f"
             ],
             [
              0.2222222222222222,
              "#7201a8"
             ],
             [
              0.3333333333333333,
              "#9c179e"
             ],
             [
              0.4444444444444444,
              "#bd3786"
             ],
             [
              0.5555555555555556,
              "#d8576b"
             ],
             [
              0.6666666666666666,
              "#ed7953"
             ],
             [
              0.7777777777777778,
              "#fb9f3a"
             ],
             [
              0.8888888888888888,
              "#fdca26"
             ],
             [
              1,
              "#f0f921"
             ]
            ],
            "type": "histogram2dcontour"
           }
          ],
          "mesh3d": [
           {
            "colorbar": {
             "outlinewidth": 0,
             "ticks": ""
            },
            "type": "mesh3d"
           }
          ],
          "parcoords": [
           {
            "line": {
             "colorbar": {
              "outlinewidth": 0,
              "ticks": ""
             }
            },
            "type": "parcoords"
           }
          ],
          "pie": [
           {
            "automargin": true,
            "type": "pie"
           }
          ],
          "scatter": [
           {
            "fillpattern": {
             "fillmode": "overlay",
             "size": 10,
             "solidity": 0.2
            },
            "type": "scatter"
           }
          ],
          "scatter3d": [
           {
            "line": {
             "colorbar": {
              "outlinewidth": 0,
              "ticks": ""
             }
            },
            "marker": {
             "colorbar": {
              "outlinewidth": 0,
              "ticks": ""
             }
            },
            "type": "scatter3d"
           }
          ],
          "scattercarpet": [
           {
            "marker": {
             "colorbar": {
              "outlinewidth": 0,
              "ticks": ""
             }
            },
            "type": "scattercarpet"
           }
          ],
          "scattergeo": [
           {
            "marker": {
             "colorbar": {
              "outlinewidth": 0,
              "ticks": ""
             }
            },
            "type": "scattergeo"
           }
          ],
          "scattergl": [
           {
            "marker": {
             "colorbar": {
              "outlinewidth": 0,
              "ticks": ""
             }
            },
            "type": "scattergl"
           }
          ],
          "scattermapbox": [
           {
            "marker": {
             "colorbar": {
              "outlinewidth": 0,
              "ticks": ""
             }
            },
            "type": "scattermapbox"
           }
          ],
          "scatterpolar": [
           {
            "marker": {
             "colorbar": {
              "outlinewidth": 0,
              "ticks": ""
             }
            },
            "type": "scatterpolar"
           }
          ],
          "scatterpolargl": [
           {
            "marker": {
             "colorbar": {
              "outlinewidth": 0,
              "ticks": ""
             }
            },
            "type": "scatterpolargl"
           }
          ],
          "scatterternary": [
           {
            "marker": {
             "colorbar": {
              "outlinewidth": 0,
              "ticks": ""
             }
            },
            "type": "scatterternary"
           }
          ],
          "surface": [
           {
            "colorbar": {
             "outlinewidth": 0,
             "ticks": ""
            },
            "colorscale": [
             [
              0,
              "#0d0887"
             ],
             [
              0.1111111111111111,
              "#46039f"
             ],
             [
              0.2222222222222222,
              "#7201a8"
             ],
             [
              0.3333333333333333,
              "#9c179e"
             ],
             [
              0.4444444444444444,
              "#bd3786"
             ],
             [
              0.5555555555555556,
              "#d8576b"
             ],
             [
              0.6666666666666666,
              "#ed7953"
             ],
             [
              0.7777777777777778,
              "#fb9f3a"
             ],
             [
              0.8888888888888888,
              "#fdca26"
             ],
             [
              1,
              "#f0f921"
             ]
            ],
            "type": "surface"
           }
          ],
          "table": [
           {
            "cells": {
             "fill": {
              "color": "#EBF0F8"
             },
             "line": {
              "color": "white"
             }
            },
            "header": {
             "fill": {
              "color": "#C8D4E3"
             },
             "line": {
              "color": "white"
             }
            },
            "type": "table"
           }
          ]
         },
         "layout": {
          "annotationdefaults": {
           "arrowcolor": "#2a3f5f",
           "arrowhead": 0,
           "arrowwidth": 1
          },
          "autotypenumbers": "strict",
          "coloraxis": {
           "colorbar": {
            "outlinewidth": 0,
            "ticks": ""
           }
          },
          "colorscale": {
           "diverging": [
            [
             0,
             "#8e0152"
            ],
            [
             0.1,
             "#c51b7d"
            ],
            [
             0.2,
             "#de77ae"
            ],
            [
             0.3,
             "#f1b6da"
            ],
            [
             0.4,
             "#fde0ef"
            ],
            [
             0.5,
             "#f7f7f7"
            ],
            [
             0.6,
             "#e6f5d0"
            ],
            [
             0.7,
             "#b8e186"
            ],
            [
             0.8,
             "#7fbc41"
            ],
            [
             0.9,
             "#4d9221"
            ],
            [
             1,
             "#276419"
            ]
           ],
           "sequential": [
            [
             0,
             "#0d0887"
            ],
            [
             0.1111111111111111,
             "#46039f"
            ],
            [
             0.2222222222222222,
             "#7201a8"
            ],
            [
             0.3333333333333333,
             "#9c179e"
            ],
            [
             0.4444444444444444,
             "#bd3786"
            ],
            [
             0.5555555555555556,
             "#d8576b"
            ],
            [
             0.6666666666666666,
             "#ed7953"
            ],
            [
             0.7777777777777778,
             "#fb9f3a"
            ],
            [
             0.8888888888888888,
             "#fdca26"
            ],
            [
             1,
             "#f0f921"
            ]
           ],
           "sequentialminus": [
            [
             0,
             "#0d0887"
            ],
            [
             0.1111111111111111,
             "#46039f"
            ],
            [
             0.2222222222222222,
             "#7201a8"
            ],
            [
             0.3333333333333333,
             "#9c179e"
            ],
            [
             0.4444444444444444,
             "#bd3786"
            ],
            [
             0.5555555555555556,
             "#d8576b"
            ],
            [
             0.6666666666666666,
             "#ed7953"
            ],
            [
             0.7777777777777778,
             "#fb9f3a"
            ],
            [
             0.8888888888888888,
             "#fdca26"
            ],
            [
             1,
             "#f0f921"
            ]
           ]
          },
          "colorway": [
           "#636efa",
           "#EF553B",
           "#00cc96",
           "#ab63fa",
           "#FFA15A",
           "#19d3f3",
           "#FF6692",
           "#B6E880",
           "#FF97FF",
           "#FECB52"
          ],
          "font": {
           "color": "#2a3f5f"
          },
          "geo": {
           "bgcolor": "white",
           "lakecolor": "white",
           "landcolor": "#E5ECF6",
           "showlakes": true,
           "showland": true,
           "subunitcolor": "white"
          },
          "hoverlabel": {
           "align": "left"
          },
          "hovermode": "closest",
          "mapbox": {
           "style": "light"
          },
          "paper_bgcolor": "white",
          "plot_bgcolor": "#E5ECF6",
          "polar": {
           "angularaxis": {
            "gridcolor": "white",
            "linecolor": "white",
            "ticks": ""
           },
           "bgcolor": "#E5ECF6",
           "radialaxis": {
            "gridcolor": "white",
            "linecolor": "white",
            "ticks": ""
           }
          },
          "scene": {
           "xaxis": {
            "backgroundcolor": "#E5ECF6",
            "gridcolor": "white",
            "gridwidth": 2,
            "linecolor": "white",
            "showbackground": true,
            "ticks": "",
            "zerolinecolor": "white"
           },
           "yaxis": {
            "backgroundcolor": "#E5ECF6",
            "gridcolor": "white",
            "gridwidth": 2,
            "linecolor": "white",
            "showbackground": true,
            "ticks": "",
            "zerolinecolor": "white"
           },
           "zaxis": {
            "backgroundcolor": "#E5ECF6",
            "gridcolor": "white",
            "gridwidth": 2,
            "linecolor": "white",
            "showbackground": true,
            "ticks": "",
            "zerolinecolor": "white"
           }
          },
          "shapedefaults": {
           "line": {
            "color": "#2a3f5f"
           }
          },
          "ternary": {
           "aaxis": {
            "gridcolor": "white",
            "linecolor": "white",
            "ticks": ""
           },
           "baxis": {
            "gridcolor": "white",
            "linecolor": "white",
            "ticks": ""
           },
           "bgcolor": "#E5ECF6",
           "caxis": {
            "gridcolor": "white",
            "linecolor": "white",
            "ticks": ""
           }
          },
          "title": {
           "x": 0.05
          },
          "xaxis": {
           "automargin": true,
           "gridcolor": "white",
           "linecolor": "white",
           "ticks": "",
           "title": {
            "standoff": 15
           },
           "zerolinecolor": "white",
           "zerolinewidth": 2
          },
          "yaxis": {
           "automargin": true,
           "gridcolor": "white",
           "linecolor": "white",
           "ticks": "",
           "title": {
            "standoff": 15
           },
           "zerolinecolor": "white",
           "zerolinewidth": 2
          }
         }
        }
       }
      },
      "text/html": [
       "<div>                            <div id=\"7be51f57-ee10-4474-9c6c-119bf6e5496c\" class=\"plotly-graph-div\" style=\"height:525px; width:100%;\"></div>            <script type=\"text/javascript\">                require([\"plotly\"], function(Plotly) {                    window.PLOTLYENV=window.PLOTLYENV || {};                                    if (document.getElementById(\"7be51f57-ee10-4474-9c6c-119bf6e5496c\")) {                    Plotly.newPlot(                        \"7be51f57-ee10-4474-9c6c-119bf6e5496c\",                        [{\"labels\":[\"Cockroach\",\"Insecticide\",\"Lice\",\"Mite\",\"Rodent\"],\"values\":[18037223.68,8207628.100000001,4512886.01,10886752.88,25686011.99],\"type\":\"pie\"}],                        {\"template\":{\"data\":{\"histogram2dcontour\":[{\"type\":\"histogram2dcontour\",\"colorbar\":{\"outlinewidth\":0,\"ticks\":\"\"},\"colorscale\":[[0.0,\"#0d0887\"],[0.1111111111111111,\"#46039f\"],[0.2222222222222222,\"#7201a8\"],[0.3333333333333333,\"#9c179e\"],[0.4444444444444444,\"#bd3786\"],[0.5555555555555556,\"#d8576b\"],[0.6666666666666666,\"#ed7953\"],[0.7777777777777778,\"#fb9f3a\"],[0.8888888888888888,\"#fdca26\"],[1.0,\"#f0f921\"]]}],\"choropleth\":[{\"type\":\"choropleth\",\"colorbar\":{\"outlinewidth\":0,\"ticks\":\"\"}}],\"histogram2d\":[{\"type\":\"histogram2d\",\"colorbar\":{\"outlinewidth\":0,\"ticks\":\"\"},\"colorscale\":[[0.0,\"#0d0887\"],[0.1111111111111111,\"#46039f\"],[0.2222222222222222,\"#7201a8\"],[0.3333333333333333,\"#9c179e\"],[0.4444444444444444,\"#bd3786\"],[0.5555555555555556,\"#d8576b\"],[0.6666666666666666,\"#ed7953\"],[0.7777777777777778,\"#fb9f3a\"],[0.8888888888888888,\"#fdca26\"],[1.0,\"#f0f921\"]]}],\"heatmap\":[{\"type\":\"heatmap\",\"colorbar\":{\"outlinewidth\":0,\"ticks\":\"\"},\"colorscale\":[[0.0,\"#0d0887\"],[0.1111111111111111,\"#46039f\"],[0.2222222222222222,\"#7201a8\"],[0.3333333333333333,\"#9c179e\"],[0.4444444444444444,\"#bd3786\"],[0.5555555555555556,\"#d8576b\"],[0.6666666666666666,\"#ed7953\"],[0.7777777777777778,\"#fb9f3a\"],[0.8888888888888888,\"#fdca26\"],[1.0,\"#f0f921\"]]}],\"heatmapgl\":[{\"type\":\"heatmapgl\",\"colorbar\":{\"outlinewidth\":0,\"ticks\":\"\"},\"colorscale\":[[0.0,\"#0d0887\"],[0.1111111111111111,\"#46039f\"],[0.2222222222222222,\"#7201a8\"],[0.3333333333333333,\"#9c179e\"],[0.4444444444444444,\"#bd3786\"],[0.5555555555555556,\"#d8576b\"],[0.6666666666666666,\"#ed7953\"],[0.7777777777777778,\"#fb9f3a\"],[0.8888888888888888,\"#fdca26\"],[1.0,\"#f0f921\"]]}],\"contourcarpet\":[{\"type\":\"contourcarpet\",\"colorbar\":{\"outlinewidth\":0,\"ticks\":\"\"}}],\"contour\":[{\"type\":\"contour\",\"colorbar\":{\"outlinewidth\":0,\"ticks\":\"\"},\"colorscale\":[[0.0,\"#0d0887\"],[0.1111111111111111,\"#46039f\"],[0.2222222222222222,\"#7201a8\"],[0.3333333333333333,\"#9c179e\"],[0.4444444444444444,\"#bd3786\"],[0.5555555555555556,\"#d8576b\"],[0.6666666666666666,\"#ed7953\"],[0.7777777777777778,\"#fb9f3a\"],[0.8888888888888888,\"#fdca26\"],[1.0,\"#f0f921\"]]}],\"surface\":[{\"type\":\"surface\",\"colorbar\":{\"outlinewidth\":0,\"ticks\":\"\"},\"colorscale\":[[0.0,\"#0d0887\"],[0.1111111111111111,\"#46039f\"],[0.2222222222222222,\"#7201a8\"],[0.3333333333333333,\"#9c179e\"],[0.4444444444444444,\"#bd3786\"],[0.5555555555555556,\"#d8576b\"],[0.6666666666666666,\"#ed7953\"],[0.7777777777777778,\"#fb9f3a\"],[0.8888888888888888,\"#fdca26\"],[1.0,\"#f0f921\"]]}],\"mesh3d\":[{\"type\":\"mesh3d\",\"colorbar\":{\"outlinewidth\":0,\"ticks\":\"\"}}],\"scatter\":[{\"fillpattern\":{\"fillmode\":\"overlay\",\"size\":10,\"solidity\":0.2},\"type\":\"scatter\"}],\"parcoords\":[{\"type\":\"parcoords\",\"line\":{\"colorbar\":{\"outlinewidth\":0,\"ticks\":\"\"}}}],\"scatterpolargl\":[{\"type\":\"scatterpolargl\",\"marker\":{\"colorbar\":{\"outlinewidth\":0,\"ticks\":\"\"}}}],\"bar\":[{\"error_x\":{\"color\":\"#2a3f5f\"},\"error_y\":{\"color\":\"#2a3f5f\"},\"marker\":{\"line\":{\"color\":\"#E5ECF6\",\"width\":0.5},\"pattern\":{\"fillmode\":\"overlay\",\"size\":10,\"solidity\":0.2}},\"type\":\"bar\"}],\"scattergeo\":[{\"type\":\"scattergeo\",\"marker\":{\"colorbar\":{\"outlinewidth\":0,\"ticks\":\"\"}}}],\"scatterpolar\":[{\"type\":\"scatterpolar\",\"marker\":{\"colorbar\":{\"outlinewidth\":0,\"ticks\":\"\"}}}],\"histogram\":[{\"marker\":{\"pattern\":{\"fillmode\":\"overlay\",\"size\":10,\"solidity\":0.2}},\"type\":\"histogram\"}],\"scattergl\":[{\"type\":\"scattergl\",\"marker\":{\"colorbar\":{\"outlinewidth\":0,\"ticks\":\"\"}}}],\"scatter3d\":[{\"type\":\"scatter3d\",\"line\":{\"colorbar\":{\"outlinewidth\":0,\"ticks\":\"\"}},\"marker\":{\"colorbar\":{\"outlinewidth\":0,\"ticks\":\"\"}}}],\"scattermapbox\":[{\"type\":\"scattermapbox\",\"marker\":{\"colorbar\":{\"outlinewidth\":0,\"ticks\":\"\"}}}],\"scatterternary\":[{\"type\":\"scatterternary\",\"marker\":{\"colorbar\":{\"outlinewidth\":0,\"ticks\":\"\"}}}],\"scattercarpet\":[{\"type\":\"scattercarpet\",\"marker\":{\"colorbar\":{\"outlinewidth\":0,\"ticks\":\"\"}}}],\"carpet\":[{\"aaxis\":{\"endlinecolor\":\"#2a3f5f\",\"gridcolor\":\"white\",\"linecolor\":\"white\",\"minorgridcolor\":\"white\",\"startlinecolor\":\"#2a3f5f\"},\"baxis\":{\"endlinecolor\":\"#2a3f5f\",\"gridcolor\":\"white\",\"linecolor\":\"white\",\"minorgridcolor\":\"white\",\"startlinecolor\":\"#2a3f5f\"},\"type\":\"carpet\"}],\"table\":[{\"cells\":{\"fill\":{\"color\":\"#EBF0F8\"},\"line\":{\"color\":\"white\"}},\"header\":{\"fill\":{\"color\":\"#C8D4E3\"},\"line\":{\"color\":\"white\"}},\"type\":\"table\"}],\"barpolar\":[{\"marker\":{\"line\":{\"color\":\"#E5ECF6\",\"width\":0.5},\"pattern\":{\"fillmode\":\"overlay\",\"size\":10,\"solidity\":0.2}},\"type\":\"barpolar\"}],\"pie\":[{\"automargin\":true,\"type\":\"pie\"}]},\"layout\":{\"autotypenumbers\":\"strict\",\"colorway\":[\"#636efa\",\"#EF553B\",\"#00cc96\",\"#ab63fa\",\"#FFA15A\",\"#19d3f3\",\"#FF6692\",\"#B6E880\",\"#FF97FF\",\"#FECB52\"],\"font\":{\"color\":\"#2a3f5f\"},\"hovermode\":\"closest\",\"hoverlabel\":{\"align\":\"left\"},\"paper_bgcolor\":\"white\",\"plot_bgcolor\":\"#E5ECF6\",\"polar\":{\"bgcolor\":\"#E5ECF6\",\"angularaxis\":{\"gridcolor\":\"white\",\"linecolor\":\"white\",\"ticks\":\"\"},\"radialaxis\":{\"gridcolor\":\"white\",\"linecolor\":\"white\",\"ticks\":\"\"}},\"ternary\":{\"bgcolor\":\"#E5ECF6\",\"aaxis\":{\"gridcolor\":\"white\",\"linecolor\":\"white\",\"ticks\":\"\"},\"baxis\":{\"gridcolor\":\"white\",\"linecolor\":\"white\",\"ticks\":\"\"},\"caxis\":{\"gridcolor\":\"white\",\"linecolor\":\"white\",\"ticks\":\"\"}},\"coloraxis\":{\"colorbar\":{\"outlinewidth\":0,\"ticks\":\"\"}},\"colorscale\":{\"sequential\":[[0.0,\"#0d0887\"],[0.1111111111111111,\"#46039f\"],[0.2222222222222222,\"#7201a8\"],[0.3333333333333333,\"#9c179e\"],[0.4444444444444444,\"#bd3786\"],[0.5555555555555556,\"#d8576b\"],[0.6666666666666666,\"#ed7953\"],[0.7777777777777778,\"#fb9f3a\"],[0.8888888888888888,\"#fdca26\"],[1.0,\"#f0f921\"]],\"sequentialminus\":[[0.0,\"#0d0887\"],[0.1111111111111111,\"#46039f\"],[0.2222222222222222,\"#7201a8\"],[0.3333333333333333,\"#9c179e\"],[0.4444444444444444,\"#bd3786\"],[0.5555555555555556,\"#d8576b\"],[0.6666666666666666,\"#ed7953\"],[0.7777777777777778,\"#fb9f3a\"],[0.8888888888888888,\"#fdca26\"],[1.0,\"#f0f921\"]],\"diverging\":[[0,\"#8e0152\"],[0.1,\"#c51b7d\"],[0.2,\"#de77ae\"],[0.3,\"#f1b6da\"],[0.4,\"#fde0ef\"],[0.5,\"#f7f7f7\"],[0.6,\"#e6f5d0\"],[0.7,\"#b8e186\"],[0.8,\"#7fbc41\"],[0.9,\"#4d9221\"],[1,\"#276419\"]]},\"xaxis\":{\"gridcolor\":\"white\",\"linecolor\":\"white\",\"ticks\":\"\",\"title\":{\"standoff\":15},\"zerolinecolor\":\"white\",\"automargin\":true,\"zerolinewidth\":2},\"yaxis\":{\"gridcolor\":\"white\",\"linecolor\":\"white\",\"ticks\":\"\",\"title\":{\"standoff\":15},\"zerolinecolor\":\"white\",\"automargin\":true,\"zerolinewidth\":2},\"scene\":{\"xaxis\":{\"backgroundcolor\":\"#E5ECF6\",\"gridcolor\":\"white\",\"linecolor\":\"white\",\"showbackground\":true,\"ticks\":\"\",\"zerolinecolor\":\"white\",\"gridwidth\":2},\"yaxis\":{\"backgroundcolor\":\"#E5ECF6\",\"gridcolor\":\"white\",\"linecolor\":\"white\",\"showbackground\":true,\"ticks\":\"\",\"zerolinecolor\":\"white\",\"gridwidth\":2},\"zaxis\":{\"backgroundcolor\":\"#E5ECF6\",\"gridcolor\":\"white\",\"linecolor\":\"white\",\"showbackground\":true,\"ticks\":\"\",\"zerolinecolor\":\"white\",\"gridwidth\":2}},\"shapedefaults\":{\"line\":{\"color\":\"#2a3f5f\"}},\"annotationdefaults\":{\"arrowcolor\":\"#2a3f5f\",\"arrowhead\":0,\"arrowwidth\":1},\"geo\":{\"bgcolor\":\"white\",\"landcolor\":\"#E5ECF6\",\"subunitcolor\":\"white\",\"showland\":true,\"showlakes\":true,\"lakecolor\":\"white\"},\"title\":{\"x\":0.05},\"mapbox\":{\"style\":\"light\"}}}},                        {\"responsive\": true}                    ).then(function(){\n",
       "                            \n",
       "var gd = document.getElementById('7be51f57-ee10-4474-9c6c-119bf6e5496c');\n",
       "var x = new MutationObserver(function (mutations, observer) {{\n",
       "        var display = window.getComputedStyle(gd).display;\n",
       "        if (!display || display === 'none') {{\n",
       "            console.log([gd, 'removed!']);\n",
       "            Plotly.purge(gd);\n",
       "            observer.disconnect();\n",
       "        }}\n",
       "}});\n",
       "\n",
       "// Listen for the removal of the full notebook cells\n",
       "var notebookContainer = gd.closest('#notebook-container');\n",
       "if (notebookContainer) {{\n",
       "    x.observe(notebookContainer, {childList: true});\n",
       "}}\n",
       "\n",
       "// Listen for the clearing of the current output cell\n",
       "var outputEl = gd.closest('.output');\n",
       "if (outputEl) {{\n",
       "    x.observe(outputEl, {childList: true});\n",
       "}}\n",
       "\n",
       "                        })                };                });            </script>        </div>"
      ]
     },
     "metadata": {},
     "output_type": "display_data"
    }
   ],
   "source": [
    "import plotly.graph_objects as go \n",
    "\n",
    "fig = go.Figure(data=[go.Pie(labels=bycategory.index,values=bycategory.values)])\n",
    "fig.show()"
   ]
  },
  {
   "cell_type": "markdown",
   "id": "0ec1e956",
   "metadata": {},
   "source": [
    "## Rodent Category Analysis"
   ]
  },
  {
   "cell_type": "code",
   "execution_count": 104,
   "id": "9c888b4d",
   "metadata": {
    "scrolled": true
   },
   "outputs": [
    {
     "data": {
      "text/html": [
       "<div>\n",
       "<style scoped>\n",
       "    .dataframe tbody tr th:only-of-type {\n",
       "        vertical-align: middle;\n",
       "    }\n",
       "\n",
       "    .dataframe tbody tr th {\n",
       "        vertical-align: top;\n",
       "    }\n",
       "\n",
       "    .dataframe thead th {\n",
       "        text-align: right;\n",
       "    }\n",
       "</style>\n",
       "<table border=\"1\" class=\"dataframe\">\n",
       "  <thead>\n",
       "    <tr style=\"text-align: right;\">\n",
       "      <th></th>\n",
       "      <th>category</th>\n",
       "      <th>product_id</th>\n",
       "      <th>order_number</th>\n",
       "      <th>price</th>\n",
       "      <th>sales</th>\n",
       "      <th>number_rating</th>\n",
       "      <th>number_favorites</th>\n",
       "    </tr>\n",
       "  </thead>\n",
       "  <tbody>\n",
       "    <tr>\n",
       "      <th>2000</th>\n",
       "      <td>Rodent</td>\n",
       "      <td>566054780243</td>\n",
       "      <td>9976</td>\n",
       "      <td>26.80</td>\n",
       "      <td>267356.8</td>\n",
       "      <td>11901.0</td>\n",
       "      <td>11596</td>\n",
       "    </tr>\n",
       "    <tr>\n",
       "      <th>2001</th>\n",
       "      <td>Rodent</td>\n",
       "      <td>566054780243</td>\n",
       "      <td>9976</td>\n",
       "      <td>26.80</td>\n",
       "      <td>267356.8</td>\n",
       "      <td>NaN</td>\n",
       "      <td>11596</td>\n",
       "    </tr>\n",
       "    <tr>\n",
       "      <th>2002</th>\n",
       "      <td>Rodent</td>\n",
       "      <td>572115448996</td>\n",
       "      <td>9945</td>\n",
       "      <td>9.90</td>\n",
       "      <td>98455.5</td>\n",
       "      <td>26442.0</td>\n",
       "      <td>3569</td>\n",
       "    </tr>\n",
       "    <tr>\n",
       "      <th>2003</th>\n",
       "      <td>Rodent</td>\n",
       "      <td>39868408322</td>\n",
       "      <td>99</td>\n",
       "      <td>29.90</td>\n",
       "      <td>2960.1</td>\n",
       "      <td>20.0</td>\n",
       "      <td>352</td>\n",
       "    </tr>\n",
       "    <tr>\n",
       "      <th>2004</th>\n",
       "      <td>Rodent</td>\n",
       "      <td>520282897220</td>\n",
       "      <td>99</td>\n",
       "      <td>39.90</td>\n",
       "      <td>3950.1</td>\n",
       "      <td>559.0</td>\n",
       "      <td>1250</td>\n",
       "    </tr>\n",
       "    <tr>\n",
       "      <th>...</th>\n",
       "      <td>...</td>\n",
       "      <td>...</td>\n",
       "      <td>...</td>\n",
       "      <td>...</td>\n",
       "      <td>...</td>\n",
       "      <td>...</td>\n",
       "      <td>...</td>\n",
       "    </tr>\n",
       "    <tr>\n",
       "      <th>3518</th>\n",
       "      <td>Rodent</td>\n",
       "      <td>573118678210</td>\n",
       "      <td>0</td>\n",
       "      <td>22.00</td>\n",
       "      <td>NaN</td>\n",
       "      <td>3.0</td>\n",
       "      <td>0</td>\n",
       "    </tr>\n",
       "    <tr>\n",
       "      <th>3519</th>\n",
       "      <td>Rodent</td>\n",
       "      <td>550586926422</td>\n",
       "      <td>0</td>\n",
       "      <td>38.00</td>\n",
       "      <td>NaN</td>\n",
       "      <td>0.0</td>\n",
       "      <td>1</td>\n",
       "    </tr>\n",
       "    <tr>\n",
       "      <th>3520</th>\n",
       "      <td>Rodent</td>\n",
       "      <td>520862079013</td>\n",
       "      <td>0</td>\n",
       "      <td>64.00</td>\n",
       "      <td>NaN</td>\n",
       "      <td>0.0</td>\n",
       "      <td>2</td>\n",
       "    </tr>\n",
       "    <tr>\n",
       "      <th>3521</th>\n",
       "      <td>Rodent</td>\n",
       "      <td>550586926422</td>\n",
       "      <td>0</td>\n",
       "      <td>38.00</td>\n",
       "      <td>NaN</td>\n",
       "      <td>0.0</td>\n",
       "      <td>1</td>\n",
       "    </tr>\n",
       "    <tr>\n",
       "      <th>3522</th>\n",
       "      <td>Rodent</td>\n",
       "      <td>579381539073</td>\n",
       "      <td>0</td>\n",
       "      <td>95.04</td>\n",
       "      <td>NaN</td>\n",
       "      <td>0.0</td>\n",
       "      <td>0</td>\n",
       "    </tr>\n",
       "  </tbody>\n",
       "</table>\n",
       "<p>1523 rows × 7 columns</p>\n",
       "</div>"
      ],
      "text/plain": [
       "     category    product_id  order_number  price     sales  number_rating  \\\n",
       "2000   Rodent  566054780243          9976  26.80  267356.8        11901.0   \n",
       "2001   Rodent  566054780243          9976  26.80  267356.8            NaN   \n",
       "2002   Rodent  572115448996          9945   9.90   98455.5        26442.0   \n",
       "2003   Rodent   39868408322            99  29.90    2960.1           20.0   \n",
       "2004   Rodent  520282897220            99  39.90    3950.1          559.0   \n",
       "...       ...           ...           ...    ...       ...            ...   \n",
       "3518   Rodent  573118678210             0  22.00       NaN            3.0   \n",
       "3519   Rodent  550586926422             0  38.00       NaN            0.0   \n",
       "3520   Rodent  520862079013             0  64.00       NaN            0.0   \n",
       "3521   Rodent  550586926422             0  38.00       NaN            0.0   \n",
       "3522   Rodent  579381539073             0  95.04       NaN            0.0   \n",
       "\n",
       "      number_favorites  \n",
       "2000             11596  \n",
       "2001             11596  \n",
       "2002              3569  \n",
       "2003               352  \n",
       "2004              1250  \n",
       "...                ...  \n",
       "3518                 0  \n",
       "3519                 1  \n",
       "3520                 2  \n",
       "3521                 1  \n",
       "3522                 0  \n",
       "\n",
       "[1523 rows x 7 columns]"
      ]
     },
     "execution_count": 104,
     "metadata": {},
     "output_type": "execute_result"
    }
   ],
   "source": [
    "df2 = df[df['category']== 'Rodent']\n",
    "df2"
   ]
  },
  {
   "cell_type": "code",
   "execution_count": 105,
   "id": "f41be5f0",
   "metadata": {},
   "outputs": [
    {
     "data": {
      "text/plain": [
       "category             object\n",
       "product_id           object\n",
       "order_number          int64\n",
       "price               float64\n",
       "sales               float64\n",
       "number_rating       float64\n",
       "number_favorites      int64\n",
       "dtype: object"
      ]
     },
     "execution_count": 105,
     "metadata": {},
     "output_type": "execute_result"
    }
   ],
   "source": [
    "df2.dtypes"
   ]
  },
  {
   "cell_type": "code",
   "execution_count": null,
   "id": "4b03b88f",
   "metadata": {},
   "outputs": [],
   "source": []
  },
  {
   "cell_type": "code",
   "execution_count": 106,
   "id": "08b639dc",
   "metadata": {
    "scrolled": true
   },
   "outputs": [
    {
     "data": {
      "text/plain": [
       "<AxesSubplot:ylabel='Frequency'>"
      ]
     },
     "execution_count": 106,
     "metadata": {},
     "output_type": "execute_result"
    },
    {
     "data": {
      "image/png": "[encoded data removed]",
      "text/plain": [
       "<Figure size 432x288 with 1 Axes>"
      ]
     },
     "metadata": {
      "needs_background": "light"
     },
     "output_type": "display_data"
    }
   ],
   "source": [
    "df2['price'].plot.hist()"
   ]
  },
  {
   "cell_type": "markdown",
   "id": "0e1bf13b",
   "metadata": {},
   "source": [
    "## 0-500 Price Range Sales Analysis"
   ]
  },
  {
   "cell_type": "code",
   "execution_count": 107,
   "id": "7b7cf461",
   "metadata": {},
   "outputs": [
    {
     "name": "stderr",
     "output_type": "stream",
     "text": [
      "C:\\Users\\ws\\AppData\\Local\\Temp\\ipykernel_12780\\1190777114.py:4: SettingWithCopyWarning:\n",
      "\n",
      "\n",
      "A value is trying to be set on a copy of a slice from a DataFrame.\n",
      "Try using .loc[row_indexer,col_indexer] = value instead\n",
      "\n",
      "See the caveats in the documentation: https://pandas.pydata.org/pandas-docs/stable/user_guide/indexing.html#returning-a-view-versus-a-copy\n",
      "\n"
     ]
    },
    {
     "data": {
      "text/plain": [
       "0_50       1138\n",
       "50_100      242\n",
       "100_150      62\n",
       "150_200      35\n",
       "300_500      28\n",
       "200_250       9\n",
       "250_300       9\n",
       "Name: price_range, dtype: int64"
      ]
     },
     "execution_count": 107,
     "metadata": {},
     "output_type": "execute_result"
    }
   ],
   "source": [
    "# Create custom bin for sales; convert continuous variables to range variables\n",
    "bins = [0,50,100,150,200,250,300,500] \n",
    "labels = ['0_50','50_100','100_150','150_200','200_250','250_300','300_500'] # bins name\n",
    "df2['price_range'] = pd.cut(df2['price'],bins,labels=labels,include_lowest=True)\n",
    "df2['price_range'].value_counts()"
   ]
  },
  {
   "cell_type": "code",
   "execution_count": 108,
   "id": "cb5369ff",
   "metadata": {},
   "outputs": [
    {
     "data": {
      "text/html": [
       "<div>\n",
       "<style scoped>\n",
       "    .dataframe tbody tr th:only-of-type {\n",
       "        vertical-align: middle;\n",
       "    }\n",
       "\n",
       "    .dataframe tbody tr th {\n",
       "        vertical-align: top;\n",
       "    }\n",
       "\n",
       "    .dataframe thead th {\n",
       "        text-align: right;\n",
       "    }\n",
       "</style>\n",
       "<table border=\"1\" class=\"dataframe\">\n",
       "  <thead>\n",
       "    <tr style=\"text-align: right;\">\n",
       "      <th></th>\n",
       "      <th>category</th>\n",
       "      <th>product_id</th>\n",
       "      <th>order_number</th>\n",
       "      <th>price</th>\n",
       "      <th>sales</th>\n",
       "      <th>number_rating</th>\n",
       "      <th>number_favorites</th>\n",
       "      <th>price_range</th>\n",
       "    </tr>\n",
       "  </thead>\n",
       "  <tbody>\n",
       "    <tr>\n",
       "      <th>2000</th>\n",
       "      <td>Rodent</td>\n",
       "      <td>566054780243</td>\n",
       "      <td>9976</td>\n",
       "      <td>26.80</td>\n",
       "      <td>267356.8</td>\n",
       "      <td>11901.0</td>\n",
       "      <td>11596</td>\n",
       "      <td>0_50</td>\n",
       "    </tr>\n",
       "    <tr>\n",
       "      <th>2001</th>\n",
       "      <td>Rodent</td>\n",
       "      <td>566054780243</td>\n",
       "      <td>9976</td>\n",
       "      <td>26.80</td>\n",
       "      <td>267356.8</td>\n",
       "      <td>NaN</td>\n",
       "      <td>11596</td>\n",
       "      <td>0_50</td>\n",
       "    </tr>\n",
       "    <tr>\n",
       "      <th>2002</th>\n",
       "      <td>Rodent</td>\n",
       "      <td>572115448996</td>\n",
       "      <td>9945</td>\n",
       "      <td>9.90</td>\n",
       "      <td>98455.5</td>\n",
       "      <td>26442.0</td>\n",
       "      <td>3569</td>\n",
       "      <td>0_50</td>\n",
       "    </tr>\n",
       "    <tr>\n",
       "      <th>2003</th>\n",
       "      <td>Rodent</td>\n",
       "      <td>39868408322</td>\n",
       "      <td>99</td>\n",
       "      <td>29.90</td>\n",
       "      <td>2960.1</td>\n",
       "      <td>20.0</td>\n",
       "      <td>352</td>\n",
       "      <td>0_50</td>\n",
       "    </tr>\n",
       "    <tr>\n",
       "      <th>2004</th>\n",
       "      <td>Rodent</td>\n",
       "      <td>520282897220</td>\n",
       "      <td>99</td>\n",
       "      <td>39.90</td>\n",
       "      <td>3950.1</td>\n",
       "      <td>559.0</td>\n",
       "      <td>1250</td>\n",
       "      <td>0_50</td>\n",
       "    </tr>\n",
       "    <tr>\n",
       "      <th>...</th>\n",
       "      <td>...</td>\n",
       "      <td>...</td>\n",
       "      <td>...</td>\n",
       "      <td>...</td>\n",
       "      <td>...</td>\n",
       "      <td>...</td>\n",
       "      <td>...</td>\n",
       "      <td>...</td>\n",
       "    </tr>\n",
       "    <tr>\n",
       "      <th>3518</th>\n",
       "      <td>Rodent</td>\n",
       "      <td>573118678210</td>\n",
       "      <td>0</td>\n",
       "      <td>22.00</td>\n",
       "      <td>NaN</td>\n",
       "      <td>3.0</td>\n",
       "      <td>0</td>\n",
       "      <td>0_50</td>\n",
       "    </tr>\n",
       "    <tr>\n",
       "      <th>3519</th>\n",
       "      <td>Rodent</td>\n",
       "      <td>550586926422</td>\n",
       "      <td>0</td>\n",
       "      <td>38.00</td>\n",
       "      <td>NaN</td>\n",
       "      <td>0.0</td>\n",
       "      <td>1</td>\n",
       "      <td>0_50</td>\n",
       "    </tr>\n",
       "    <tr>\n",
       "      <th>3520</th>\n",
       "      <td>Rodent</td>\n",
       "      <td>520862079013</td>\n",
       "      <td>0</td>\n",
       "      <td>64.00</td>\n",
       "      <td>NaN</td>\n",
       "      <td>0.0</td>\n",
       "      <td>2</td>\n",
       "      <td>50_100</td>\n",
       "    </tr>\n",
       "    <tr>\n",
       "      <th>3521</th>\n",
       "      <td>Rodent</td>\n",
       "      <td>550586926422</td>\n",
       "      <td>0</td>\n",
       "      <td>38.00</td>\n",
       "      <td>NaN</td>\n",
       "      <td>0.0</td>\n",
       "      <td>1</td>\n",
       "      <td>0_50</td>\n",
       "    </tr>\n",
       "    <tr>\n",
       "      <th>3522</th>\n",
       "      <td>Rodent</td>\n",
       "      <td>579381539073</td>\n",
       "      <td>0</td>\n",
       "      <td>95.04</td>\n",
       "      <td>NaN</td>\n",
       "      <td>0.0</td>\n",
       "      <td>0</td>\n",
       "      <td>50_100</td>\n",
       "    </tr>\n",
       "  </tbody>\n",
       "</table>\n",
       "<p>1523 rows × 8 columns</p>\n",
       "</div>"
      ],
      "text/plain": [
       "     category    product_id  order_number  price     sales  number_rating  \\\n",
       "2000   Rodent  566054780243          9976  26.80  267356.8        11901.0   \n",
       "2001   Rodent  566054780243          9976  26.80  267356.8            NaN   \n",
       "2002   Rodent  572115448996          9945   9.90   98455.5        26442.0   \n",
       "2003   Rodent   39868408322            99  29.90    2960.1           20.0   \n",
       "2004   Rodent  520282897220            99  39.90    3950.1          559.0   \n",
       "...       ...           ...           ...    ...       ...            ...   \n",
       "3518   Rodent  573118678210             0  22.00       NaN            3.0   \n",
       "3519   Rodent  550586926422             0  38.00       NaN            0.0   \n",
       "3520   Rodent  520862079013             0  64.00       NaN            0.0   \n",
       "3521   Rodent  550586926422             0  38.00       NaN            0.0   \n",
       "3522   Rodent  579381539073             0  95.04       NaN            0.0   \n",
       "\n",
       "      number_favorites price_range  \n",
       "2000             11596        0_50  \n",
       "2001             11596        0_50  \n",
       "2002              3569        0_50  \n",
       "2003               352        0_50  \n",
       "2004              1250        0_50  \n",
       "...                ...         ...  \n",
       "3518                 0        0_50  \n",
       "3519                 1        0_50  \n",
       "3520                 2      50_100  \n",
       "3521                 1        0_50  \n",
       "3522                 0      50_100  \n",
       "\n",
       "[1523 rows x 8 columns]"
      ]
     },
     "execution_count": 108,
     "metadata": {},
     "output_type": "execute_result"
    }
   ],
   "source": [
    "df2"
   ]
  },
  {
   "cell_type": "markdown",
   "id": "1a2df80d",
   "metadata": {},
   "source": [
    "- Calculate the sales, sales ratio, product number, and product number ratio of each price range"
   ]
  },
  {
   "cell_type": "code",
   "execution_count": 109,
   "id": "c5fb8b0a",
   "metadata": {},
   "outputs": [
    {
     "data": {
      "text/html": [
       "<div>\n",
       "<style scoped>\n",
       "    .dataframe tbody tr th:only-of-type {\n",
       "        vertical-align: middle;\n",
       "    }\n",
       "\n",
       "    .dataframe tbody tr th {\n",
       "        vertical-align: top;\n",
       "    }\n",
       "\n",
       "    .dataframe thead th {\n",
       "        text-align: right;\n",
       "    }\n",
       "</style>\n",
       "<table border=\"1\" class=\"dataframe\">\n",
       "  <thead>\n",
       "    <tr style=\"text-align: right;\">\n",
       "      <th></th>\n",
       "      <th>order_number</th>\n",
       "      <th>price</th>\n",
       "      <th>sales</th>\n",
       "      <th>number_rating</th>\n",
       "      <th>number_favorites</th>\n",
       "    </tr>\n",
       "    <tr>\n",
       "      <th>price_range</th>\n",
       "      <th></th>\n",
       "      <th></th>\n",
       "      <th></th>\n",
       "      <th></th>\n",
       "      <th></th>\n",
       "    </tr>\n",
       "  </thead>\n",
       "  <tbody>\n",
       "    <tr>\n",
       "      <th>0_50</th>\n",
       "      <td>765446</td>\n",
       "      <td>24633.00</td>\n",
       "      <td>15162086.51</td>\n",
       "      <td>840615.0</td>\n",
       "      <td>1150300</td>\n",
       "    </tr>\n",
       "    <tr>\n",
       "      <th>50_100</th>\n",
       "      <td>46419</td>\n",
       "      <td>18895.85</td>\n",
       "      <td>3335060.19</td>\n",
       "      <td>362521.0</td>\n",
       "      <td>461409</td>\n",
       "    </tr>\n",
       "    <tr>\n",
       "      <th>100_150</th>\n",
       "      <td>20769</td>\n",
       "      <td>7838.95</td>\n",
       "      <td>2758086.29</td>\n",
       "      <td>48608.0</td>\n",
       "      <td>102286</td>\n",
       "    </tr>\n",
       "    <tr>\n",
       "      <th>150_200</th>\n",
       "      <td>3525</td>\n",
       "      <td>6440.00</td>\n",
       "      <td>629813.00</td>\n",
       "      <td>8413.0</td>\n",
       "      <td>19591</td>\n",
       "    </tr>\n",
       "    <tr>\n",
       "      <th>200_250</th>\n",
       "      <td>12556</td>\n",
       "      <td>2074.00</td>\n",
       "      <td>2743758.00</td>\n",
       "      <td>707.0</td>\n",
       "      <td>43652</td>\n",
       "    </tr>\n",
       "    <tr>\n",
       "      <th>250_300</th>\n",
       "      <td>808</td>\n",
       "      <td>2546.00</td>\n",
       "      <td>237740.00</td>\n",
       "      <td>682.0</td>\n",
       "      <td>7366</td>\n",
       "    </tr>\n",
       "    <tr>\n",
       "      <th>300_500</th>\n",
       "      <td>1683</td>\n",
       "      <td>12228.00</td>\n",
       "      <td>819468.00</td>\n",
       "      <td>5795.0</td>\n",
       "      <td>46655</td>\n",
       "    </tr>\n",
       "  </tbody>\n",
       "</table>\n",
       "</div>"
      ],
      "text/plain": [
       "             order_number     price        sales  number_rating  \\\n",
       "price_range                                                       \n",
       "0_50               765446  24633.00  15162086.51       840615.0   \n",
       "50_100              46419  18895.85   3335060.19       362521.0   \n",
       "100_150             20769   7838.95   2758086.29        48608.0   \n",
       "150_200              3525   6440.00    629813.00         8413.0   \n",
       "200_250             12556   2074.00   2743758.00          707.0   \n",
       "250_300               808   2546.00    237740.00          682.0   \n",
       "300_500              1683  12228.00    819468.00         5795.0   \n",
       "\n",
       "             number_favorites  \n",
       "price_range                    \n",
       "0_50                  1150300  \n",
       "50_100                 461409  \n",
       "100_150                102286  \n",
       "150_200                 19591  \n",
       "200_250                 43652  \n",
       "250_300                  7366  \n",
       "300_500                 46655  "
      ]
     },
     "execution_count": 109,
     "metadata": {},
     "output_type": "execute_result"
    }
   ],
   "source": [
    "df2.groupby('price_range').sum()"
   ]
  },
  {
   "cell_type": "code",
   "execution_count": 110,
   "id": "3e2cf4bb",
   "metadata": {},
   "outputs": [
    {
     "data": {
      "text/html": [
       "<div>\n",
       "<style scoped>\n",
       "    .dataframe tbody tr th:only-of-type {\n",
       "        vertical-align: middle;\n",
       "    }\n",
       "\n",
       "    .dataframe tbody tr th {\n",
       "        vertical-align: top;\n",
       "    }\n",
       "\n",
       "    .dataframe thead th {\n",
       "        text-align: right;\n",
       "    }\n",
       "</style>\n",
       "<table border=\"1\" class=\"dataframe\">\n",
       "  <thead>\n",
       "    <tr style=\"text-align: right;\">\n",
       "      <th></th>\n",
       "      <th>sales</th>\n",
       "    </tr>\n",
       "    <tr>\n",
       "      <th>price_range</th>\n",
       "      <th></th>\n",
       "    </tr>\n",
       "  </thead>\n",
       "  <tbody>\n",
       "    <tr>\n",
       "      <th>0_50</th>\n",
       "      <td>15162086.51</td>\n",
       "    </tr>\n",
       "    <tr>\n",
       "      <th>50_100</th>\n",
       "      <td>3335060.19</td>\n",
       "    </tr>\n",
       "    <tr>\n",
       "      <th>100_150</th>\n",
       "      <td>2758086.29</td>\n",
       "    </tr>\n",
       "    <tr>\n",
       "      <th>150_200</th>\n",
       "      <td>629813.00</td>\n",
       "    </tr>\n",
       "    <tr>\n",
       "      <th>200_250</th>\n",
       "      <td>2743758.00</td>\n",
       "    </tr>\n",
       "    <tr>\n",
       "      <th>250_300</th>\n",
       "      <td>237740.00</td>\n",
       "    </tr>\n",
       "    <tr>\n",
       "      <th>300_500</th>\n",
       "      <td>819468.00</td>\n",
       "    </tr>\n",
       "  </tbody>\n",
       "</table>\n",
       "</div>"
      ],
      "text/plain": [
       "                   sales\n",
       "price_range             \n",
       "0_50         15162086.51\n",
       "50_100        3335060.19\n",
       "100_150       2758086.29\n",
       "150_200        629813.00\n",
       "200_250       2743758.00\n",
       "250_300        237740.00\n",
       "300_500        819468.00"
      ]
     },
     "execution_count": 110,
     "metadata": {},
     "output_type": "execute_result"
    }
   ],
   "source": [
    "# Extact out the sales column\n",
    "df3 = pd.DataFrame(df2.groupby('price_range').sum().loc[:,['sales']])\n",
    "df3"
   ]
  },
  {
   "cell_type": "code",
   "execution_count": 111,
   "id": "521d110b",
   "metadata": {},
   "outputs": [],
   "source": [
    "#Sales ratio, number of product, ratio of product, average sales of a single product\n",
    "df3['sales_proportion'] = df3['sales'] / df3['sales'].sum()\n",
    "df3['number_of_product'] = df2.groupby('price_range').nunique()['product_id']\n",
    "df3['product_proportion'] = df3['number_of_product'] / df3['number_of_product'].sum()\n",
    "df3['average_sales_each_product'] =  df3['sales']/df3['number_of_product']"
   ]
  },
  {
   "cell_type": "code",
   "execution_count": 112,
   "id": "34085ec2",
   "metadata": {
    "scrolled": false
   },
   "outputs": [
    {
     "data": {
      "text/html": [
       "<div>\n",
       "<style scoped>\n",
       "    .dataframe tbody tr th:only-of-type {\n",
       "        vertical-align: middle;\n",
       "    }\n",
       "\n",
       "    .dataframe tbody tr th {\n",
       "        vertical-align: top;\n",
       "    }\n",
       "\n",
       "    .dataframe thead th {\n",
       "        text-align: right;\n",
       "    }\n",
       "</style>\n",
       "<table border=\"1\" class=\"dataframe\">\n",
       "  <thead>\n",
       "    <tr style=\"text-align: right;\">\n",
       "      <th></th>\n",
       "      <th>sales</th>\n",
       "      <th>sales_proportion</th>\n",
       "      <th>number_of_product</th>\n",
       "      <th>product_proportion</th>\n",
       "      <th>average_sales_each_product</th>\n",
       "    </tr>\n",
       "    <tr>\n",
       "      <th>price_range</th>\n",
       "      <th></th>\n",
       "      <th></th>\n",
       "      <th></th>\n",
       "      <th></th>\n",
       "      <th></th>\n",
       "    </tr>\n",
       "  </thead>\n",
       "  <tbody>\n",
       "    <tr>\n",
       "      <th>0_50</th>\n",
       "      <td>15162086.51</td>\n",
       "      <td>0.590286</td>\n",
       "      <td>854</td>\n",
       "      <td>0.753086</td>\n",
       "      <td>17754.199660</td>\n",
       "    </tr>\n",
       "    <tr>\n",
       "      <th>50_100</th>\n",
       "      <td>3335060.19</td>\n",
       "      <td>0.129840</td>\n",
       "      <td>172</td>\n",
       "      <td>0.151675</td>\n",
       "      <td>19389.884826</td>\n",
       "    </tr>\n",
       "    <tr>\n",
       "      <th>100_150</th>\n",
       "      <td>2758086.29</td>\n",
       "      <td>0.107377</td>\n",
       "      <td>46</td>\n",
       "      <td>0.040564</td>\n",
       "      <td>59958.397609</td>\n",
       "    </tr>\n",
       "    <tr>\n",
       "      <th>150_200</th>\n",
       "      <td>629813.00</td>\n",
       "      <td>0.024520</td>\n",
       "      <td>28</td>\n",
       "      <td>0.024691</td>\n",
       "      <td>22493.321429</td>\n",
       "    </tr>\n",
       "    <tr>\n",
       "      <th>200_250</th>\n",
       "      <td>2743758.00</td>\n",
       "      <td>0.106819</td>\n",
       "      <td>7</td>\n",
       "      <td>0.006173</td>\n",
       "      <td>391965.428571</td>\n",
       "    </tr>\n",
       "    <tr>\n",
       "      <th>250_300</th>\n",
       "      <td>237740.00</td>\n",
       "      <td>0.009256</td>\n",
       "      <td>9</td>\n",
       "      <td>0.007937</td>\n",
       "      <td>26415.555556</td>\n",
       "    </tr>\n",
       "    <tr>\n",
       "      <th>300_500</th>\n",
       "      <td>819468.00</td>\n",
       "      <td>0.031903</td>\n",
       "      <td>18</td>\n",
       "      <td>0.015873</td>\n",
       "      <td>45526.000000</td>\n",
       "    </tr>\n",
       "  </tbody>\n",
       "</table>\n",
       "</div>"
      ],
      "text/plain": [
       "                   sales  sales_proportion  number_of_product  \\\n",
       "price_range                                                     \n",
       "0_50         15162086.51          0.590286                854   \n",
       "50_100        3335060.19          0.129840                172   \n",
       "100_150       2758086.29          0.107377                 46   \n",
       "150_200        629813.00          0.024520                 28   \n",
       "200_250       2743758.00          0.106819                  7   \n",
       "250_300        237740.00          0.009256                  9   \n",
       "300_500        819468.00          0.031903                 18   \n",
       "\n",
       "             product_proportion  average_sales_each_product  \n",
       "price_range                                                  \n",
       "0_50                   0.753086                17754.199660  \n",
       "50_100                 0.151675                19389.884826  \n",
       "100_150                0.040564                59958.397609  \n",
       "150_200                0.024691                22493.321429  \n",
       "200_250                0.006173               391965.428571  \n",
       "250_300                0.007937                26415.555556  \n",
       "300_500                0.015873                45526.000000  "
      ]
     },
     "execution_count": 112,
     "metadata": {},
     "output_type": "execute_result"
    }
   ],
   "source": [
    "df3"
   ]
  },
  {
   "cell_type": "markdown",
   "id": "0d581f44",
   "metadata": {},
   "source": [
    "- Competitiveness (the opposite of the average_sales_each_product)\n",
    "- The higher the average sales of a product, the lower the competition; the lower, the greater the competition"
   ]
  },
  {
   "cell_type": "code",
   "execution_count": 113,
   "id": "a2d4f53e",
   "metadata": {},
   "outputs": [],
   "source": [
    "df3['relative_competitiveness'] = 1- (df3['average_sales_each_product']-df3['average_sales_each_product'].min())/(\n",
    "                        df3['average_sales_each_product'].max()-df3['average_sales_each_product'].min())"
   ]
  },
  {
   "cell_type": "code",
   "execution_count": 114,
   "id": "e5d6bf2c",
   "metadata": {},
   "outputs": [
    {
     "data": {
      "text/html": [
       "<div>\n",
       "<style scoped>\n",
       "    .dataframe tbody tr th:only-of-type {\n",
       "        vertical-align: middle;\n",
       "    }\n",
       "\n",
       "    .dataframe tbody tr th {\n",
       "        vertical-align: top;\n",
       "    }\n",
       "\n",
       "    .dataframe thead th {\n",
       "        text-align: right;\n",
       "    }\n",
       "</style>\n",
       "<table border=\"1\" class=\"dataframe\">\n",
       "  <thead>\n",
       "    <tr style=\"text-align: right;\">\n",
       "      <th></th>\n",
       "      <th>sales</th>\n",
       "      <th>sales_proportion</th>\n",
       "      <th>number_of_product</th>\n",
       "      <th>product_proportion</th>\n",
       "      <th>average_sales_each_product</th>\n",
       "      <th>relative_competitiveness</th>\n",
       "    </tr>\n",
       "    <tr>\n",
       "      <th>price_range</th>\n",
       "      <th></th>\n",
       "      <th></th>\n",
       "      <th></th>\n",
       "      <th></th>\n",
       "      <th></th>\n",
       "      <th></th>\n",
       "    </tr>\n",
       "  </thead>\n",
       "  <tbody>\n",
       "    <tr>\n",
       "      <th>0_50</th>\n",
       "      <td>15162086.51</td>\n",
       "      <td>0.590286</td>\n",
       "      <td>854</td>\n",
       "      <td>0.753086</td>\n",
       "      <td>17754.199660</td>\n",
       "      <td>1.000000</td>\n",
       "    </tr>\n",
       "    <tr>\n",
       "      <th>50_100</th>\n",
       "      <td>3335060.19</td>\n",
       "      <td>0.129840</td>\n",
       "      <td>172</td>\n",
       "      <td>0.151675</td>\n",
       "      <td>19389.884826</td>\n",
       "      <td>0.995629</td>\n",
       "    </tr>\n",
       "    <tr>\n",
       "      <th>100_150</th>\n",
       "      <td>2758086.29</td>\n",
       "      <td>0.107377</td>\n",
       "      <td>46</td>\n",
       "      <td>0.040564</td>\n",
       "      <td>59958.397609</td>\n",
       "      <td>0.887218</td>\n",
       "    </tr>\n",
       "    <tr>\n",
       "      <th>150_200</th>\n",
       "      <td>629813.00</td>\n",
       "      <td>0.024520</td>\n",
       "      <td>28</td>\n",
       "      <td>0.024691</td>\n",
       "      <td>22493.321429</td>\n",
       "      <td>0.987336</td>\n",
       "    </tr>\n",
       "    <tr>\n",
       "      <th>200_250</th>\n",
       "      <td>2743758.00</td>\n",
       "      <td>0.106819</td>\n",
       "      <td>7</td>\n",
       "      <td>0.006173</td>\n",
       "      <td>391965.428571</td>\n",
       "      <td>0.000000</td>\n",
       "    </tr>\n",
       "    <tr>\n",
       "      <th>250_300</th>\n",
       "      <td>237740.00</td>\n",
       "      <td>0.009256</td>\n",
       "      <td>9</td>\n",
       "      <td>0.007937</td>\n",
       "      <td>26415.555556</td>\n",
       "      <td>0.976854</td>\n",
       "    </tr>\n",
       "    <tr>\n",
       "      <th>300_500</th>\n",
       "      <td>819468.00</td>\n",
       "      <td>0.031903</td>\n",
       "      <td>18</td>\n",
       "      <td>0.015873</td>\n",
       "      <td>45526.000000</td>\n",
       "      <td>0.925786</td>\n",
       "    </tr>\n",
       "  </tbody>\n",
       "</table>\n",
       "</div>"
      ],
      "text/plain": [
       "                   sales  sales_proportion  number_of_product  \\\n",
       "price_range                                                     \n",
       "0_50         15162086.51          0.590286                854   \n",
       "50_100        3335060.19          0.129840                172   \n",
       "100_150       2758086.29          0.107377                 46   \n",
       "150_200        629813.00          0.024520                 28   \n",
       "200_250       2743758.00          0.106819                  7   \n",
       "250_300        237740.00          0.009256                  9   \n",
       "300_500        819468.00          0.031903                 18   \n",
       "\n",
       "             product_proportion  average_sales_each_product  \\\n",
       "price_range                                                   \n",
       "0_50                   0.753086                17754.199660   \n",
       "50_100                 0.151675                19389.884826   \n",
       "100_150                0.040564                59958.397609   \n",
       "150_200                0.024691                22493.321429   \n",
       "200_250                0.006173               391965.428571   \n",
       "250_300                0.007937                26415.555556   \n",
       "300_500                0.015873                45526.000000   \n",
       "\n",
       "             relative_competitiveness  \n",
       "price_range                            \n",
       "0_50                         1.000000  \n",
       "50_100                       0.995629  \n",
       "100_150                      0.887218  \n",
       "150_200                      0.987336  \n",
       "200_250                      0.000000  \n",
       "250_300                      0.976854  \n",
       "300_500                      0.925786  "
      ]
     },
     "execution_count": 114,
     "metadata": {},
     "output_type": "execute_result"
    }
   ],
   "source": [
    "df3"
   ]
  },
  {
   "cell_type": "code",
   "execution_count": 115,
   "id": "3e4d52a0",
   "metadata": {},
   "outputs": [],
   "source": [
    "# function\n",
    "def bypro(df,by,sort='average_sales_each_product'):\n",
    "    pro = pd.DataFrame(df.groupby(by).sum().loc[:,['sales']])\n",
    "    ## Sales ratio, number of product, ratio of product, average sales of a product\n",
    "    pro['sales_proportion'] = pro['sales'] / pro['sales'].sum()\n",
    "    pro['number_of_product'] = df.groupby(by).nunique()['product_id']\n",
    "    pro['product_proportion'] = pro['number_of_product'] / pro['number_of_product'].sum()\n",
    "    pro['average_sales_each_product'] =  pro['sales']/pro['number_of_product']\n",
    "    pro['relative_competitiveness'] = 1- (pro['average_sales_each_product']-pro['average_sales_each_product'].min())/(\n",
    "                        pro['average_sales_each_product'].max()-pro['average_sales_each_product'].min())\n",
    "    if sort:\n",
    "        pro.sort_values(sort,ascending=False,inplace=True)\n",
    "    return pro"
   ]
  },
  {
   "cell_type": "code",
   "execution_count": 116,
   "id": "27dd83a5",
   "metadata": {},
   "outputs": [
    {
     "data": {
      "text/html": [
       "<div>\n",
       "<style scoped>\n",
       "    .dataframe tbody tr th:only-of-type {\n",
       "        vertical-align: middle;\n",
       "    }\n",
       "\n",
       "    .dataframe tbody tr th {\n",
       "        vertical-align: top;\n",
       "    }\n",
       "\n",
       "    .dataframe thead th {\n",
       "        text-align: right;\n",
       "    }\n",
       "</style>\n",
       "<table border=\"1\" class=\"dataframe\">\n",
       "  <thead>\n",
       "    <tr style=\"text-align: right;\">\n",
       "      <th></th>\n",
       "      <th>sales</th>\n",
       "      <th>sales_proportion</th>\n",
       "      <th>number_of_product</th>\n",
       "      <th>product_proportion</th>\n",
       "      <th>average_sales_each_product</th>\n",
       "      <th>relative_competitiveness</th>\n",
       "    </tr>\n",
       "    <tr>\n",
       "      <th>price_range</th>\n",
       "      <th></th>\n",
       "      <th></th>\n",
       "      <th></th>\n",
       "      <th></th>\n",
       "      <th></th>\n",
       "      <th></th>\n",
       "    </tr>\n",
       "  </thead>\n",
       "  <tbody>\n",
       "    <tr>\n",
       "      <th>200_250</th>\n",
       "      <td>2743758.00</td>\n",
       "      <td>0.106819</td>\n",
       "      <td>7</td>\n",
       "      <td>0.006173</td>\n",
       "      <td>391965.428571</td>\n",
       "      <td>0.000000</td>\n",
       "    </tr>\n",
       "    <tr>\n",
       "      <th>100_150</th>\n",
       "      <td>2758086.29</td>\n",
       "      <td>0.107377</td>\n",
       "      <td>46</td>\n",
       "      <td>0.040564</td>\n",
       "      <td>59958.397609</td>\n",
       "      <td>0.887218</td>\n",
       "    </tr>\n",
       "    <tr>\n",
       "      <th>300_500</th>\n",
       "      <td>819468.00</td>\n",
       "      <td>0.031903</td>\n",
       "      <td>18</td>\n",
       "      <td>0.015873</td>\n",
       "      <td>45526.000000</td>\n",
       "      <td>0.925786</td>\n",
       "    </tr>\n",
       "    <tr>\n",
       "      <th>250_300</th>\n",
       "      <td>237740.00</td>\n",
       "      <td>0.009256</td>\n",
       "      <td>9</td>\n",
       "      <td>0.007937</td>\n",
       "      <td>26415.555556</td>\n",
       "      <td>0.976854</td>\n",
       "    </tr>\n",
       "    <tr>\n",
       "      <th>150_200</th>\n",
       "      <td>629813.00</td>\n",
       "      <td>0.024520</td>\n",
       "      <td>28</td>\n",
       "      <td>0.024691</td>\n",
       "      <td>22493.321429</td>\n",
       "      <td>0.987336</td>\n",
       "    </tr>\n",
       "    <tr>\n",
       "      <th>50_100</th>\n",
       "      <td>3335060.19</td>\n",
       "      <td>0.129840</td>\n",
       "      <td>172</td>\n",
       "      <td>0.151675</td>\n",
       "      <td>19389.884826</td>\n",
       "      <td>0.995629</td>\n",
       "    </tr>\n",
       "    <tr>\n",
       "      <th>0_50</th>\n",
       "      <td>15162086.51</td>\n",
       "      <td>0.590286</td>\n",
       "      <td>854</td>\n",
       "      <td>0.753086</td>\n",
       "      <td>17754.199660</td>\n",
       "      <td>1.000000</td>\n",
       "    </tr>\n",
       "  </tbody>\n",
       "</table>\n",
       "</div>"
      ],
      "text/plain": [
       "                   sales  sales_proportion  number_of_product  \\\n",
       "price_range                                                     \n",
       "200_250       2743758.00          0.106819                  7   \n",
       "100_150       2758086.29          0.107377                 46   \n",
       "300_500        819468.00          0.031903                 18   \n",
       "250_300        237740.00          0.009256                  9   \n",
       "150_200        629813.00          0.024520                 28   \n",
       "50_100        3335060.19          0.129840                172   \n",
       "0_50         15162086.51          0.590286                854   \n",
       "\n",
       "             product_proportion  average_sales_each_product  \\\n",
       "price_range                                                   \n",
       "200_250                0.006173               391965.428571   \n",
       "100_150                0.040564                59958.397609   \n",
       "300_500                0.015873                45526.000000   \n",
       "250_300                0.007937                26415.555556   \n",
       "150_200                0.024691                22493.321429   \n",
       "50_100                 0.151675                19389.884826   \n",
       "0_50                   0.753086                17754.199660   \n",
       "\n",
       "             relative_competitiveness  \n",
       "price_range                            \n",
       "200_250                      0.000000  \n",
       "100_150                      0.887218  \n",
       "300_500                      0.925786  \n",
       "250_300                      0.976854  \n",
       "150_200                      0.987336  \n",
       "50_100                       0.995629  \n",
       "0_50                         1.000000  "
      ]
     },
     "execution_count": 116,
     "metadata": {},
     "output_type": "execute_result"
    }
   ],
   "source": [
    "byprices = bypro(df2,'price_range')\n",
    "byprices"
   ]
  },
  {
   "cell_type": "code",
   "execution_count": 117,
   "id": "beefd1d8",
   "metadata": {},
   "outputs": [],
   "source": [
    "def mcplot(bydf,figsize=(10,4)):\n",
    "    ax = bydf.plot(y='relative_competitiveness',linestyle='-',marker='o',figsize=figsize)\n",
    "    bydf.plot(y='sales_proportion',kind='bar',alpha=0.8,color='wheat',ax=ax)\n",
    "    plt.show()\n",
    "    "
   ]
  },
  {
   "cell_type": "code",
   "execution_count": 118,
   "id": "b6ee24d8",
   "metadata": {},
   "outputs": [
    {
     "data": {
      "image/png": "[encoded data removed]",
      "text/plain": [
       "<Figure size 720x288 with 1 Axes>"
      ]
     },
     "metadata": {
      "needs_background": "light"
     },
     "output_type": "display_data"
    }
   ],
   "source": [
    "mcplot(byprices)"
   ]
  },
  {
   "cell_type": "markdown",
   "id": "9b86caa2",
   "metadata": {},
   "source": [
    "## 0-50 Price Range Sales Analysis"
   ]
  },
  {
   "cell_type": "code",
   "execution_count": 120,
   "id": "ff2901c4",
   "metadata": {},
   "outputs": [],
   "source": [
    "df4 = df2[df2['price_range']=='0_50']"
   ]
  },
  {
   "cell_type": "code",
   "execution_count": 121,
   "id": "a4d611fd",
   "metadata": {
    "scrolled": true
   },
   "outputs": [
    {
     "data": {
      "text/plain": [
       "<AxesSubplot:ylabel='Frequency'>"
      ]
     },
     "execution_count": 121,
     "metadata": {},
     "output_type": "execute_result"
    },
    {
     "data": {
      "image/png": "[encoded data removed]",
      "text/plain": [
       "<Figure size 432x288 with 1 Axes>"
      ]
     },
     "metadata": {
      "needs_background": "light"
     },
     "output_type": "display_data"
    }
   ],
   "source": [
    "df4['price'].plot.hist()"
   ]
  },
  {
   "cell_type": "code",
   "execution_count": 123,
   "id": "1b553cd7",
   "metadata": {},
   "outputs": [
    {
     "name": "stderr",
     "output_type": "stream",
     "text": [
      "C:\\Users\\ws\\AppData\\Local\\Temp\\ipykernel_12780\\2306084012.py:4: SettingWithCopyWarning:\n",
      "\n",
      "\n",
      "A value is trying to be set on a copy of a slice from a DataFrame.\n",
      "Try using .loc[row_indexer,col_indexer] = value instead\n",
      "\n",
      "See the caveats in the documentation: https://pandas.pydata.org/pandas-docs/stable/user_guide/indexing.html#returning-a-view-versus-a-copy\n",
      "\n"
     ]
    }
   ],
   "source": [
    "# Create custom bin for sales; convert continuous variables to range variables\n",
    "bins_01 = [0,10,20,30,40,50] #分界线\n",
    "labels_01 = ['0_10','10_20','20_30','30_40','40_25'] # bins name\n",
    "df4['price_range_sub'] = pd.cut(df4['price'],bins_01,labels=labels_01,include_lowest=True)"
   ]
  },
  {
   "cell_type": "code",
   "execution_count": 126,
   "id": "9829a669",
   "metadata": {},
   "outputs": [
    {
     "data": {
      "text/html": [
       "<div>\n",
       "<style scoped>\n",
       "    .dataframe tbody tr th:only-of-type {\n",
       "        vertical-align: middle;\n",
       "    }\n",
       "\n",
       "    .dataframe tbody tr th {\n",
       "        vertical-align: top;\n",
       "    }\n",
       "\n",
       "    .dataframe thead th {\n",
       "        text-align: right;\n",
       "    }\n",
       "</style>\n",
       "<table border=\"1\" class=\"dataframe\">\n",
       "  <thead>\n",
       "    <tr style=\"text-align: right;\">\n",
       "      <th></th>\n",
       "      <th>category</th>\n",
       "      <th>product_id</th>\n",
       "      <th>order_number</th>\n",
       "      <th>price</th>\n",
       "      <th>sales</th>\n",
       "      <th>number_rating</th>\n",
       "      <th>number_favorites</th>\n",
       "      <th>price_range</th>\n",
       "    </tr>\n",
       "  </thead>\n",
       "  <tbody>\n",
       "    <tr>\n",
       "      <th>2000</th>\n",
       "      <td>Rodent</td>\n",
       "      <td>566054780243</td>\n",
       "      <td>9976</td>\n",
       "      <td>26.80</td>\n",
       "      <td>267356.8</td>\n",
       "      <td>11901.0</td>\n",
       "      <td>11596</td>\n",
       "      <td>20_30</td>\n",
       "    </tr>\n",
       "    <tr>\n",
       "      <th>2001</th>\n",
       "      <td>Rodent</td>\n",
       "      <td>566054780243</td>\n",
       "      <td>9976</td>\n",
       "      <td>26.80</td>\n",
       "      <td>267356.8</td>\n",
       "      <td>NaN</td>\n",
       "      <td>11596</td>\n",
       "      <td>20_30</td>\n",
       "    </tr>\n",
       "    <tr>\n",
       "      <th>2002</th>\n",
       "      <td>Rodent</td>\n",
       "      <td>572115448996</td>\n",
       "      <td>9945</td>\n",
       "      <td>9.90</td>\n",
       "      <td>98455.5</td>\n",
       "      <td>26442.0</td>\n",
       "      <td>3569</td>\n",
       "      <td>0_10</td>\n",
       "    </tr>\n",
       "    <tr>\n",
       "      <th>2003</th>\n",
       "      <td>Rodent</td>\n",
       "      <td>39868408322</td>\n",
       "      <td>99</td>\n",
       "      <td>29.90</td>\n",
       "      <td>2960.1</td>\n",
       "      <td>20.0</td>\n",
       "      <td>352</td>\n",
       "      <td>20_30</td>\n",
       "    </tr>\n",
       "    <tr>\n",
       "      <th>2004</th>\n",
       "      <td>Rodent</td>\n",
       "      <td>520282897220</td>\n",
       "      <td>99</td>\n",
       "      <td>39.90</td>\n",
       "      <td>3950.1</td>\n",
       "      <td>559.0</td>\n",
       "      <td>1250</td>\n",
       "      <td>30_40</td>\n",
       "    </tr>\n",
       "    <tr>\n",
       "      <th>...</th>\n",
       "      <td>...</td>\n",
       "      <td>...</td>\n",
       "      <td>...</td>\n",
       "      <td>...</td>\n",
       "      <td>...</td>\n",
       "      <td>...</td>\n",
       "      <td>...</td>\n",
       "      <td>...</td>\n",
       "    </tr>\n",
       "    <tr>\n",
       "      <th>3511</th>\n",
       "      <td>Rodent</td>\n",
       "      <td>573793765449</td>\n",
       "      <td>0</td>\n",
       "      <td>17.16</td>\n",
       "      <td>NaN</td>\n",
       "      <td>6.0</td>\n",
       "      <td>0</td>\n",
       "      <td>10_20</td>\n",
       "    </tr>\n",
       "    <tr>\n",
       "      <th>3514</th>\n",
       "      <td>Rodent</td>\n",
       "      <td>36825350895</td>\n",
       "      <td>0</td>\n",
       "      <td>0.60</td>\n",
       "      <td>NaN</td>\n",
       "      <td>10.0</td>\n",
       "      <td>63</td>\n",
       "      <td>0_10</td>\n",
       "    </tr>\n",
       "    <tr>\n",
       "      <th>3518</th>\n",
       "      <td>Rodent</td>\n",
       "      <td>573118678210</td>\n",
       "      <td>0</td>\n",
       "      <td>22.00</td>\n",
       "      <td>NaN</td>\n",
       "      <td>3.0</td>\n",
       "      <td>0</td>\n",
       "      <td>20_30</td>\n",
       "    </tr>\n",
       "    <tr>\n",
       "      <th>3519</th>\n",
       "      <td>Rodent</td>\n",
       "      <td>550586926422</td>\n",
       "      <td>0</td>\n",
       "      <td>38.00</td>\n",
       "      <td>NaN</td>\n",
       "      <td>0.0</td>\n",
       "      <td>1</td>\n",
       "      <td>30_40</td>\n",
       "    </tr>\n",
       "    <tr>\n",
       "      <th>3521</th>\n",
       "      <td>Rodent</td>\n",
       "      <td>550586926422</td>\n",
       "      <td>0</td>\n",
       "      <td>38.00</td>\n",
       "      <td>NaN</td>\n",
       "      <td>0.0</td>\n",
       "      <td>1</td>\n",
       "      <td>30_40</td>\n",
       "    </tr>\n",
       "  </tbody>\n",
       "</table>\n",
       "<p>1138 rows × 8 columns</p>\n",
       "</div>"
      ],
      "text/plain": [
       "     category    product_id  order_number  price     sales  number_rating  \\\n",
       "2000   Rodent  566054780243          9976  26.80  267356.8        11901.0   \n",
       "2001   Rodent  566054780243          9976  26.80  267356.8            NaN   \n",
       "2002   Rodent  572115448996          9945   9.90   98455.5        26442.0   \n",
       "2003   Rodent   39868408322            99  29.90    2960.1           20.0   \n",
       "2004   Rodent  520282897220            99  39.90    3950.1          559.0   \n",
       "...       ...           ...           ...    ...       ...            ...   \n",
       "3511   Rodent  573793765449             0  17.16       NaN            6.0   \n",
       "3514   Rodent   36825350895             0   0.60       NaN           10.0   \n",
       "3518   Rodent  573118678210             0  22.00       NaN            3.0   \n",
       "3519   Rodent  550586926422             0  38.00       NaN            0.0   \n",
       "3521   Rodent  550586926422             0  38.00       NaN            0.0   \n",
       "\n",
       "      number_favorites price_range  \n",
       "2000             11596       20_30  \n",
       "2001             11596       20_30  \n",
       "2002              3569        0_10  \n",
       "2003               352       20_30  \n",
       "2004              1250       30_40  \n",
       "...                ...         ...  \n",
       "3511                 0       10_20  \n",
       "3514                63        0_10  \n",
       "3518                 0       20_30  \n",
       "3519                 1       30_40  \n",
       "3521                 1       30_40  \n",
       "\n",
       "[1138 rows x 8 columns]"
      ]
     },
     "execution_count": 126,
     "metadata": {},
     "output_type": "execute_result"
    }
   ],
   "source": [
    "df4"
   ]
  },
  {
   "cell_type": "code",
   "execution_count": 124,
   "id": "98842538",
   "metadata": {},
   "outputs": [
    {
     "data": {
      "text/html": [
       "<div>\n",
       "<style scoped>\n",
       "    .dataframe tbody tr th:only-of-type {\n",
       "        vertical-align: middle;\n",
       "    }\n",
       "\n",
       "    .dataframe tbody tr th {\n",
       "        vertical-align: top;\n",
       "    }\n",
       "\n",
       "    .dataframe thead th {\n",
       "        text-align: right;\n",
       "    }\n",
       "</style>\n",
       "<table border=\"1\" class=\"dataframe\">\n",
       "  <thead>\n",
       "    <tr style=\"text-align: right;\">\n",
       "      <th></th>\n",
       "      <th>sales</th>\n",
       "      <th>sales_proportion</th>\n",
       "      <th>number_of_product</th>\n",
       "      <th>product_proportion</th>\n",
       "      <th>average_sales_each_product</th>\n",
       "      <th>relative_competitiveness</th>\n",
       "    </tr>\n",
       "    <tr>\n",
       "      <th>price_range</th>\n",
       "      <th></th>\n",
       "      <th></th>\n",
       "      <th></th>\n",
       "      <th></th>\n",
       "      <th></th>\n",
       "      <th></th>\n",
       "    </tr>\n",
       "  </thead>\n",
       "  <tbody>\n",
       "    <tr>\n",
       "      <th>10_20</th>\n",
       "      <td>8102634.14</td>\n",
       "      <td>0.534401</td>\n",
       "      <td>272</td>\n",
       "      <td>0.318501</td>\n",
       "      <td>29789.096103</td>\n",
       "      <td>0.000000</td>\n",
       "    </tr>\n",
       "    <tr>\n",
       "      <th>20_30</th>\n",
       "      <td>4969620.92</td>\n",
       "      <td>0.327766</td>\n",
       "      <td>278</td>\n",
       "      <td>0.325527</td>\n",
       "      <td>17876.334245</td>\n",
       "      <td>0.411674</td>\n",
       "    </tr>\n",
       "    <tr>\n",
       "      <th>40_25</th>\n",
       "      <td>707568.49</td>\n",
       "      <td>0.046667</td>\n",
       "      <td>40</td>\n",
       "      <td>0.046838</td>\n",
       "      <td>17689.212250</td>\n",
       "      <td>0.418141</td>\n",
       "    </tr>\n",
       "    <tr>\n",
       "      <th>30_40</th>\n",
       "      <td>1240874.19</td>\n",
       "      <td>0.081841</td>\n",
       "      <td>98</td>\n",
       "      <td>0.114754</td>\n",
       "      <td>12661.981531</td>\n",
       "      <td>0.591869</td>\n",
       "    </tr>\n",
       "    <tr>\n",
       "      <th>0_10</th>\n",
       "      <td>141388.77</td>\n",
       "      <td>0.009325</td>\n",
       "      <td>166</td>\n",
       "      <td>0.194379</td>\n",
       "      <td>851.739578</td>\n",
       "      <td>1.000000</td>\n",
       "    </tr>\n",
       "  </tbody>\n",
       "</table>\n",
       "</div>"
      ],
      "text/plain": [
       "                  sales  sales_proportion  number_of_product  \\\n",
       "price_range                                                    \n",
       "10_20        8102634.14          0.534401                272   \n",
       "20_30        4969620.92          0.327766                278   \n",
       "40_25         707568.49          0.046667                 40   \n",
       "30_40        1240874.19          0.081841                 98   \n",
       "0_10          141388.77          0.009325                166   \n",
       "\n",
       "             product_proportion  average_sales_each_product  \\\n",
       "price_range                                                   \n",
       "10_20                  0.318501                29789.096103   \n",
       "20_30                  0.325527                17876.334245   \n",
       "40_25                  0.046838                17689.212250   \n",
       "30_40                  0.114754                12661.981531   \n",
       "0_10                   0.194379                  851.739578   \n",
       "\n",
       "             relative_competitiveness  \n",
       "price_range                            \n",
       "10_20                        0.000000  \n",
       "20_30                        0.411674  \n",
       "40_25                        0.418141  \n",
       "30_40                        0.591869  \n",
       "0_10                         1.000000  "
      ]
     },
     "execution_count": 124,
     "metadata": {},
     "output_type": "execute_result"
    }
   ],
   "source": [
    "byprices_01 = bypro(df4,'price_range_sub')\n",
    "byprices_01"
   ]
  },
  {
   "cell_type": "code",
   "execution_count": 125,
   "id": "f3c4ee18",
   "metadata": {},
   "outputs": [
    {
     "data": {
      "image/png": "[encoded data removed]",
      "text/plain": [
       "<Figure size 720x288 with 1 Axes>"
      ]
     },
     "metadata": {
      "needs_background": "light"
     },
     "output_type": "display_data"
    }
   ],
   "source": [
    "mcplot(byprices_01)"
   ]
  },
  {
   "cell_type": "code",
   "execution_count": null,
   "id": "8f7a7ce6",
   "metadata": {},
   "outputs": [],
   "source": []
  }
 ],
 "metadata": {
  "kernelspec": {
   "display_name": "Python 3 (ipykernel)",
   "language": "python",
   "name": "python3"
  },
  "language_info": {
   "codemirror_mode": {
    "name": "ipython",
    "version": 3
   },
   "file_extension": ".py",
   "mimetype": "text/x-python",
   "name": "python",
   "nbconvert_exporter": "python",
   "pygments_lexer": "ipython3",
   "version": "3.10.4"
  }
 },
 "nbformat": 4,
 "nbformat_minor": 5
}
